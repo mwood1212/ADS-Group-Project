{
 "cells": [
  {
   "cell_type": "code",
   "execution_count": 31,
   "metadata": {},
   "outputs": [],
   "source": [
    "import nltk\n",
    "import nltk.sentiment.util\n",
    "from nltk.corpus import stopwords\n",
    "stop_words = stopwords.words('english')\n",
    "stop_words.extend(['br','[', ',', '\\\\', '.', '!', '?', ']', '<', '>', '$', '£', '/', '*', '(', ')', '%', '^', '&', '-', '_', '=', '+', '|', '#','~',';',':','...'])\n",
    "\n",
    "def remove_stopwords(texts):\n",
    "    return [[(te,ta) for (te,ta) in doc if (te.replace(\"_NEG\",\"\") not in stop_words)] for doc in texts]"
   ]
  },
  {
   "cell_type": "code",
   "execution_count": 32,
   "metadata": {},
   "outputs": [],
   "source": [
    "def tag(texts):\n",
    "    #tokens = list(map(nltk.word_tokenize, texts))\n",
    "    tagged = [nltk.pos_tag(text, tagset='universal') for text in texts]\n",
    "    negated_tokens = list(map(nltk.sentiment.util.mark_negation, texts))\n",
    "    negated_tagged = [[(negated_tokens[i][j], tagged[i][j][1]) for j in range(len(texts[i]))] for i in range(len(texts))]\n",
    "    return negated_tagged"
   ]
  },
  {
   "cell_type": "code",
   "execution_count": 33,
   "metadata": {},
   "outputs": [
    {
     "data": {
      "text/plain": [
       "[[('salt', 'NOUN'), ('chocolate_NEG', 'NOUN'), ('water_NEG', 'NOUN')]]"
      ]
     },
     "execution_count": 33,
     "metadata": {},
     "output_type": "execute_result"
    }
   ],
   "source": [
    "negated_tagged = tag([[\"br\",\"salt\",\"not\",\"br\",\"chocolate\",\"in\",\"water\",\"not\",\"not\",\"/\",\"br\"]])\n",
    "\n",
    "data_words = remove_stopwords(negated_tagged)\n",
    "data_words"
   ]
  },
  {
   "cell_type": "code",
   "execution_count": 29,
   "metadata": {},
   "outputs": [
    {
     "data": {
      "text/plain": [
       "['[',\n",
       " ',',\n",
       " '\\\\',\n",
       " '.',\n",
       " '!',\n",
       " '?',\n",
       " ']',\n",
       " '<',\n",
       " '>',\n",
       " '$',\n",
       " '£',\n",
       " '/',\n",
       " '*',\n",
       " '(',\n",
       " ')',\n",
       " '%',\n",
       " '^',\n",
       " '&',\n",
       " '-',\n",
       " '_',\n",
       " '=',\n",
       " '+',\n",
       " '|',\n",
       " '#',\n",
       " '~',\n",
       " ';',\n",
       " ':']"
      ]
     },
     "execution_count": 29,
     "metadata": {},
     "output_type": "execute_result"
    }
   ],
   "source": []
  },
  {
   "cell_type": "code",
   "execution_count": null,
   "metadata": {},
   "outputs": [],
   "source": []
  }
 ],
 "metadata": {
  "kernelspec": {
   "display_name": "Python 3",
   "language": "python",
   "name": "python3"
  },
  "language_info": {
   "codemirror_mode": {
    "name": "ipython",
    "version": 3
   },
   "file_extension": ".py",
   "mimetype": "text/x-python",
   "name": "python",
   "nbconvert_exporter": "python",
   "pygments_lexer": "ipython3",
   "version": "3.8.5"
  }
 },
 "nbformat": 4,
 "nbformat_minor": 4
}

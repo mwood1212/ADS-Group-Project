{
 "cells": [
  {
   "cell_type": "markdown",
   "metadata": {},
   "source": [
    "https://s3.amazonaws.com/amazon-reviews-pds/readme.html\n",
    "\n",
    "```\n",
    "\n",
    "DATA COLUMNS:\n",
    "marketplace       - 2 letter country code of the marketplace where the review was written.\n",
    "customer_id       - Random identifier that can be used to aggregate reviews written by a single author.\n",
    "review_id         - The unique ID of the review.\n",
    "product_id        - The unique Product ID the review pertains to. In the multilingual dataset the reviews\n",
    "                    for the same product in different countries can be grouped by the same product_id.\n",
    "product_parent    - Random identifier that can be used to aggregate reviews for the same product.\n",
    "product_title     - Title of the product.\n",
    "product_category  - Broad product category that can be used to group reviews \n",
    "                    (also used to group the dataset into coherent parts).\n",
    "star_rating       - The 1-5 star rating of the review.\n",
    "helpful_votes     - Number of helpful votes.\n",
    "total_votes       - Number of total votes the review received.\n",
    "vine              - Review was written as part of the Vine program.\n",
    "verified_purchase - The review is on a verified purchase.\n",
    "review_headline   - The title of the review.\n",
    "review_body       - The review text.\n",
    "review_date       - The date the review was written.\n",
    "```"
   ]
  },
  {
   "cell_type": "code",
   "execution_count": 1,
   "metadata": {
    "ExecuteTime": {
     "end_time": "2021-04-08T09:53:12.569655Z",
     "start_time": "2021-04-08T09:53:12.069836Z"
    },
    "execution": {
     "iopub.execute_input": "2021-04-22T01:38:38.972591Z",
     "iopub.status.busy": "2021-04-22T01:38:38.972052Z",
     "iopub.status.idle": "2021-04-22T01:38:40.353907Z",
     "shell.execute_reply": "2021-04-22T01:38:40.353395Z",
     "shell.execute_reply.started": "2021-04-22T01:38:38.972544Z"
    },
    "scrolled": true,
    "tags": []
   },
   "outputs": [
    {
     "name": "stderr",
     "output_type": "stream",
     "text": [
      "b'Skipping line 1925: expected 15 fields, saw 22\\nSkipping line 1977: expected 15 fields, saw 22\\nSkipping line 35265: expected 15 fields, saw 22\\n'\n"
     ]
    }
   ],
   "source": [
    "import pandas as pd\n",
    "import numpy as np\n",
    "\n",
    "df = pd.read_csv('amazon_reviews_us_Grocery_v1_00.tsv.gz', \n",
    "                 nrows=40000, sep='\\t', error_bad_lines=False)\n",
    "\n",
    "df = df.drop(['marketplace', 'product_category'], axis=1)\n",
    "\n",
    "df = df[~df['review_body'].isnull()]\n",
    "\n",
    "df['review_body'] = df['review_headline'] + '. ' + df['review_body']\n",
    "\n",
    "df = df[df['review_body'].apply(len) > 40]"
   ]
  },
  {
   "cell_type": "code",
   "execution_count": 2,
   "metadata": {
    "ExecuteTime": {
     "end_time": "2021-04-08T09:53:13.013220Z",
     "start_time": "2021-04-08T09:53:12.994563Z"
    },
    "execution": {
     "iopub.execute_input": "2021-04-22T01:38:40.410085Z",
     "iopub.status.busy": "2021-04-22T01:38:40.409557Z",
     "iopub.status.idle": "2021-04-22T01:38:40.426493Z",
     "shell.execute_reply": "2021-04-22T01:38:40.425980Z",
     "shell.execute_reply.started": "2021-04-22T01:38:40.410038Z"
    },
    "scrolled": true,
    "tags": []
   },
   "outputs": [
    {
     "data": {
      "text/html": [
       "<div>\n",
       "<style scoped>\n",
       "    .dataframe tbody tr th:only-of-type {\n",
       "        vertical-align: middle;\n",
       "    }\n",
       "\n",
       "    .dataframe tbody tr th {\n",
       "        vertical-align: top;\n",
       "    }\n",
       "\n",
       "    .dataframe thead th {\n",
       "        text-align: right;\n",
       "    }\n",
       "</style>\n",
       "<table border=\"1\" class=\"dataframe\">\n",
       "  <thead>\n",
       "    <tr style=\"text-align: right;\">\n",
       "      <th></th>\n",
       "      <th>customer_id</th>\n",
       "      <th>review_id</th>\n",
       "      <th>product_id</th>\n",
       "      <th>product_parent</th>\n",
       "      <th>product_title</th>\n",
       "      <th>star_rating</th>\n",
       "      <th>helpful_votes</th>\n",
       "      <th>total_votes</th>\n",
       "      <th>vine</th>\n",
       "      <th>verified_purchase</th>\n",
       "      <th>review_headline</th>\n",
       "      <th>review_body</th>\n",
       "      <th>review_date</th>\n",
       "    </tr>\n",
       "  </thead>\n",
       "  <tbody>\n",
       "    <tr>\n",
       "      <td>0</td>\n",
       "      <td>42521656</td>\n",
       "      <td>R26MV8D0KG6QI6</td>\n",
       "      <td>B000SAQCWC</td>\n",
       "      <td>159713740</td>\n",
       "      <td>The Cravings Place Chocolate Chunk Cookie Mix,...</td>\n",
       "      <td>5</td>\n",
       "      <td>0</td>\n",
       "      <td>0</td>\n",
       "      <td>N</td>\n",
       "      <td>Y</td>\n",
       "      <td>Using these for years - love them.</td>\n",
       "      <td>Using these for years - love them.. As a famil...</td>\n",
       "      <td>2015-08-31</td>\n",
       "    </tr>\n",
       "    <tr>\n",
       "      <td>1</td>\n",
       "      <td>12049833</td>\n",
       "      <td>R1OF8GP57AQ1A0</td>\n",
       "      <td>B00509LVIQ</td>\n",
       "      <td>138680402</td>\n",
       "      <td>Mauna Loa Macadamias, 11 Ounce Packages</td>\n",
       "      <td>5</td>\n",
       "      <td>0</td>\n",
       "      <td>0</td>\n",
       "      <td>N</td>\n",
       "      <td>Y</td>\n",
       "      <td>Wonderful</td>\n",
       "      <td>Wonderful. My favorite nut.  Creamy, crunchy, ...</td>\n",
       "      <td>2015-08-31</td>\n",
       "    </tr>\n",
       "    <tr>\n",
       "      <td>2</td>\n",
       "      <td>107642</td>\n",
       "      <td>R3VDC1QB6MC4ZZ</td>\n",
       "      <td>B00KHXESLC</td>\n",
       "      <td>252021703</td>\n",
       "      <td>Organic Matcha Green Tea Powder - 100% Pure Ma...</td>\n",
       "      <td>5</td>\n",
       "      <td>0</td>\n",
       "      <td>0</td>\n",
       "      <td>N</td>\n",
       "      <td>N</td>\n",
       "      <td>Five Stars</td>\n",
       "      <td>Five Stars. This green tea tastes so good! My ...</td>\n",
       "      <td>2015-08-31</td>\n",
       "    </tr>\n",
       "    <tr>\n",
       "      <td>3</td>\n",
       "      <td>6042304</td>\n",
       "      <td>R12FA3DCF8F9ER</td>\n",
       "      <td>B000F8JIIC</td>\n",
       "      <td>752728342</td>\n",
       "      <td>15oz Raspberry Lyons Designer Dessert Syrup Sauce</td>\n",
       "      <td>5</td>\n",
       "      <td>0</td>\n",
       "      <td>0</td>\n",
       "      <td>N</td>\n",
       "      <td>Y</td>\n",
       "      <td>Five Stars</td>\n",
       "      <td>Five Stars. I love Melissa's brand but this is...</td>\n",
       "      <td>2015-08-31</td>\n",
       "    </tr>\n",
       "    <tr>\n",
       "      <td>6</td>\n",
       "      <td>32778285</td>\n",
       "      <td>R1S1XSG4ZCHDGS</td>\n",
       "      <td>B00BCNSTRA</td>\n",
       "      <td>578681693</td>\n",
       "      <td>Larabar uber, 1.42 Ounce (Pack of 15)</td>\n",
       "      <td>5</td>\n",
       "      <td>1</td>\n",
       "      <td>1</td>\n",
       "      <td>N</td>\n",
       "      <td>Y</td>\n",
       "      <td>Five Stars</td>\n",
       "      <td>Five Stars. Love these bars, but have to watch...</td>\n",
       "      <td>2015-08-31</td>\n",
       "    </tr>\n",
       "  </tbody>\n",
       "</table>\n",
       "</div>"
      ],
      "text/plain": [
       "   customer_id       review_id  product_id  product_parent  \\\n",
       "0     42521656  R26MV8D0KG6QI6  B000SAQCWC       159713740   \n",
       "1     12049833  R1OF8GP57AQ1A0  B00509LVIQ       138680402   \n",
       "2       107642  R3VDC1QB6MC4ZZ  B00KHXESLC       252021703   \n",
       "3      6042304  R12FA3DCF8F9ER  B000F8JIIC       752728342   \n",
       "6     32778285  R1S1XSG4ZCHDGS  B00BCNSTRA       578681693   \n",
       "\n",
       "                                       product_title  star_rating  \\\n",
       "0  The Cravings Place Chocolate Chunk Cookie Mix,...            5   \n",
       "1            Mauna Loa Macadamias, 11 Ounce Packages            5   \n",
       "2  Organic Matcha Green Tea Powder - 100% Pure Ma...            5   \n",
       "3  15oz Raspberry Lyons Designer Dessert Syrup Sauce            5   \n",
       "6              Larabar uber, 1.42 Ounce (Pack of 15)            5   \n",
       "\n",
       "   helpful_votes  total_votes vine verified_purchase  \\\n",
       "0              0            0    N                 Y   \n",
       "1              0            0    N                 Y   \n",
       "2              0            0    N                 N   \n",
       "3              0            0    N                 Y   \n",
       "6              1            1    N                 Y   \n",
       "\n",
       "                      review_headline  \\\n",
       "0  Using these for years - love them.   \n",
       "1                           Wonderful   \n",
       "2                          Five Stars   \n",
       "3                          Five Stars   \n",
       "6                          Five Stars   \n",
       "\n",
       "                                         review_body review_date  \n",
       "0  Using these for years - love them.. As a famil...  2015-08-31  \n",
       "1  Wonderful. My favorite nut.  Creamy, crunchy, ...  2015-08-31  \n",
       "2  Five Stars. This green tea tastes so good! My ...  2015-08-31  \n",
       "3  Five Stars. I love Melissa's brand but this is...  2015-08-31  \n",
       "6  Five Stars. Love these bars, but have to watch...  2015-08-31  "
      ]
     },
     "execution_count": 2,
     "metadata": {},
     "output_type": "execute_result"
    }
   ],
   "source": [
    "df.head(5)"
   ]
  },
  {
   "cell_type": "markdown",
   "metadata": {},
   "source": [
    "- any user created >5 reviews in a single day\n",
    "- any user created >=3 reviews with average star rating <=2\n",
    "- any reviews appeared twice or more (reviews with same content)"
   ]
  },
  {
   "cell_type": "markdown",
   "metadata": {},
   "source": [
    "# manipulated/useless reviews"
   ]
  },
  {
   "cell_type": "code",
   "execution_count": 3,
   "metadata": {
    "execution": {
     "iopub.execute_input": "2021-04-22T01:40:32.305017Z",
     "iopub.status.busy": "2021-04-22T01:40:32.304743Z",
     "iopub.status.idle": "2021-04-22T01:40:32.308463Z",
     "shell.execute_reply": "2021-04-22T01:40:32.307769Z",
     "shell.execute_reply.started": "2021-04-22T01:40:32.304994Z"
    },
    "tags": []
   },
   "outputs": [],
   "source": [
    "bad_customer = []"
   ]
  },
  {
   "cell_type": "code",
   "execution_count": 4,
   "metadata": {
    "execution": {
     "iopub.execute_input": "2021-04-22T01:40:32.646676Z",
     "iopub.status.busy": "2021-04-22T01:40:32.646158Z",
     "iopub.status.idle": "2021-04-22T01:40:32.841274Z",
     "shell.execute_reply": "2021-04-22T01:40:32.840670Z",
     "shell.execute_reply.started": "2021-04-22T01:40:32.646630Z"
    },
    "tags": []
   },
   "outputs": [
    {
     "data": {
      "text/html": [
       "<div>\n",
       "<style scoped>\n",
       "    .dataframe tbody tr th:only-of-type {\n",
       "        vertical-align: middle;\n",
       "    }\n",
       "\n",
       "    .dataframe tbody tr th {\n",
       "        vertical-align: top;\n",
       "    }\n",
       "\n",
       "    .dataframe thead th {\n",
       "        text-align: right;\n",
       "    }\n",
       "</style>\n",
       "<table border=\"1\" class=\"dataframe\">\n",
       "  <thead>\n",
       "    <tr style=\"text-align: right;\">\n",
       "      <th></th>\n",
       "      <th>customer_id</th>\n",
       "      <th>review_date</th>\n",
       "      <th>review_count</th>\n",
       "    </tr>\n",
       "  </thead>\n",
       "  <tbody>\n",
       "    <tr>\n",
       "      <td>0</td>\n",
       "      <td>10805</td>\n",
       "      <td>2015-08-19</td>\n",
       "      <td>6</td>\n",
       "    </tr>\n",
       "    <tr>\n",
       "      <td>9985</td>\n",
       "      <td>20613913</td>\n",
       "      <td>2015-08-25</td>\n",
       "      <td>6</td>\n",
       "    </tr>\n",
       "    <tr>\n",
       "      <td>10787</td>\n",
       "      <td>22476158</td>\n",
       "      <td>2015-08-21</td>\n",
       "      <td>6</td>\n",
       "    </tr>\n",
       "    <tr>\n",
       "      <td>11026</td>\n",
       "      <td>22943881</td>\n",
       "      <td>2015-08-22</td>\n",
       "      <td>6</td>\n",
       "    </tr>\n",
       "    <tr>\n",
       "      <td>11169</td>\n",
       "      <td>23220887</td>\n",
       "      <td>2015-08-22</td>\n",
       "      <td>6</td>\n",
       "    </tr>\n",
       "    <tr>\n",
       "      <td>...</td>\n",
       "      <td>...</td>\n",
       "      <td>...</td>\n",
       "      <td>...</td>\n",
       "    </tr>\n",
       "    <tr>\n",
       "      <td>16492</td>\n",
       "      <td>36290808</td>\n",
       "      <td>2015-08-31</td>\n",
       "      <td>15</td>\n",
       "    </tr>\n",
       "    <tr>\n",
       "      <td>16911</td>\n",
       "      <td>37293783</td>\n",
       "      <td>2015-08-19</td>\n",
       "      <td>17</td>\n",
       "    </tr>\n",
       "    <tr>\n",
       "      <td>1093</td>\n",
       "      <td>1535682</td>\n",
       "      <td>2015-08-28</td>\n",
       "      <td>17</td>\n",
       "    </tr>\n",
       "    <tr>\n",
       "      <td>10027</td>\n",
       "      <td>20674418</td>\n",
       "      <td>2015-08-29</td>\n",
       "      <td>18</td>\n",
       "    </tr>\n",
       "    <tr>\n",
       "      <td>8420</td>\n",
       "      <td>17162238</td>\n",
       "      <td>2015-08-24</td>\n",
       "      <td>29</td>\n",
       "    </tr>\n",
       "  </tbody>\n",
       "</table>\n",
       "<p>118 rows × 3 columns</p>\n",
       "</div>"
      ],
      "text/plain": [
       "       customer_id review_date  review_count\n",
       "0            10805  2015-08-19             6\n",
       "9985      20613913  2015-08-25             6\n",
       "10787     22476158  2015-08-21             6\n",
       "11026     22943881  2015-08-22             6\n",
       "11169     23220887  2015-08-22             6\n",
       "...            ...         ...           ...\n",
       "16492     36290808  2015-08-31            15\n",
       "16911     37293783  2015-08-19            17\n",
       "1093       1535682  2015-08-28            17\n",
       "10027     20674418  2015-08-29            18\n",
       "8420      17162238  2015-08-24            29\n",
       "\n",
       "[118 rows x 3 columns]"
      ]
     },
     "execution_count": 4,
     "metadata": {},
     "output_type": "execute_result"
    }
   ],
   "source": [
    "customer_count = df.groupby(['customer_id', 'review_date'])['product_id'].count().reset_index()\n",
    "customer_count.columns = ['customer_id', 'review_date', 'review_count']\n",
    "\n",
    "customer_count = customer_count[customer_count['review_count'] > 5]\n",
    "customer_count.sort_values(by='review_count')\n",
    "# number of reviews created by each user"
   ]
  },
  {
   "cell_type": "code",
   "execution_count": 5,
   "metadata": {
    "execution": {
     "iopub.execute_input": "2021-04-22T01:40:33.255637Z",
     "iopub.status.busy": "2021-04-22T01:40:33.255111Z",
     "iopub.status.idle": "2021-04-22T01:40:33.260850Z",
     "shell.execute_reply": "2021-04-22T01:40:33.259679Z",
     "shell.execute_reply.started": "2021-04-22T01:40:33.255590Z"
    },
    "tags": []
   },
   "outputs": [
    {
     "data": {
      "text/plain": [
       "118"
      ]
     },
     "execution_count": 5,
     "metadata": {},
     "output_type": "execute_result"
    }
   ],
   "source": [
    "bad_customer += list(customer_count['customer_id'])\n",
    "len(bad_customer)"
   ]
  },
  {
   "cell_type": "code",
   "execution_count": 6,
   "metadata": {
    "execution": {
     "iopub.execute_input": "2021-04-22T01:40:36.486715Z",
     "iopub.status.busy": "2021-04-22T01:40:36.486187Z",
     "iopub.status.idle": "2021-04-22T01:40:41.639851Z",
     "shell.execute_reply": "2021-04-22T01:40:41.639306Z",
     "shell.execute_reply.started": "2021-04-22T01:40:36.486670Z"
    },
    "tags": []
   },
   "outputs": [],
   "source": [
    "from sklearn.feature_extraction.text import TfidfVectorizer\n",
    "tfidf = TfidfVectorizer(max_features=5000)\n",
    "review_tfidf = tfidf.fit_transform(df['review_body'])"
   ]
  },
  {
   "cell_type": "code",
   "execution_count": 7,
   "metadata": {
    "execution": {
     "iopub.execute_input": "2021-04-22T01:43:26.419568Z",
     "iopub.status.busy": "2021-04-22T01:43:26.418991Z",
     "iopub.status.idle": "2021-04-22T01:43:49.320070Z",
     "shell.execute_reply": "2021-04-22T01:43:49.318959Z",
     "shell.execute_reply.started": "2021-04-22T01:43:26.419519Z"
    },
    "tags": []
   },
   "outputs": [
    {
     "name": "stdout",
     "output_type": "stream",
     "text": [
      "0\n",
      "1\n",
      "2\n",
      "3\n",
      "4\n",
      "5\n",
      "6\n",
      "7\n",
      "8\n",
      "9\n",
      "10\n",
      "11\n",
      "12\n",
      "13\n",
      "14\n",
      "15\n",
      "16\n",
      "17\n",
      "18\n",
      "19\n",
      "20\n",
      "21\n",
      "22\n",
      "23\n",
      "24\n",
      "25\n",
      "26\n",
      "27\n",
      "28\n",
      "29\n",
      "30\n"
     ]
    }
   ],
   "source": [
    "IDX = 0\n",
    "\n",
    "# 1000 reviews per time\n",
    "for IDX_start in range(int(review_tfidf.shape[0]/1000) +1):\n",
    "    print(IDX_start)\n",
    "    \n",
    "    idss = np.dot(\n",
    "        review_tfidf[\n",
    "            IDX_start*1000:\n",
    "            (IDX_start+1)*1000\n",
    "        ], \n",
    "        review_tfidf.T\n",
    "    ).toarray()\n",
    "    # 0， 1\n",
    "    \n",
    "\n",
    "    for ids in idss:\n",
    "        IDX += 1\n",
    "\n",
    "        if len(np.where(ids >= 0.99)[0])==1:\n",
    "            continue\n",
    "        \n",
    "        # print(np.where(ids >= 0.99)[0])\n",
    "        \n",
    "        df.iloc[np.where(ids >= 0.99)[0]][['customer_id', 'review_id', 'star_rating', 'review_body']].sort_values(by='star_rating').to_csv('t.csv', index=None, header=None, mode='a')\n",
    "        \n",
    "        # bad_list.extend(list(np.where(ids >= 0.99)[0]))\n",
    "        bad_customer += list(df.iloc[np.where(ids >= 0.99)[0]]['customer_id'])\n",
    "        # A -> B\n",
    "        # B -> A"
   ]
  },
  {
   "cell_type": "code",
   "execution_count": 8,
   "metadata": {
    "execution": {
     "iopub.execute_input": "2021-04-20T10:25:29.336612Z",
     "iopub.status.busy": "2021-04-20T10:25:29.336035Z",
     "iopub.status.idle": "2021-04-20T10:25:29.346493Z",
     "shell.execute_reply": "2021-04-20T10:25:29.345759Z",
     "shell.execute_reply.started": "2021-04-20T10:25:29.336564Z"
    }
   },
   "outputs": [],
   "source": [
    " df.iloc[np.where(ids >= 0.99)[0]][\n",
    "     ['customer_id', 'review_id', 'review_body']].to_csv('t.csv', index=None, header=None, mode='a')"
   ]
  },
  {
   "cell_type": "code",
   "execution_count": 9,
   "metadata": {
    "execution": {
     "iopub.execute_input": "2021-04-22T01:45:12.405178Z",
     "iopub.status.busy": "2021-04-22T01:45:12.404609Z",
     "iopub.status.idle": "2021-04-22T01:45:12.411491Z",
     "shell.execute_reply": "2021-04-22T01:45:12.410941Z",
     "shell.execute_reply.started": "2021-04-22T01:45:12.405131Z"
    },
    "tags": []
   },
   "outputs": [
    {
     "data": {
      "text/plain": [
       "2768"
      ]
     },
     "execution_count": 9,
     "metadata": {},
     "output_type": "execute_result"
    }
   ],
   "source": [
    "len(bad_customer)"
   ]
  },
  {
   "cell_type": "code",
   "execution_count": 10,
   "metadata": {
    "execution": {
     "iopub.execute_input": "2021-04-22T01:45:16.615114Z",
     "iopub.status.busy": "2021-04-22T01:45:16.614585Z",
     "iopub.status.idle": "2021-04-22T01:45:16.636351Z",
     "shell.execute_reply": "2021-04-22T01:45:16.635855Z",
     "shell.execute_reply.started": "2021-04-22T01:45:16.615067Z"
    },
    "tags": []
   },
   "outputs": [],
   "source": [
    "customer_rate_mean = df.groupby(['customer_id'])['star_rating'].mean()\n",
    "customer_rate_count = df['customer_id'].value_counts()\n",
    "\n",
    "customer_rate_mean = customer_rate_mean.reset_index()\n",
    "customer_rate_mean.columns = ['customer_id', 'rating']\n",
    "\n",
    "customer_rate_count = customer_rate_count.reset_index()\n",
    "customer_rate_count.columns = ['customer_id', 'count']"
   ]
  },
  {
   "cell_type": "code",
   "execution_count": 11,
   "metadata": {
    "execution": {
     "iopub.execute_input": "2021-04-22T01:45:17.936745Z",
     "iopub.status.busy": "2021-04-22T01:45:17.936200Z",
     "iopub.status.idle": "2021-04-22T01:45:17.959236Z",
     "shell.execute_reply": "2021-04-22T01:45:17.958645Z",
     "shell.execute_reply.started": "2021-04-22T01:45:17.936696Z"
    },
    "tags": []
   },
   "outputs": [
    {
     "data": {
      "text/html": [
       "<div>\n",
       "<style scoped>\n",
       "    .dataframe tbody tr th:only-of-type {\n",
       "        vertical-align: middle;\n",
       "    }\n",
       "\n",
       "    .dataframe tbody tr th {\n",
       "        vertical-align: top;\n",
       "    }\n",
       "\n",
       "    .dataframe thead th {\n",
       "        text-align: right;\n",
       "    }\n",
       "</style>\n",
       "<table border=\"1\" class=\"dataframe\">\n",
       "  <thead>\n",
       "    <tr style=\"text-align: right;\">\n",
       "      <th></th>\n",
       "      <th>customer_id</th>\n",
       "      <th>rating</th>\n",
       "      <th>count</th>\n",
       "    </tr>\n",
       "  </thead>\n",
       "  <tbody>\n",
       "    <tr>\n",
       "      <td>8251</td>\n",
       "      <td>17162238</td>\n",
       "      <td>4.632653</td>\n",
       "      <td>49</td>\n",
       "    </tr>\n",
       "    <tr>\n",
       "      <td>15292</td>\n",
       "      <td>34247947</td>\n",
       "      <td>4.906250</td>\n",
       "      <td>32</td>\n",
       "    </tr>\n",
       "    <tr>\n",
       "      <td>15696</td>\n",
       "      <td>35178127</td>\n",
       "      <td>4.454545</td>\n",
       "      <td>22</td>\n",
       "    </tr>\n",
       "    <tr>\n",
       "      <td>9824</td>\n",
       "      <td>20674418</td>\n",
       "      <td>5.000000</td>\n",
       "      <td>18</td>\n",
       "    </tr>\n",
       "    <tr>\n",
       "      <td>16560</td>\n",
       "      <td>37293783</td>\n",
       "      <td>5.000000</td>\n",
       "      <td>17</td>\n",
       "    </tr>\n",
       "    <tr>\n",
       "      <td>...</td>\n",
       "      <td>...</td>\n",
       "      <td>...</td>\n",
       "      <td>...</td>\n",
       "    </tr>\n",
       "    <tr>\n",
       "      <td>9496</td>\n",
       "      <td>19967776</td>\n",
       "      <td>2.000000</td>\n",
       "      <td>1</td>\n",
       "    </tr>\n",
       "    <tr>\n",
       "      <td>9495</td>\n",
       "      <td>19963619</td>\n",
       "      <td>1.000000</td>\n",
       "      <td>1</td>\n",
       "    </tr>\n",
       "    <tr>\n",
       "      <td>9494</td>\n",
       "      <td>19963378</td>\n",
       "      <td>1.000000</td>\n",
       "      <td>1</td>\n",
       "    </tr>\n",
       "    <tr>\n",
       "      <td>9493</td>\n",
       "      <td>19962730</td>\n",
       "      <td>5.000000</td>\n",
       "      <td>1</td>\n",
       "    </tr>\n",
       "    <tr>\n",
       "      <td>12526</td>\n",
       "      <td>27010324</td>\n",
       "      <td>5.000000</td>\n",
       "      <td>1</td>\n",
       "    </tr>\n",
       "  </tbody>\n",
       "</table>\n",
       "<p>25053 rows × 3 columns</p>\n",
       "</div>"
      ],
      "text/plain": [
       "       customer_id    rating  count\n",
       "8251      17162238  4.632653     49\n",
       "15292     34247947  4.906250     32\n",
       "15696     35178127  4.454545     22\n",
       "9824      20674418  5.000000     18\n",
       "16560     37293783  5.000000     17\n",
       "...            ...       ...    ...\n",
       "9496      19967776  2.000000      1\n",
       "9495      19963619  1.000000      1\n",
       "9494      19963378  1.000000      1\n",
       "9493      19962730  5.000000      1\n",
       "12526     27010324  5.000000      1\n",
       "\n",
       "[25053 rows x 3 columns]"
      ]
     },
     "execution_count": 11,
     "metadata": {},
     "output_type": "execute_result"
    }
   ],
   "source": [
    "customer_df = pd.merge(customer_rate_mean, customer_rate_count, on='customer_id')\n",
    "customer_df.sort_values(by='count', ascending=False)"
   ]
  },
  {
   "cell_type": "code",
   "execution_count": 12,
   "metadata": {
    "execution": {
     "iopub.execute_input": "2021-04-22T01:45:36.264272Z",
     "iopub.status.busy": "2021-04-22T01:45:36.263711Z",
     "iopub.status.idle": "2021-04-22T01:45:36.281947Z",
     "shell.execute_reply": "2021-04-22T01:45:36.281320Z",
     "shell.execute_reply.started": "2021-04-22T01:45:36.264226Z"
    },
    "tags": []
   },
   "outputs": [
    {
     "data": {
      "text/html": [
       "<div>\n",
       "<style scoped>\n",
       "    .dataframe tbody tr th:only-of-type {\n",
       "        vertical-align: middle;\n",
       "    }\n",
       "\n",
       "    .dataframe tbody tr th {\n",
       "        vertical-align: top;\n",
       "    }\n",
       "\n",
       "    .dataframe thead th {\n",
       "        text-align: right;\n",
       "    }\n",
       "</style>\n",
       "<table border=\"1\" class=\"dataframe\">\n",
       "  <thead>\n",
       "    <tr style=\"text-align: right;\">\n",
       "      <th></th>\n",
       "      <th>customer_id</th>\n",
       "      <th>rating</th>\n",
       "      <th>count</th>\n",
       "    </tr>\n",
       "  </thead>\n",
       "  <tbody>\n",
       "    <tr>\n",
       "      <td>1797</td>\n",
       "      <td>3263580</td>\n",
       "      <td>1.000000</td>\n",
       "      <td>3</td>\n",
       "    </tr>\n",
       "    <tr>\n",
       "      <td>1928</td>\n",
       "      <td>4020516</td>\n",
       "      <td>1.666667</td>\n",
       "      <td>3</td>\n",
       "    </tr>\n",
       "    <tr>\n",
       "      <td>3071</td>\n",
       "      <td>9927828</td>\n",
       "      <td>2.000000</td>\n",
       "      <td>3</td>\n",
       "    </tr>\n",
       "    <tr>\n",
       "      <td>3787</td>\n",
       "      <td>10985996</td>\n",
       "      <td>1.000000</td>\n",
       "      <td>3</td>\n",
       "    </tr>\n",
       "    <tr>\n",
       "      <td>3800</td>\n",
       "      <td>11004972</td>\n",
       "      <td>1.666667</td>\n",
       "      <td>3</td>\n",
       "    </tr>\n",
       "    <tr>\n",
       "      <td>5474</td>\n",
       "      <td>13291352</td>\n",
       "      <td>2.000000</td>\n",
       "      <td>3</td>\n",
       "    </tr>\n",
       "    <tr>\n",
       "      <td>6498</td>\n",
       "      <td>14606512</td>\n",
       "      <td>1.000000</td>\n",
       "      <td>6</td>\n",
       "    </tr>\n",
       "    <tr>\n",
       "      <td>6526</td>\n",
       "      <td>14646725</td>\n",
       "      <td>1.000000</td>\n",
       "      <td>3</td>\n",
       "    </tr>\n",
       "    <tr>\n",
       "      <td>7356</td>\n",
       "      <td>15728302</td>\n",
       "      <td>1.000000</td>\n",
       "      <td>3</td>\n",
       "    </tr>\n",
       "    <tr>\n",
       "      <td>7777</td>\n",
       "      <td>16355599</td>\n",
       "      <td>1.000000</td>\n",
       "      <td>3</td>\n",
       "    </tr>\n",
       "    <tr>\n",
       "      <td>9702</td>\n",
       "      <td>20435160</td>\n",
       "      <td>1.000000</td>\n",
       "      <td>3</td>\n",
       "    </tr>\n",
       "    <tr>\n",
       "      <td>10182</td>\n",
       "      <td>21472758</td>\n",
       "      <td>2.000000</td>\n",
       "      <td>3</td>\n",
       "    </tr>\n",
       "    <tr>\n",
       "      <td>12080</td>\n",
       "      <td>25866462</td>\n",
       "      <td>1.666667</td>\n",
       "      <td>3</td>\n",
       "    </tr>\n",
       "    <tr>\n",
       "      <td>15458</td>\n",
       "      <td>34653588</td>\n",
       "      <td>1.250000</td>\n",
       "      <td>4</td>\n",
       "    </tr>\n",
       "    <tr>\n",
       "      <td>17961</td>\n",
       "      <td>40887840</td>\n",
       "      <td>1.000000</td>\n",
       "      <td>4</td>\n",
       "    </tr>\n",
       "    <tr>\n",
       "      <td>18751</td>\n",
       "      <td>42623356</td>\n",
       "      <td>1.666667</td>\n",
       "      <td>3</td>\n",
       "    </tr>\n",
       "    <tr>\n",
       "      <td>18918</td>\n",
       "      <td>42935991</td>\n",
       "      <td>1.000000</td>\n",
       "      <td>3</td>\n",
       "    </tr>\n",
       "    <tr>\n",
       "      <td>19904</td>\n",
       "      <td>44698545</td>\n",
       "      <td>2.000000</td>\n",
       "      <td>3</td>\n",
       "    </tr>\n",
       "    <tr>\n",
       "      <td>20874</td>\n",
       "      <td>46656979</td>\n",
       "      <td>2.000000</td>\n",
       "      <td>3</td>\n",
       "    </tr>\n",
       "    <tr>\n",
       "      <td>21652</td>\n",
       "      <td>48236895</td>\n",
       "      <td>1.000000</td>\n",
       "      <td>8</td>\n",
       "    </tr>\n",
       "    <tr>\n",
       "      <td>21710</td>\n",
       "      <td>48341182</td>\n",
       "      <td>1.666667</td>\n",
       "      <td>3</td>\n",
       "    </tr>\n",
       "    <tr>\n",
       "      <td>22142</td>\n",
       "      <td>49226840</td>\n",
       "      <td>1.000000</td>\n",
       "      <td>3</td>\n",
       "    </tr>\n",
       "    <tr>\n",
       "      <td>24839</td>\n",
       "      <td>52940403</td>\n",
       "      <td>1.333333</td>\n",
       "      <td>3</td>\n",
       "    </tr>\n",
       "  </tbody>\n",
       "</table>\n",
       "</div>"
      ],
      "text/plain": [
       "       customer_id    rating  count\n",
       "1797       3263580  1.000000      3\n",
       "1928       4020516  1.666667      3\n",
       "3071       9927828  2.000000      3\n",
       "3787      10985996  1.000000      3\n",
       "3800      11004972  1.666667      3\n",
       "5474      13291352  2.000000      3\n",
       "6498      14606512  1.000000      6\n",
       "6526      14646725  1.000000      3\n",
       "7356      15728302  1.000000      3\n",
       "7777      16355599  1.000000      3\n",
       "9702      20435160  1.000000      3\n",
       "10182     21472758  2.000000      3\n",
       "12080     25866462  1.666667      3\n",
       "15458     34653588  1.250000      4\n",
       "17961     40887840  1.000000      4\n",
       "18751     42623356  1.666667      3\n",
       "18918     42935991  1.000000      3\n",
       "19904     44698545  2.000000      3\n",
       "20874     46656979  2.000000      3\n",
       "21652     48236895  1.000000      8\n",
       "21710     48341182  1.666667      3\n",
       "22142     49226840  1.000000      3\n",
       "24839     52940403  1.333333      3"
      ]
     },
     "execution_count": 12,
     "metadata": {},
     "output_type": "execute_result"
    }
   ],
   "source": [
    "customer_df[(customer_df['count'] >= 3) & (customer_df['rating'] <=2)]"
   ]
  },
  {
   "cell_type": "code",
   "execution_count": 13,
   "metadata": {
    "execution": {
     "iopub.execute_input": "2021-04-22T01:45:57.666199Z",
     "iopub.status.busy": "2021-04-22T01:45:57.665812Z",
     "iopub.status.idle": "2021-04-22T01:45:57.672948Z",
     "shell.execute_reply": "2021-04-22T01:45:57.672137Z",
     "shell.execute_reply.started": "2021-04-22T01:45:57.666167Z"
    },
    "tags": []
   },
   "outputs": [],
   "source": [
    "bad_customer += list(customer_df[(customer_df['count'] >= 3) & (customer_df['rating'] <=2)]['customer_id'])"
   ]
  },
  {
   "cell_type": "code",
   "execution_count": 14,
   "metadata": {
    "execution": {
     "iopub.execute_input": "2021-04-20T10:27:57.088454Z",
     "iopub.status.busy": "2021-04-20T10:27:57.087875Z",
     "iopub.status.idle": "2021-04-20T10:27:57.108987Z",
     "shell.execute_reply": "2021-04-20T10:27:57.108536Z",
     "shell.execute_reply.started": "2021-04-20T10:27:57.088408Z"
    }
   },
   "outputs": [
    {
     "data": {
      "text/html": [
       "<div>\n",
       "<style scoped>\n",
       "    .dataframe tbody tr th:only-of-type {\n",
       "        vertical-align: middle;\n",
       "    }\n",
       "\n",
       "    .dataframe tbody tr th {\n",
       "        vertical-align: top;\n",
       "    }\n",
       "\n",
       "    .dataframe thead th {\n",
       "        text-align: right;\n",
       "    }\n",
       "</style>\n",
       "<table border=\"1\" class=\"dataframe\">\n",
       "  <thead>\n",
       "    <tr style=\"text-align: right;\">\n",
       "      <th></th>\n",
       "      <th>customer_id</th>\n",
       "      <th>review_headline</th>\n",
       "      <th>review_body</th>\n",
       "    </tr>\n",
       "  </thead>\n",
       "  <tbody>\n",
       "    <tr>\n",
       "      <td>18664</td>\n",
       "      <td>3263580</td>\n",
       "      <td>Refund</td>\n",
       "      <td>Refund. Damaged, pass expire racin date, not f...</td>\n",
       "    </tr>\n",
       "    <tr>\n",
       "      <td>17676</td>\n",
       "      <td>3263580</td>\n",
       "      <td>Refund</td>\n",
       "      <td>Refund. It was bad no top , damaged, missing p...</td>\n",
       "    </tr>\n",
       "    <tr>\n",
       "      <td>13721</td>\n",
       "      <td>3263580</td>\n",
       "      <td>REFUND NOW</td>\n",
       "      <td>REFUND NOW. I want a a refund Now IT WAS ALL G...</td>\n",
       "    </tr>\n",
       "    <tr>\n",
       "      <td>10355</td>\n",
       "      <td>4020516</td>\n",
       "      <td>Two Stars</td>\n",
       "      <td>Two Stars. Small bag the price taking into con...</td>\n",
       "    </tr>\n",
       "    <tr>\n",
       "      <td>9722</td>\n",
       "      <td>4020516</td>\n",
       "      <td>A very small bag compared with the prize,</td>\n",
       "      <td>A very small bag compared with the prize,. A v...</td>\n",
       "    </tr>\n",
       "    <tr>\n",
       "      <td>...</td>\n",
       "      <td>...</td>\n",
       "      <td>...</td>\n",
       "      <td>...</td>\n",
       "    </tr>\n",
       "    <tr>\n",
       "      <td>32933</td>\n",
       "      <td>49226840</td>\n",
       "      <td>Has sugar in it.</td>\n",
       "      <td>Has sugar in it.. Has sugar in it. According t...</td>\n",
       "    </tr>\n",
       "    <tr>\n",
       "      <td>33517</td>\n",
       "      <td>49226840</td>\n",
       "      <td>Too little for so much</td>\n",
       "      <td>Too little for so much. Well I tried it once. ...</td>\n",
       "    </tr>\n",
       "    <tr>\n",
       "      <td>10197</td>\n",
       "      <td>52940403</td>\n",
       "      <td>Wasted money. It is also very thin</td>\n",
       "      <td>Wasted money. It is also very thin. It has a f...</td>\n",
       "    </tr>\n",
       "    <tr>\n",
       "      <td>12780</td>\n",
       "      <td>52940403</td>\n",
       "      <td>Are you kidding me? 100 dollars for a small ...</td>\n",
       "      <td>Are you kidding me? 100 dollars for a small .....</td>\n",
       "    </tr>\n",
       "    <tr>\n",
       "      <td>17575</td>\n",
       "      <td>52940403</td>\n",
       "      <td>One Star</td>\n",
       "      <td>One Star. Corn syrup, canola oil, moltodextrin...</td>\n",
       "    </tr>\n",
       "  </tbody>\n",
       "</table>\n",
       "<p>79 rows × 3 columns</p>\n",
       "</div>"
      ],
      "text/plain": [
       "       customer_id                                  review_headline  \\\n",
       "18664      3263580                                           Refund   \n",
       "17676      3263580                                           Refund   \n",
       "13721      3263580                                       REFUND NOW   \n",
       "10355      4020516                                        Two Stars   \n",
       "9722       4020516        A very small bag compared with the prize,   \n",
       "...            ...                                              ...   \n",
       "32933     49226840                                 Has sugar in it.   \n",
       "33517     49226840                           Too little for so much   \n",
       "10197     52940403               Wasted money. It is also very thin   \n",
       "12780     52940403  Are you kidding me? 100 dollars for a small ...   \n",
       "17575     52940403                                         One Star   \n",
       "\n",
       "                                             review_body  \n",
       "18664  Refund. Damaged, pass expire racin date, not f...  \n",
       "17676  Refund. It was bad no top , damaged, missing p...  \n",
       "13721  REFUND NOW. I want a a refund Now IT WAS ALL G...  \n",
       "10355  Two Stars. Small bag the price taking into con...  \n",
       "9722   A very small bag compared with the prize,. A v...  \n",
       "...                                                  ...  \n",
       "32933  Has sugar in it.. Has sugar in it. According t...  \n",
       "33517  Too little for so much. Well I tried it once. ...  \n",
       "10197  Wasted money. It is also very thin. It has a f...  \n",
       "12780  Are you kidding me? 100 dollars for a small .....  \n",
       "17575  One Star. Corn syrup, canola oil, moltodextrin...  \n",
       "\n",
       "[79 rows x 3 columns]"
      ]
     },
     "execution_count": 14,
     "metadata": {},
     "output_type": "execute_result"
    }
   ],
   "source": [
    "select_customer = customer_df[(customer_df['count'] >= 3) & (customer_df['rating'] <=2)]['customer_id']\n",
    "\n",
    "df[df['customer_id'].isin(select_customer)][['customer_id','review_headline', 'review_body']].sort_values(by='customer_id')"
   ]
  },
  {
   "cell_type": "markdown",
   "metadata": {},
   "source": [
    "# filter"
   ]
  },
  {
   "cell_type": "code",
   "execution_count": 15,
   "metadata": {
    "execution": {
     "iopub.execute_input": "2021-04-22T01:47:45.362396Z",
     "iopub.status.busy": "2021-04-22T01:47:45.361781Z",
     "iopub.status.idle": "2021-04-22T01:47:45.372430Z",
     "shell.execute_reply": "2021-04-22T01:47:45.371847Z",
     "shell.execute_reply.started": "2021-04-22T01:47:45.362346Z"
    },
    "tags": []
   },
   "outputs": [],
   "source": [
    "df = df[~df['customer_id'].isin(bad_customer)]"
   ]
  },
  {
   "cell_type": "code",
   "execution_count": 16,
   "metadata": {
    "execution": {
     "iopub.execute_input": "2021-04-22T01:47:47.301863Z",
     "iopub.status.busy": "2021-04-22T01:47:47.301304Z",
     "iopub.status.idle": "2021-04-22T01:47:47.307600Z",
     "shell.execute_reply": "2021-04-22T01:47:47.306463Z",
     "shell.execute_reply.started": "2021-04-22T01:47:47.301817Z"
    },
    "tags": []
   },
   "outputs": [],
   "source": [
    "import re\n",
    "bad_words = ['contaminate','disease', 'disgusting',\n",
    "             'eaten', 'hazardous', 'ill', 'moldy', 'mldew',\n",
    "             'musty','reeking', 'smelly', 'stale', 'unhealthy']"
   ]
  },
  {
   "cell_type": "code",
   "execution_count": 17,
   "metadata": {
    "execution": {
     "iopub.execute_input": "2021-04-22T01:47:48.159491Z",
     "iopub.status.busy": "2021-04-22T01:47:48.158963Z",
     "iopub.status.idle": "2021-04-22T01:47:48.327458Z",
     "shell.execute_reply": "2021-04-22T01:47:48.326364Z",
     "shell.execute_reply.started": "2021-04-22T01:47:48.159444Z"
    },
    "tags": []
   },
   "outputs": [],
   "source": [
    "df_bad = df[df['review_body'].apply(lambda x: bool(re.search('|'.join(bad_words), x.lower())))]"
   ]
  },
  {
   "cell_type": "code",
   "execution_count": 18,
   "metadata": {
    "execution": {
     "iopub.execute_input": "2021-04-22T01:47:48.979071Z",
     "iopub.status.busy": "2021-04-22T01:47:48.978546Z",
     "iopub.status.idle": "2021-04-22T01:47:48.990081Z",
     "shell.execute_reply": "2021-04-22T01:47:48.989549Z",
     "shell.execute_reply.started": "2021-04-22T01:47:48.979022Z"
    },
    "tags": []
   },
   "outputs": [
    {
     "data": {
      "text/plain": [
       "22220300    2\n",
       "47180254    2\n",
       "16147806    2\n",
       "41617771    2\n",
       "21540019    2\n",
       "           ..\n",
       "24108725    1\n",
       "29366966    1\n",
       "26375863    1\n",
       "14005945    1\n",
       "5817935     1\n",
       "Name: customer_id, Length: 560, dtype: int64"
      ]
     },
     "execution_count": 18,
     "metadata": {},
     "output_type": "execute_result"
    }
   ],
   "source": [
    "df_bad[df_bad['star_rating'] == 1]['customer_id'].value_counts()"
   ]
  },
  {
   "cell_type": "markdown",
   "metadata": {},
   "source": [
    "## sentiment"
   ]
  },
  {
   "cell_type": "markdown",
   "metadata": {},
   "source": [
    "- positive/negative\n",
    "- part of speech of words"
   ]
  },
  {
   "cell_type": "code",
   "execution_count": 22,
   "metadata": {
    "ExecuteTime": {
     "end_time": "2021-04-01T09:12:17.956854Z",
     "start_time": "2021-04-01T09:12:17.947351Z"
    },
    "execution": {
     "iopub.execute_input": "2021-04-20T11:43:20.258776Z",
     "iopub.status.busy": "2021-04-20T11:43:20.258213Z",
     "iopub.status.idle": "2021-04-20T11:43:22.228820Z",
     "shell.execute_reply": "2021-04-20T11:43:22.228347Z",
     "shell.execute_reply.started": "2021-04-20T11:43:20.258729Z"
    },
    "scrolled": true,
    "tags": []
   },
   "outputs": [
    {
     "name": "stdout",
     "output_type": "stream",
     "text": [
      "\n",
      "The titular threat of The Blob has always struck me as the ultimate movie\n",
      "monster: an insatiably hungry, amoeba-like mass able to penetrate\n",
      "virtually any safeguard, capable of--as a doomed doctor chillingly\n",
      "describes it--\"assimilating flesh on contact. 0.06000000000000001 0.605\n",
      "\n",
      "Snide comparisons to gelatin be damned, it's a concept with the most\n",
      "devastating of potential consequences, not unlike the grey goo scenario\n",
      "proposed by technological theorists fearful of\n",
      "artificial intelligence run rampant. -0.34166666666666673 0.7666666666666666\n",
      "\n"
     ]
    }
   ],
   "source": [
    "from textblob import TextBlob\n",
    "\n",
    "# https://textblob.readthedocs.io/en/dev/\n",
    "text = '''\n",
    "The titular threat of The Blob has always struck me as the ultimate movie\n",
    "monster: an insatiably hungry, amoeba-like mass able to penetrate\n",
    "virtually any safeguard, capable of--as a doomed doctor chillingly\n",
    "describes it--\"assimilating flesh on contact.\n",
    "Snide comparisons to gelatin be damned, it's a concept with the most\n",
    "devastating of potential consequences, not unlike the grey goo scenario\n",
    "proposed by technological theorists fearful of\n",
    "artificial intelligence run rampant.\n",
    "'''\n",
    "\n",
    "blob = TextBlob(text)\n",
    "\n",
    "for sentence in blob.sentences:\n",
    "    print(sentence, sentence.sentiment.polarity, sentence.sentiment.subjectivity)\n",
    "    print('')"
   ]
  },
  {
   "cell_type": "code",
   "execution_count": 23,
   "metadata": {
    "ExecuteTime": {
     "end_time": "2021-03-31T23:31:20.220478Z",
     "start_time": "2021-03-31T23:31:20.149449Z"
    },
    "execution": {
     "iopub.execute_input": "2021-04-20T11:49:06.816585Z",
     "iopub.status.busy": "2021-04-20T11:49:06.816042Z",
     "iopub.status.idle": "2021-04-20T11:49:10.920768Z",
     "shell.execute_reply": "2021-04-20T11:49:10.920273Z",
     "shell.execute_reply.started": "2021-04-20T11:49:06.816538Z"
    },
    "tags": []
   },
   "outputs": [
    {
     "name": "stderr",
     "output_type": "stream",
     "text": [
      "100%|██████████| 2418/2418 [00:02<00:00, 967.93it/s] \n"
     ]
    }
   ],
   "source": [
    "# sentiment score <-0.5 with including the bad words -> related to hazardous product\n",
    "\n",
    "bad_comment = []\n",
    "\n",
    "from tqdm import tqdm\n",
    "for line in tqdm(df[df['star_rating'] == 1]['review_body'].iloc[:]):\n",
    "    line = line.replace('<br />', '')\n",
    "    \n",
    "    blob = TextBlob(line)\n",
    "    for sentence in blob.sentences:\n",
    "        # print(sentence, sentence.sentiment.polarity, sentence.sentiment.subjectivity)\n",
    "        if sentence.sentiment.polarity < -0.5 and re.search('|'.join(bad_words), line.lower()):\n",
    "            bad_comment.append(line)\n",
    "            "
   ]
  },
  {
   "cell_type": "code",
   "execution_count": 36,
   "metadata": {
    "execution": {
     "iopub.execute_input": "2021-04-20T12:02:08.124849Z",
     "iopub.status.busy": "2021-04-20T12:02:08.124284Z",
     "iopub.status.idle": "2021-04-20T12:02:08.754900Z",
     "shell.execute_reply": "2021-04-20T12:02:08.754439Z",
     "shell.execute_reply.started": "2021-04-20T12:02:08.124801Z"
    },
    "tags": []
   },
   "outputs": [
    {
     "name": "stderr",
     "output_type": "stream",
     "text": [
      "100%|██████████| 500/500 [00:00<00:00, 1010.73it/s]\n"
     ]
    }
   ],
   "source": [
    "# sentiment score >0.5 without including the bad words -> not related to the hazardous product\n",
    "\n",
    "good_comment = []\n",
    "\n",
    "from tqdm import tqdm\n",
    "for line in tqdm(df[df['star_rating'] == 5]['review_body'].iloc[:500]):\n",
    "    line = line.replace('<br />', '')\n",
    "    \n",
    "    blob = TextBlob(line)\n",
    "    for sentence in blob.sentences:\n",
    "        # print(sentence, sentence.sentiment.polarity, sentence.sentiment.subjectivity)\n",
    "        if sentence.sentiment.polarity > 0.5 and not re.search('|'.join(bad_words), line.lower()):\n",
    "            good_comment.append(line)\n",
    "            "
   ]
  },
  {
   "cell_type": "code",
   "execution_count": 35,
   "metadata": {
    "execution": {
     "iopub.execute_input": "2021-04-20T12:02:09.149643Z",
     "iopub.status.busy": "2021-04-20T12:02:09.149120Z",
     "iopub.status.idle": "2021-04-20T12:02:09.154754Z",
     "shell.execute_reply": "2021-04-20T12:02:09.153509Z",
     "shell.execute_reply.started": "2021-04-20T12:02:09.149596Z"
    },
    "tags": []
   },
   "outputs": [],
   "source": [
    "from sklearn.feature_extraction.text import TfidfVectorizer"
   ]
  },
  {
   "cell_type": "code",
   "execution_count": 37,
   "metadata": {
    "execution": {
     "iopub.execute_input": "2021-04-20T12:14:04.651695Z",
     "iopub.status.busy": "2021-04-20T12:14:04.651105Z",
     "iopub.status.idle": "2021-04-20T12:14:04.700652Z",
     "shell.execute_reply": "2021-04-20T12:14:04.699508Z",
     "shell.execute_reply.started": "2021-04-20T12:14:04.651646Z"
    },
    "tags": []
   },
   "outputs": [],
   "source": [
    "# 0-bad\n",
    "label = [0] * len(bad_comment) + [1] * len(good_comment)\n",
    "text = bad_comment + good_comment\n",
    "\n",
    "label = np.array(label) \n",
    "# text = np.array(text)\n",
    "\n",
    "tfidf = TfidfVectorizer().fit(text)\n",
    "text_tfidf = tfidf.transform(text)"
   ]
  },
  {
   "cell_type": "code",
   "execution_count": 38,
   "metadata": {
    "execution": {
     "iopub.execute_input": "2021-04-20T12:14:07.394312Z",
     "iopub.status.busy": "2021-04-20T12:14:07.393760Z",
     "iopub.status.idle": "2021-04-20T12:14:07.400719Z",
     "shell.execute_reply": "2021-04-20T12:14:07.399753Z",
     "shell.execute_reply.started": "2021-04-20T12:14:07.394267Z"
    },
    "tags": []
   },
   "outputs": [
    {
     "data": {
      "text/plain": [
       "<753x3348 sparse matrix of type '<class 'numpy.float64'>'\n",
       "\twith 27429 stored elements in Compressed Sparse Row format>"
      ]
     },
     "execution_count": 38,
     "metadata": {},
     "output_type": "execute_result"
    }
   ],
   "source": [
    "text_tfidf "
   ]
  },
  {
   "cell_type": "code",
   "execution_count": 39,
   "metadata": {
    "execution": {
     "iopub.execute_input": "2021-04-20T12:17:23.679375Z",
     "iopub.status.busy": "2021-04-20T12:17:23.678785Z",
     "iopub.status.idle": "2021-04-20T12:17:23.686325Z",
     "shell.execute_reply": "2021-04-20T12:17:23.685734Z",
     "shell.execute_reply.started": "2021-04-20T12:17:23.679328Z"
    },
    "tags": []
   },
   "outputs": [],
   "source": [
    "from sklearn.model_selection import train_test_split\n",
    "# 744 * 0.8\n",
    "train_text, test_text, train_label, test_label = train_test_split(text_tfidf, label, train_size=0.8,stratify=label)"
   ]
  },
  {
   "cell_type": "code",
   "execution_count": 40,
   "metadata": {
    "execution": {
     "iopub.execute_input": "2021-04-20T12:02:10.419354Z",
     "iopub.status.busy": "2021-04-20T12:02:10.418820Z",
     "iopub.status.idle": "2021-04-20T12:02:10.439990Z",
     "shell.execute_reply": "2021-04-20T12:02:10.439373Z",
     "shell.execute_reply.started": "2021-04-20T12:02:10.419307Z"
    },
    "tags": []
   },
   "outputs": [
    {
     "name": "stderr",
     "output_type": "stream",
     "text": [
      "/Users/brendaduan/anaconda3/lib/python3.7/site-packages/sklearn/linear_model/logistic.py:432: FutureWarning: Default solver will be changed to 'lbfgs' in 0.22. Specify a solver to silence this warning.\n",
      "  FutureWarning)\n"
     ]
    }
   ],
   "source": [
    "from sklearn.linear_model import LogisticRegression\n",
    "\n",
    "clf = LogisticRegression().fit(train_text, train_label)"
   ]
  },
  {
   "cell_type": "code",
   "execution_count": 41,
   "metadata": {
    "execution": {
     "iopub.execute_input": "2021-04-20T12:02:10.860050Z",
     "iopub.status.busy": "2021-04-20T12:02:10.859488Z",
     "iopub.status.idle": "2021-04-20T12:02:10.867813Z",
     "shell.execute_reply": "2021-04-20T12:02:10.867363Z",
     "shell.execute_reply.started": "2021-04-20T12:02:10.860004Z"
    },
    "tags": []
   },
   "outputs": [
    {
     "data": {
      "text/plain": [
       "0.9801324503311258"
      ]
     },
     "execution_count": 41,
     "metadata": {},
     "output_type": "execute_result"
    }
   ],
   "source": [
    "clf.score(test_text, test_label)"
   ]
  },
  {
   "cell_type": "code",
   "execution_count": 43,
   "metadata": {
    "execution": {
     "iopub.execute_input": "2021-04-20T12:24:49.005964Z",
     "iopub.status.busy": "2021-04-20T12:24:49.005388Z",
     "iopub.status.idle": "2021-04-20T12:24:49.014346Z",
     "shell.execute_reply": "2021-04-20T12:24:49.013283Z",
     "shell.execute_reply.started": "2021-04-20T12:24:49.005916Z"
    },
    "tags": []
   },
   "outputs": [],
   "source": [
    "def predict_food_comment(s, show=True):\n",
    "    s = np.array(s).reshape(1)\n",
    "    s_tfidf = tfidf.transform(s)\n",
    "    # [bad, good] \n",
    "    if clf.predict_proba(s_tfidf)[0, 0] > 0.4:\n",
    "        if show:\n",
    "            print(s, 'bad')\n",
    "        return 'bad'\n",
    "    else:\n",
    "        if show:\n",
    "            print(s, 'good')\n",
    "        return 'good'"
   ]
  },
  {
   "cell_type": "code",
   "execution_count": 44,
   "metadata": {
    "execution": {
     "iopub.execute_input": "2021-04-20T12:24:49.967607Z",
     "iopub.status.busy": "2021-04-20T12:24:49.967295Z",
     "iopub.status.idle": "2021-04-20T12:24:49.974244Z",
     "shell.execute_reply": "2021-04-20T12:24:49.973699Z",
     "shell.execute_reply.started": "2021-04-20T12:24:49.967581Z"
    },
    "tags": []
   },
   "outputs": [
    {
     "name": "stdout",
     "output_type": "stream",
     "text": [
      "['This is the weirdest \"soup\" I ever tasted.'] bad\n"
     ]
    },
    {
     "data": {
      "text/plain": [
       "'bad'"
      ]
     },
     "execution_count": 44,
     "metadata": {},
     "output_type": "execute_result"
    }
   ],
   "source": [
    "predict_food_comment('''This is the weirdest \"soup\" I ever tasted.''')"
   ]
  },
  {
   "cell_type": "code",
   "execution_count": 45,
   "metadata": {
    "execution": {
     "iopub.execute_input": "2021-04-20T12:24:50.303074Z",
     "iopub.status.busy": "2021-04-20T12:24:50.302669Z",
     "iopub.status.idle": "2021-04-20T12:24:50.311192Z",
     "shell.execute_reply": "2021-04-20T12:24:50.310313Z",
     "shell.execute_reply.started": "2021-04-20T12:24:50.303038Z"
    },
    "tags": []
   },
   "outputs": [
    {
     "name": "stdout",
     "output_type": "stream",
     "text": [
      "['My stomach hurts after I eat it once'] bad\n"
     ]
    },
    {
     "data": {
      "text/plain": [
       "'bad'"
      ]
     },
     "execution_count": 45,
     "metadata": {},
     "output_type": "execute_result"
    }
   ],
   "source": [
    "predict_food_comment('''My stomach hurts after I eat it once''')"
   ]
  },
  {
   "cell_type": "code",
   "execution_count": 46,
   "metadata": {
    "execution": {
     "iopub.execute_input": "2021-04-20T12:24:50.666298Z",
     "iopub.status.busy": "2021-04-20T12:24:50.665786Z",
     "iopub.status.idle": "2021-04-20T12:24:50.674471Z",
     "shell.execute_reply": "2021-04-20T12:24:50.674014Z",
     "shell.execute_reply.started": "2021-04-20T12:24:50.666253Z"
    },
    "tags": []
   },
   "outputs": [
    {
     "name": "stdout",
     "output_type": "stream",
     "text": [
      "['Very delicious, very good comment'] good\n"
     ]
    },
    {
     "data": {
      "text/plain": [
       "'good'"
      ]
     },
     "execution_count": 46,
     "metadata": {},
     "output_type": "execute_result"
    }
   ],
   "source": [
    "predict_food_comment('''Very delicious, very good comment''')"
   ]
  },
  {
   "cell_type": "code",
   "execution_count": 47,
   "metadata": {
    "execution": {
     "iopub.execute_input": "2021-04-20T12:24:50.982744Z",
     "iopub.status.busy": "2021-04-20T12:24:50.982231Z",
     "iopub.status.idle": "2021-04-20T12:24:50.989270Z",
     "shell.execute_reply": "2021-04-20T12:24:50.988674Z",
     "shell.execute_reply.started": "2021-04-20T12:24:50.982699Z"
    },
    "tags": []
   },
   "outputs": [
    {
     "name": "stdout",
     "output_type": "stream",
     "text": [
      "['Using these for years - love them.. As a family allergic to wheat'] good\n"
     ]
    },
    {
     "data": {
      "text/plain": [
       "'good'"
      ]
     },
     "execution_count": 47,
     "metadata": {},
     "output_type": "execute_result"
    }
   ],
   "source": [
    "predict_food_comment('''Using these for years - love them.. As a family allergic to wheat''')"
   ]
  },
  {
   "cell_type": "code",
   "execution_count": 48,
   "metadata": {
    "execution": {
     "iopub.execute_input": "2021-04-20T12:25:05.646674Z",
     "iopub.status.busy": "2021-04-20T12:25:05.646373Z",
     "iopub.status.idle": "2021-04-20T12:25:07.173166Z",
     "shell.execute_reply": "2021-04-20T12:25:07.172266Z",
     "shell.execute_reply.started": "2021-04-20T12:25:05.646652Z"
    },
    "tags": []
   },
   "outputs": [],
   "source": [
    "import codecs\n",
    "for x in df[df['star_rating'] == 1]['review_body'].iloc[:]:\n",
    "    if predict_food_comment(x, show=False) == 'bad':\n",
    "        with codecs.open('bad.csv', 'a') as up:\n",
    "            up.write(x+'\\n')"
   ]
  },
  {
   "cell_type": "code",
   "execution_count": null,
   "metadata": {},
   "outputs": [],
   "source": []
  }
 ],
 "metadata": {
  "kernelspec": {
   "display_name": "Python 3",
   "language": "python",
   "name": "python3"
  },
  "language_info": {
   "codemirror_mode": {
    "name": "ipython",
    "version": 3
   },
   "file_extension": ".py",
   "mimetype": "text/x-python",
   "name": "python",
   "nbconvert_exporter": "python",
   "pygments_lexer": "ipython3",
   "version": "3.7.4"
  },
  "toc": {
   "base_numbering": 1,
   "nav_menu": {},
   "number_sections": true,
   "sideBar": true,
   "skip_h1_title": false,
   "title_cell": "Table of Contents",
   "title_sidebar": "Contents",
   "toc_cell": false,
   "toc_position": {},
   "toc_section_display": true,
   "toc_window_display": false
  }
 },
 "nbformat": 4,
 "nbformat_minor": 4
}

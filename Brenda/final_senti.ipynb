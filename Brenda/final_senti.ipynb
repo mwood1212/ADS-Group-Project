{
 "cells": [
  {
   "cell_type": "markdown",
   "metadata": {},
   "source": [
    "https://s3.amazonaws.com/amazon-reviews-pds/readme.html\n",
    "\n",
    "```\n",
    "\n",
    "DATA COLUMNS:\n",
    "marketplace       - 2 letter country code of the marketplace where the review was written.\n",
    "customer_id       - Random identifier that can be used to aggregate reviews written by a single author.\n",
    "review_id         - The unique ID of the review.\n",
    "product_id        - The unique Product ID the review pertains to. In the multilingual dataset the reviews\n",
    "                    for the same product in different countries can be grouped by the same product_id.\n",
    "product_parent    - Random identifier that can be used to aggregate reviews for the same product.\n",
    "product_title     - Title of the product.\n",
    "product_category  - Broad product category that can be used to group reviews \n",
    "                    (also used to group the dataset into coherent parts).\n",
    "star_rating       - The 1-5 star rating of the review.\n",
    "helpful_votes     - Number of helpful votes.\n",
    "total_votes       - Number of total votes the review received.\n",
    "vine              - Review was written as part of the Vine program.\n",
    "verified_purchase - The review is on a verified purchase.\n",
    "review_headline   - The title of the review.\n",
    "review_body       - The review text.\n",
    "review_date       - The date the review was written.\n",
    "```"
   ]
  },
  {
   "cell_type": "code",
   "execution_count": 1,
   "metadata": {
    "ExecuteTime": {
     "end_time": "2021-04-08T09:53:12.569655Z",
     "start_time": "2021-04-08T09:53:12.069836Z"
    },
    "execution": {
     "iopub.execute_input": "2021-05-13T02:06:29.371697Z",
     "iopub.status.busy": "2021-05-13T02:06:29.371120Z",
     "iopub.status.idle": "2021-05-13T02:06:29.923311Z",
     "shell.execute_reply": "2021-05-13T02:06:29.922869Z",
     "shell.execute_reply.started": "2021-05-13T02:06:29.371648Z"
    },
    "scrolled": true,
    "tags": []
   },
   "outputs": [
    {
     "name": "stderr",
     "output_type": "stream",
     "text": [
      "b'Skipping line 1925: expected 15 fields, saw 22\\nSkipping line 1977: expected 15 fields, saw 22\\nSkipping line 35265: expected 15 fields, saw 22\\n'\n"
     ]
    }
   ],
   "source": [
    "import pandas as pd\n",
    "import numpy as np\n",
    "import re\n",
    "\n",
    "df = pd.read_csv('amazon_reviews_us_Grocery_v1_00.tsv.gz', \n",
    "                 nrows=40000, sep='\\t', error_bad_lines=False)\n",
    "\n",
    "df = df.drop(['marketplace', 'product_category'], axis=1)\n",
    "\n",
    "df = df[~df['review_body'].isnull()]\n",
    "\n",
    "df['review_body'] = df['review_headline'] + '. ' + df['review_body']\n",
    "\n",
    "df = df[df['review_body'].apply(len) > 40]"
   ]
  },
  {
   "cell_type": "code",
   "execution_count": 2,
   "metadata": {
    "ExecuteTime": {
     "end_time": "2021-04-08T09:53:13.013220Z",
     "start_time": "2021-04-08T09:53:12.994563Z"
    },
    "execution": {
     "iopub.execute_input": "2021-05-13T02:06:30.663494Z",
     "iopub.status.busy": "2021-05-13T02:06:30.662956Z",
     "iopub.status.idle": "2021-05-13T02:06:30.684265Z",
     "shell.execute_reply": "2021-05-13T02:06:30.683743Z",
     "shell.execute_reply.started": "2021-05-13T02:06:30.663447Z"
    },
    "scrolled": true,
    "tags": []
   },
   "outputs": [
    {
     "data": {
      "text/html": [
       "<div>\n",
       "<style scoped>\n",
       "    .dataframe tbody tr th:only-of-type {\n",
       "        vertical-align: middle;\n",
       "    }\n",
       "\n",
       "    .dataframe tbody tr th {\n",
       "        vertical-align: top;\n",
       "    }\n",
       "\n",
       "    .dataframe thead th {\n",
       "        text-align: right;\n",
       "    }\n",
       "</style>\n",
       "<table border=\"1\" class=\"dataframe\">\n",
       "  <thead>\n",
       "    <tr style=\"text-align: right;\">\n",
       "      <th></th>\n",
       "      <th>customer_id</th>\n",
       "      <th>review_id</th>\n",
       "      <th>product_id</th>\n",
       "      <th>product_parent</th>\n",
       "      <th>product_title</th>\n",
       "      <th>star_rating</th>\n",
       "      <th>helpful_votes</th>\n",
       "      <th>total_votes</th>\n",
       "      <th>vine</th>\n",
       "      <th>verified_purchase</th>\n",
       "      <th>review_headline</th>\n",
       "      <th>review_body</th>\n",
       "      <th>review_date</th>\n",
       "    </tr>\n",
       "  </thead>\n",
       "  <tbody>\n",
       "    <tr>\n",
       "      <td>0</td>\n",
       "      <td>42521656</td>\n",
       "      <td>R26MV8D0KG6QI6</td>\n",
       "      <td>B000SAQCWC</td>\n",
       "      <td>159713740</td>\n",
       "      <td>The Cravings Place Chocolate Chunk Cookie Mix,...</td>\n",
       "      <td>5</td>\n",
       "      <td>0</td>\n",
       "      <td>0</td>\n",
       "      <td>N</td>\n",
       "      <td>Y</td>\n",
       "      <td>Using these for years - love them.</td>\n",
       "      <td>Using these for years - love them.. As a famil...</td>\n",
       "      <td>2015-08-31</td>\n",
       "    </tr>\n",
       "    <tr>\n",
       "      <td>1</td>\n",
       "      <td>12049833</td>\n",
       "      <td>R1OF8GP57AQ1A0</td>\n",
       "      <td>B00509LVIQ</td>\n",
       "      <td>138680402</td>\n",
       "      <td>Mauna Loa Macadamias, 11 Ounce Packages</td>\n",
       "      <td>5</td>\n",
       "      <td>0</td>\n",
       "      <td>0</td>\n",
       "      <td>N</td>\n",
       "      <td>Y</td>\n",
       "      <td>Wonderful</td>\n",
       "      <td>Wonderful. My favorite nut.  Creamy, crunchy, ...</td>\n",
       "      <td>2015-08-31</td>\n",
       "    </tr>\n",
       "    <tr>\n",
       "      <td>2</td>\n",
       "      <td>107642</td>\n",
       "      <td>R3VDC1QB6MC4ZZ</td>\n",
       "      <td>B00KHXESLC</td>\n",
       "      <td>252021703</td>\n",
       "      <td>Organic Matcha Green Tea Powder - 100% Pure Ma...</td>\n",
       "      <td>5</td>\n",
       "      <td>0</td>\n",
       "      <td>0</td>\n",
       "      <td>N</td>\n",
       "      <td>N</td>\n",
       "      <td>Five Stars</td>\n",
       "      <td>Five Stars. This green tea tastes so good! My ...</td>\n",
       "      <td>2015-08-31</td>\n",
       "    </tr>\n",
       "    <tr>\n",
       "      <td>3</td>\n",
       "      <td>6042304</td>\n",
       "      <td>R12FA3DCF8F9ER</td>\n",
       "      <td>B000F8JIIC</td>\n",
       "      <td>752728342</td>\n",
       "      <td>15oz Raspberry Lyons Designer Dessert Syrup Sauce</td>\n",
       "      <td>5</td>\n",
       "      <td>0</td>\n",
       "      <td>0</td>\n",
       "      <td>N</td>\n",
       "      <td>Y</td>\n",
       "      <td>Five Stars</td>\n",
       "      <td>Five Stars. I love Melissa's brand but this is...</td>\n",
       "      <td>2015-08-31</td>\n",
       "    </tr>\n",
       "    <tr>\n",
       "      <td>6</td>\n",
       "      <td>32778285</td>\n",
       "      <td>R1S1XSG4ZCHDGS</td>\n",
       "      <td>B00BCNSTRA</td>\n",
       "      <td>578681693</td>\n",
       "      <td>Larabar uber, 1.42 Ounce (Pack of 15)</td>\n",
       "      <td>5</td>\n",
       "      <td>1</td>\n",
       "      <td>1</td>\n",
       "      <td>N</td>\n",
       "      <td>Y</td>\n",
       "      <td>Five Stars</td>\n",
       "      <td>Five Stars. Love these bars, but have to watch...</td>\n",
       "      <td>2015-08-31</td>\n",
       "    </tr>\n",
       "  </tbody>\n",
       "</table>\n",
       "</div>"
      ],
      "text/plain": [
       "   customer_id       review_id  product_id  product_parent  \\\n",
       "0     42521656  R26MV8D0KG6QI6  B000SAQCWC       159713740   \n",
       "1     12049833  R1OF8GP57AQ1A0  B00509LVIQ       138680402   \n",
       "2       107642  R3VDC1QB6MC4ZZ  B00KHXESLC       252021703   \n",
       "3      6042304  R12FA3DCF8F9ER  B000F8JIIC       752728342   \n",
       "6     32778285  R1S1XSG4ZCHDGS  B00BCNSTRA       578681693   \n",
       "\n",
       "                                       product_title  star_rating  \\\n",
       "0  The Cravings Place Chocolate Chunk Cookie Mix,...            5   \n",
       "1            Mauna Loa Macadamias, 11 Ounce Packages            5   \n",
       "2  Organic Matcha Green Tea Powder - 100% Pure Ma...            5   \n",
       "3  15oz Raspberry Lyons Designer Dessert Syrup Sauce            5   \n",
       "6              Larabar uber, 1.42 Ounce (Pack of 15)            5   \n",
       "\n",
       "   helpful_votes  total_votes vine verified_purchase  \\\n",
       "0              0            0    N                 Y   \n",
       "1              0            0    N                 Y   \n",
       "2              0            0    N                 N   \n",
       "3              0            0    N                 Y   \n",
       "6              1            1    N                 Y   \n",
       "\n",
       "                      review_headline  \\\n",
       "0  Using these for years - love them.   \n",
       "1                           Wonderful   \n",
       "2                          Five Stars   \n",
       "3                          Five Stars   \n",
       "6                          Five Stars   \n",
       "\n",
       "                                         review_body review_date  \n",
       "0  Using these for years - love them.. As a famil...  2015-08-31  \n",
       "1  Wonderful. My favorite nut.  Creamy, crunchy, ...  2015-08-31  \n",
       "2  Five Stars. This green tea tastes so good! My ...  2015-08-31  \n",
       "3  Five Stars. I love Melissa's brand but this is...  2015-08-31  \n",
       "6  Five Stars. Love these bars, but have to watch...  2015-08-31  "
      ]
     },
     "execution_count": 2,
     "metadata": {},
     "output_type": "execute_result"
    }
   ],
   "source": [
    "df.head(5)"
   ]
  },
  {
   "cell_type": "markdown",
   "metadata": {},
   "source": [
    "# repeated/manipulated reviews"
   ]
  },
  {
   "cell_type": "code",
   "execution_count": 3,
   "metadata": {
    "execution": {
     "iopub.execute_input": "2021-05-13T02:06:34.201956Z",
     "iopub.status.busy": "2021-05-13T02:06:34.201420Z",
     "iopub.status.idle": "2021-05-13T02:06:34.205500Z",
     "shell.execute_reply": "2021-05-13T02:06:34.204824Z",
     "shell.execute_reply.started": "2021-05-13T02:06:34.201910Z"
    },
    "tags": []
   },
   "outputs": [],
   "source": [
    "bad_customer = []"
   ]
  },
  {
   "cell_type": "code",
   "execution_count": 4,
   "metadata": {
    "execution": {
     "iopub.execute_input": "2021-05-13T02:06:34.381678Z",
     "iopub.status.busy": "2021-05-13T02:06:34.381151Z",
     "iopub.status.idle": "2021-05-13T02:06:34.600365Z",
     "shell.execute_reply": "2021-05-13T02:06:34.599740Z",
     "shell.execute_reply.started": "2021-05-13T02:06:34.381633Z"
    },
    "tags": []
   },
   "outputs": [],
   "source": [
    "#customer_count = df.groupby(['customer_id', 'review_date'])['product_id'].count().reset_index()\n",
    "#customer_count.columns = ['customer_id', 'review_date', 'review_count']\n",
    "\n",
    "#customer_count.sort_values(by='review_count')"
   ]
  },
  {
   "cell_type": "code",
   "execution_count": 5,
   "metadata": {
    "execution": {
     "iopub.execute_input": "2021-05-13T02:06:34.601485Z",
     "iopub.status.busy": "2021-05-13T02:06:34.601288Z",
     "iopub.status.idle": "2021-05-13T02:06:34.639171Z",
     "shell.execute_reply": "2021-05-13T02:06:34.638250Z",
     "shell.execute_reply.started": "2021-05-13T02:06:34.601468Z"
    },
    "tags": []
   },
   "outputs": [
    {
     "data": {
      "text/plain": [
       "0"
      ]
     },
     "execution_count": 5,
     "metadata": {},
     "output_type": "execute_result"
    }
   ],
   "source": [
    "bad_customer += list(customer_count['customer_id'])\n",
    "lenbad_customer"
   ]
  },
  {
   "cell_type": "code",
   "execution_count": 6,
   "metadata": {
    "execution": {
     "iopub.execute_input": "2021-05-13T02:06:35.082670Z",
     "iopub.status.busy": "2021-05-13T02:06:35.082158Z",
     "iopub.status.idle": "2021-05-13T02:06:40.365924Z",
     "shell.execute_reply": "2021-05-13T02:06:40.364654Z",
     "shell.execute_reply.started": "2021-05-13T02:06:35.082626Z"
    },
    "tags": []
   },
   "outputs": [],
   "source": [
    "from sklearn.feature_extraction.text import TfidfVectorizer\n",
    "tfidf = TfidfVectorizer(max_features=5000)\n",
    "review_tfidf = tfidf.fit_transform(df['review_body'])"
   ]
  },
  {
   "cell_type": "code",
   "execution_count": 7,
   "metadata": {
    "execution": {
     "iopub.execute_input": "2021-05-13T02:06:40.367738Z",
     "iopub.status.busy": "2021-05-13T02:06:40.367427Z",
     "iopub.status.idle": "2021-05-13T02:07:03.213745Z",
     "shell.execute_reply": "2021-05-13T02:07:03.213218Z",
     "shell.execute_reply.started": "2021-05-13T02:06:40.367711Z"
    },
    "tags": []
   },
   "outputs": [
    {
     "name": "stdout",
     "output_type": "stream",
     "text": [
      "0\n",
      "1\n",
      "2\n",
      "3\n",
      "4\n",
      "5\n",
      "6\n",
      "7\n",
      "8\n",
      "9\n",
      "10\n",
      "11\n",
      "12\n",
      "13\n",
      "14\n",
      "15\n",
      "16\n",
      "17\n",
      "18\n",
      "19\n",
      "20\n",
      "21\n",
      "22\n",
      "23\n",
      "24\n",
      "25\n",
      "26\n",
      "27\n",
      "28\n",
      "29\n",
      "30\n"
     ]
    }
   ],
   "source": [
    "IDX = 0\n",
    "\n",
    "for IDX_start in range(int(review_tfidf.shape[0]/1000) +1):\n",
    "    print(IDX_start)\n",
    "    \n",
    "    idss = np.dot(\n",
    "        review_tfidf[\n",
    "            IDX_start*1000:\n",
    "            (IDX_start+1)*1000\n",
    "        ], \n",
    "        review_tfidf.T\n",
    "    ).toarray()\n",
    "\n",
    "    for ids in idss:\n",
    "        IDX += 1\n",
    "        # \n",
    "        if len(np.where(ids >= 0.99)[0])==1:\n",
    "            continue\n",
    "        \n",
    "        # print(np.where(ids >= 0.99)[0])\n",
    "        \n",
    "        df.iloc[np.where(ids >= 0.99)[0]][['customer_id', 'review_id', 'star_rating', 'review_body']].sort_values(by='star_rating').to_csv('t.csv', index=None, header=None, mode='a')\n",
    "        \n",
    "        # bad_list.extend(list(np.where(ids >= 0.99)[0]))\n",
    "        bad_customer += list(df.iloc[np.where(ids >= 0.99)[0]]['customer_id'])\n",
    "        # A -> B\n",
    "        # B -> A"
   ]
  },
  {
   "cell_type": "code",
   "execution_count": 8,
   "metadata": {
    "execution": {
     "iopub.execute_input": "2021-05-13T02:07:03.214891Z",
     "iopub.status.busy": "2021-05-13T02:07:03.214655Z",
     "iopub.status.idle": "2021-05-13T02:07:03.218890Z",
     "shell.execute_reply": "2021-05-13T02:07:03.218445Z",
     "shell.execute_reply.started": "2021-05-13T02:07:03.214875Z"
    },
    "tags": []
   },
   "outputs": [],
   "source": [
    " df.iloc[np.where(ids >= 0.99)[0]][\n",
    "     ['customer_id', 'review_id', 'review_body']].to_csv('t.csv', index=None, header=None, mode='a')"
   ]
  },
  {
   "cell_type": "code",
   "execution_count": 9,
   "metadata": {
    "execution": {
     "iopub.execute_input": "2021-05-13T02:07:03.219766Z",
     "iopub.status.busy": "2021-05-13T02:07:03.219606Z",
     "iopub.status.idle": "2021-05-13T02:07:04.276595Z",
     "shell.execute_reply": "2021-05-13T02:07:04.275587Z",
     "shell.execute_reply.started": "2021-05-13T02:07:03.219752Z"
    },
    "tags": []
   },
   "outputs": [
    {
     "data": {
      "text/plain": [
       "2650"
      ]
     },
     "execution_count": 9,
     "metadata": {},
     "output_type": "execute_result"
    }
   ],
   "source": [
    "len(bad_customer)"
   ]
  },
  {
   "cell_type": "code",
   "execution_count": 10,
   "metadata": {
    "execution": {
     "iopub.execute_input": "2021-05-13T02:07:04.278672Z",
     "iopub.status.busy": "2021-05-13T02:07:04.278070Z",
     "iopub.status.idle": "2021-05-13T02:07:04.352252Z",
     "shell.execute_reply": "2021-05-13T02:07:04.351122Z",
     "shell.execute_reply.started": "2021-05-13T02:07:04.278629Z"
    },
    "tags": []
   },
   "outputs": [],
   "source": [
    "customer_rate_mean = df.groupby(['customer_id'])['star_rating'].mean()\n",
    "customer_rate_count = df['customer_id'].value_counts()\n",
    "\n",
    "customer_rate_mean = customer_rate_mean.reset_index()\n",
    "customer_rate_mean.columns = ['customer_id', 'rating']\n",
    "\n",
    "customer_rate_count = customer_rate_count.reset_index()\n",
    "customer_rate_count.columns = ['customer_id', 'count']"
   ]
  },
  {
   "cell_type": "code",
   "execution_count": 11,
   "metadata": {
    "execution": {
     "iopub.execute_input": "2021-05-13T02:07:04.353172Z",
     "iopub.status.busy": "2021-05-13T02:07:04.352924Z",
     "iopub.status.idle": "2021-05-13T02:07:04.436393Z",
     "shell.execute_reply": "2021-05-13T02:07:04.435789Z",
     "shell.execute_reply.started": "2021-05-13T02:07:04.353154Z"
    },
    "tags": []
   },
   "outputs": [
    {
     "data": {
      "text/html": [
       "<div>\n",
       "<style scoped>\n",
       "    .dataframe tbody tr th:only-of-type {\n",
       "        vertical-align: middle;\n",
       "    }\n",
       "\n",
       "    .dataframe tbody tr th {\n",
       "        vertical-align: top;\n",
       "    }\n",
       "\n",
       "    .dataframe thead th {\n",
       "        text-align: right;\n",
       "    }\n",
       "</style>\n",
       "<table border=\"1\" class=\"dataframe\">\n",
       "  <thead>\n",
       "    <tr style=\"text-align: right;\">\n",
       "      <th></th>\n",
       "      <th>customer_id</th>\n",
       "      <th>rating</th>\n",
       "      <th>count</th>\n",
       "    </tr>\n",
       "  </thead>\n",
       "  <tbody>\n",
       "    <tr>\n",
       "      <td>8251</td>\n",
       "      <td>17162238</td>\n",
       "      <td>4.632653</td>\n",
       "      <td>49</td>\n",
       "    </tr>\n",
       "    <tr>\n",
       "      <td>15292</td>\n",
       "      <td>34247947</td>\n",
       "      <td>4.906250</td>\n",
       "      <td>32</td>\n",
       "    </tr>\n",
       "    <tr>\n",
       "      <td>15696</td>\n",
       "      <td>35178127</td>\n",
       "      <td>4.454545</td>\n",
       "      <td>22</td>\n",
       "    </tr>\n",
       "    <tr>\n",
       "      <td>9824</td>\n",
       "      <td>20674418</td>\n",
       "      <td>5.000000</td>\n",
       "      <td>18</td>\n",
       "    </tr>\n",
       "    <tr>\n",
       "      <td>16560</td>\n",
       "      <td>37293783</td>\n",
       "      <td>5.000000</td>\n",
       "      <td>17</td>\n",
       "    </tr>\n",
       "    <tr>\n",
       "      <td>...</td>\n",
       "      <td>...</td>\n",
       "      <td>...</td>\n",
       "      <td>...</td>\n",
       "    </tr>\n",
       "    <tr>\n",
       "      <td>9496</td>\n",
       "      <td>19967776</td>\n",
       "      <td>2.000000</td>\n",
       "      <td>1</td>\n",
       "    </tr>\n",
       "    <tr>\n",
       "      <td>9495</td>\n",
       "      <td>19963619</td>\n",
       "      <td>1.000000</td>\n",
       "      <td>1</td>\n",
       "    </tr>\n",
       "    <tr>\n",
       "      <td>9494</td>\n",
       "      <td>19963378</td>\n",
       "      <td>1.000000</td>\n",
       "      <td>1</td>\n",
       "    </tr>\n",
       "    <tr>\n",
       "      <td>9493</td>\n",
       "      <td>19962730</td>\n",
       "      <td>5.000000</td>\n",
       "      <td>1</td>\n",
       "    </tr>\n",
       "    <tr>\n",
       "      <td>12526</td>\n",
       "      <td>27010324</td>\n",
       "      <td>5.000000</td>\n",
       "      <td>1</td>\n",
       "    </tr>\n",
       "  </tbody>\n",
       "</table>\n",
       "<p>25053 rows × 3 columns</p>\n",
       "</div>"
      ],
      "text/plain": [
       "       customer_id    rating  count\n",
       "8251      17162238  4.632653     49\n",
       "15292     34247947  4.906250     32\n",
       "15696     35178127  4.454545     22\n",
       "9824      20674418  5.000000     18\n",
       "16560     37293783  5.000000     17\n",
       "...            ...       ...    ...\n",
       "9496      19967776  2.000000      1\n",
       "9495      19963619  1.000000      1\n",
       "9494      19963378  1.000000      1\n",
       "9493      19962730  5.000000      1\n",
       "12526     27010324  5.000000      1\n",
       "\n",
       "[25053 rows x 3 columns]"
      ]
     },
     "execution_count": 11,
     "metadata": {},
     "output_type": "execute_result"
    }
   ],
   "source": [
    "customer_df = pd.merge(customer_rate_mean, customer_rate_count, on='customer_id')\n",
    "customer_df.sort_values(by='count', ascending=False)"
   ]
  },
  {
   "cell_type": "code",
   "execution_count": 12,
   "metadata": {
    "execution": {
     "iopub.execute_input": "2021-05-13T02:07:04.437323Z",
     "iopub.status.busy": "2021-05-13T02:07:04.437071Z",
     "iopub.status.idle": "2021-05-13T02:07:04.489348Z",
     "shell.execute_reply": "2021-05-13T02:07:04.488628Z",
     "shell.execute_reply.started": "2021-05-13T02:07:04.437305Z"
    },
    "tags": []
   },
   "outputs": [
    {
     "data": {
      "text/html": [
       "<div>\n",
       "<style scoped>\n",
       "    .dataframe tbody tr th:only-of-type {\n",
       "        vertical-align: middle;\n",
       "    }\n",
       "\n",
       "    .dataframe tbody tr th {\n",
       "        vertical-align: top;\n",
       "    }\n",
       "\n",
       "    .dataframe thead th {\n",
       "        text-align: right;\n",
       "    }\n",
       "</style>\n",
       "<table border=\"1\" class=\"dataframe\">\n",
       "  <thead>\n",
       "    <tr style=\"text-align: right;\">\n",
       "      <th></th>\n",
       "      <th>customer_id</th>\n",
       "      <th>rating</th>\n",
       "      <th>count</th>\n",
       "    </tr>\n",
       "  </thead>\n",
       "  <tbody>\n",
       "    <tr>\n",
       "      <td>1538</td>\n",
       "      <td>2530619</td>\n",
       "      <td>3.000000</td>\n",
       "      <td>3</td>\n",
       "    </tr>\n",
       "    <tr>\n",
       "      <td>1797</td>\n",
       "      <td>3263580</td>\n",
       "      <td>1.000000</td>\n",
       "      <td>3</td>\n",
       "    </tr>\n",
       "    <tr>\n",
       "      <td>1928</td>\n",
       "      <td>4020516</td>\n",
       "      <td>1.666667</td>\n",
       "      <td>3</td>\n",
       "    </tr>\n",
       "    <tr>\n",
       "      <td>2499</td>\n",
       "      <td>6579386</td>\n",
       "      <td>3.000000</td>\n",
       "      <td>4</td>\n",
       "    </tr>\n",
       "    <tr>\n",
       "      <td>3071</td>\n",
       "      <td>9927828</td>\n",
       "      <td>2.000000</td>\n",
       "      <td>3</td>\n",
       "    </tr>\n",
       "    <tr>\n",
       "      <td>...</td>\n",
       "      <td>...</td>\n",
       "      <td>...</td>\n",
       "      <td>...</td>\n",
       "    </tr>\n",
       "    <tr>\n",
       "      <td>22967</td>\n",
       "      <td>50616505</td>\n",
       "      <td>3.000000</td>\n",
       "      <td>8</td>\n",
       "    </tr>\n",
       "    <tr>\n",
       "      <td>23011</td>\n",
       "      <td>50680590</td>\n",
       "      <td>2.666667</td>\n",
       "      <td>3</td>\n",
       "    </tr>\n",
       "    <tr>\n",
       "      <td>23670</td>\n",
       "      <td>51614404</td>\n",
       "      <td>2.333333</td>\n",
       "      <td>3</td>\n",
       "    </tr>\n",
       "    <tr>\n",
       "      <td>24839</td>\n",
       "      <td>52940403</td>\n",
       "      <td>1.333333</td>\n",
       "      <td>3</td>\n",
       "    </tr>\n",
       "    <tr>\n",
       "      <td>25052</td>\n",
       "      <td>53095967</td>\n",
       "      <td>3.000000</td>\n",
       "      <td>3</td>\n",
       "    </tr>\n",
       "  </tbody>\n",
       "</table>\n",
       "<p>73 rows × 3 columns</p>\n",
       "</div>"
      ],
      "text/plain": [
       "       customer_id    rating  count\n",
       "1538       2530619  3.000000      3\n",
       "1797       3263580  1.000000      3\n",
       "1928       4020516  1.666667      3\n",
       "2499       6579386  3.000000      4\n",
       "3071       9927828  2.000000      3\n",
       "...            ...       ...    ...\n",
       "22967     50616505  3.000000      8\n",
       "23011     50680590  2.666667      3\n",
       "23670     51614404  2.333333      3\n",
       "24839     52940403  1.333333      3\n",
       "25052     53095967  3.000000      3\n",
       "\n",
       "[73 rows x 3 columns]"
      ]
     },
     "execution_count": 12,
     "metadata": {},
     "output_type": "execute_result"
    }
   ],
   "source": [
    "customer_df[(customer_df['count'] >= 3) & (customer_df['rating'] <=3)]"
   ]
  },
  {
   "cell_type": "code",
   "execution_count": 13,
   "metadata": {
    "execution": {
     "iopub.execute_input": "2021-05-13T02:07:04.490808Z",
     "iopub.status.busy": "2021-05-13T02:07:04.490605Z",
     "iopub.status.idle": "2021-05-13T02:07:04.542436Z",
     "shell.execute_reply": "2021-05-13T02:07:04.541673Z",
     "shell.execute_reply.started": "2021-05-13T02:07:04.490790Z"
    },
    "tags": []
   },
   "outputs": [],
   "source": [
    "bad_customer += list(customer_df[(customer_df['count'] >= 3) & (customer_df['rating'] ==1)]['customer_id'])"
   ]
  },
  {
   "cell_type": "code",
   "execution_count": 14,
   "metadata": {
    "execution": {
     "iopub.execute_input": "2021-05-13T02:07:04.543768Z",
     "iopub.status.busy": "2021-05-13T02:07:04.543575Z",
     "iopub.status.idle": "2021-05-13T02:07:04.611976Z",
     "shell.execute_reply": "2021-05-13T02:07:04.611528Z",
     "shell.execute_reply.started": "2021-05-13T02:07:04.543752Z"
    },
    "tags": []
   },
   "outputs": [
    {
     "data": {
      "text/html": [
       "<div>\n",
       "<style scoped>\n",
       "    .dataframe tbody tr th:only-of-type {\n",
       "        vertical-align: middle;\n",
       "    }\n",
       "\n",
       "    .dataframe tbody tr th {\n",
       "        vertical-align: top;\n",
       "    }\n",
       "\n",
       "    .dataframe thead th {\n",
       "        text-align: right;\n",
       "    }\n",
       "</style>\n",
       "<table border=\"1\" class=\"dataframe\">\n",
       "  <thead>\n",
       "    <tr style=\"text-align: right;\">\n",
       "      <th></th>\n",
       "      <th>customer_id</th>\n",
       "      <th>review_headline</th>\n",
       "      <th>review_body</th>\n",
       "    </tr>\n",
       "  </thead>\n",
       "  <tbody>\n",
       "    <tr>\n",
       "      <td>28999</td>\n",
       "      <td>145437</td>\n",
       "      <td>I happen to like the half-and-half mixture</td>\n",
       "      <td>I happen to like the half-and-half mixture. I ...</td>\n",
       "    </tr>\n",
       "    <tr>\n",
       "      <td>28936</td>\n",
       "      <td>145437</td>\n",
       "      <td>I happen to like the half-and-half mixture</td>\n",
       "      <td>I happen to like the half-and-half mixture. I ...</td>\n",
       "    </tr>\n",
       "    <tr>\n",
       "      <td>5598</td>\n",
       "      <td>661293</td>\n",
       "      <td>Didn't give desired nutritional effects.</td>\n",
       "      <td>Didn't give desired nutritional effects.. Not ...</td>\n",
       "    </tr>\n",
       "    <tr>\n",
       "      <td>3504</td>\n",
       "      <td>661293</td>\n",
       "      <td>Not reliable.</td>\n",
       "      <td>Not reliable.. Did not have the desired effect...</td>\n",
       "    </tr>\n",
       "    <tr>\n",
       "      <td>36117</td>\n",
       "      <td>1211659</td>\n",
       "      <td>I am French and this sauce is an absolute insu...</td>\n",
       "      <td>I am French and this sauce is an absolute insu...</td>\n",
       "    </tr>\n",
       "    <tr>\n",
       "      <td>...</td>\n",
       "      <td>...</td>\n",
       "      <td>...</td>\n",
       "      <td>...</td>\n",
       "    </tr>\n",
       "    <tr>\n",
       "      <td>4347</td>\n",
       "      <td>52589382</td>\n",
       "      <td>I really hate being duped.  What a waste of mo...</td>\n",
       "      <td>I really hate being duped.  What a waste of mo...</td>\n",
       "    </tr>\n",
       "    <tr>\n",
       "      <td>10000</td>\n",
       "      <td>52672134</td>\n",
       "      <td>Garbage</td>\n",
       "      <td>Garbage. Don't be fooled.  This product is not...</td>\n",
       "    </tr>\n",
       "    <tr>\n",
       "      <td>9737</td>\n",
       "      <td>52672134</td>\n",
       "      <td>Misleading. if not outright fraud</td>\n",
       "      <td>Misleading. if not outright fraud. These are n...</td>\n",
       "    </tr>\n",
       "    <tr>\n",
       "      <td>19617</td>\n",
       "      <td>52789885</td>\n",
       "      <td>Not really a cookie</td>\n",
       "      <td>Not really a cookie. Kinda plastic or waxy tas...</td>\n",
       "    </tr>\n",
       "    <tr>\n",
       "      <td>18486</td>\n",
       "      <td>52789885</td>\n",
       "      <td>Not very tasty.</td>\n",
       "      <td>Not very tasty.. Frosting was melted - not ver...</td>\n",
       "    </tr>\n",
       "  </tbody>\n",
       "</table>\n",
       "<p>132 rows × 3 columns</p>\n",
       "</div>"
      ],
      "text/plain": [
       "       customer_id                                    review_headline  \\\n",
       "28999       145437         I happen to like the half-and-half mixture   \n",
       "28936       145437         I happen to like the half-and-half mixture   \n",
       "5598        661293           Didn't give desired nutritional effects.   \n",
       "3504        661293                                      Not reliable.   \n",
       "36117      1211659  I am French and this sauce is an absolute insu...   \n",
       "...            ...                                                ...   \n",
       "4347      52589382  I really hate being duped.  What a waste of mo...   \n",
       "10000     52672134                                            Garbage   \n",
       "9737      52672134                  Misleading. if not outright fraud   \n",
       "19617     52789885                                Not really a cookie   \n",
       "18486     52789885                                    Not very tasty.   \n",
       "\n",
       "                                             review_body  \n",
       "28999  I happen to like the half-and-half mixture. I ...  \n",
       "28936  I happen to like the half-and-half mixture. I ...  \n",
       "5598   Didn't give desired nutritional effects.. Not ...  \n",
       "3504   Not reliable.. Did not have the desired effect...  \n",
       "36117  I am French and this sauce is an absolute insu...  \n",
       "...                                                  ...  \n",
       "4347   I really hate being duped.  What a waste of mo...  \n",
       "10000  Garbage. Don't be fooled.  This product is not...  \n",
       "9737   Misleading. if not outright fraud. These are n...  \n",
       "19617  Not really a cookie. Kinda plastic or waxy tas...  \n",
       "18486  Not very tasty.. Frosting was melted - not ver...  \n",
       "\n",
       "[132 rows x 3 columns]"
      ]
     },
     "execution_count": 14,
     "metadata": {},
     "output_type": "execute_result"
    }
   ],
   "source": [
    "select_customer = customer_df[(customer_df['count'] >= 2) & (customer_df['rating'] <=1)]['customer_id']\n",
    "\n",
    "df[df['customer_id'].isin(select_customer)][['customer_id','review_headline', 'review_body']].sort_values(by='customer_id')"
   ]
  },
  {
   "cell_type": "markdown",
   "metadata": {},
   "source": [
    "# bag of words"
   ]
  },
  {
   "cell_type": "code",
   "execution_count": 15,
   "metadata": {
    "execution": {
     "iopub.execute_input": "2021-05-13T02:07:04.612743Z",
     "iopub.status.busy": "2021-05-13T02:07:04.612549Z",
     "iopub.status.idle": "2021-05-13T02:07:04.669643Z",
     "shell.execute_reply": "2021-05-13T02:07:04.668809Z",
     "shell.execute_reply.started": "2021-05-13T02:07:04.612727Z"
    },
    "tags": []
   },
   "outputs": [],
   "source": [
    "df = df[~df['customer_id'].isin(bad_customer)]"
   ]
  },
  {
   "cell_type": "code",
   "execution_count": 16,
   "metadata": {
    "execution": {
     "iopub.execute_input": "2021-05-13T02:07:04.670665Z",
     "iopub.status.busy": "2021-05-13T02:07:04.670408Z",
     "iopub.status.idle": "2021-05-13T02:07:04.726750Z",
     "shell.execute_reply": "2021-05-13T02:07:04.725721Z",
     "shell.execute_reply.started": "2021-05-13T02:07:04.670646Z"
    },
    "tags": []
   },
   "outputs": [],
   "source": [
    "import re\n",
    "bad_words = ['contaminate','disease', 'disgusting', 'hospital', 'poisoning',\n",
    "             'rancid', 'hazardous', 'ill', 'mold','moldy', 'mildew', 'dangerous',\n",
    "              'smelly', 'stale', 'unhealthy', 'sick','expired','expiration']"
   ]
  },
  {
   "cell_type": "code",
   "execution_count": 17,
   "metadata": {
    "execution": {
     "iopub.execute_input": "2021-05-13T02:07:04.728662Z",
     "iopub.status.busy": "2021-05-13T02:07:04.728157Z",
     "iopub.status.idle": "2021-05-13T02:07:04.954481Z",
     "shell.execute_reply": "2021-05-13T02:07:04.953492Z",
     "shell.execute_reply.started": "2021-05-13T02:07:04.728619Z"
    },
    "tags": []
   },
   "outputs": [],
   "source": [
    "df_bad = df[df['review_body'].apply(lambda x: bool(re.search('|'.join(bad_words), x.lower())))]"
   ]
  },
  {
   "cell_type": "code",
   "execution_count": 18,
   "metadata": {
    "execution": {
     "iopub.execute_input": "2021-05-13T02:07:04.955254Z",
     "iopub.status.busy": "2021-05-13T02:07:04.955046Z",
     "iopub.status.idle": "2021-05-13T02:07:04.960880Z",
     "shell.execute_reply": "2021-05-13T02:07:04.960457Z",
     "shell.execute_reply.started": "2021-05-13T02:07:04.955239Z"
    },
    "tags": []
   },
   "outputs": [
    {
     "data": {
      "text/plain": [
       "47180254    2\n",
       "6579386     2\n",
       "25866462    2\n",
       "41617771    2\n",
       "21540019    2\n",
       "           ..\n",
       "24796305    1\n",
       "27387231    1\n",
       "21112065    1\n",
       "51886761    1\n",
       "5817935     1\n",
       "Name: customer_id, Length: 652, dtype: int64"
      ]
     },
     "execution_count": 18,
     "metadata": {},
     "output_type": "execute_result"
    }
   ],
   "source": [
    "df_bad[df_bad['star_rating'] == 1]['customer_id'].value_counts()"
   ]
  },
  {
   "cell_type": "markdown",
   "metadata": {},
   "source": [
    "## TextBlob\n",
    "\n",
    "The polarity score is a float within the range [-1.0, 1.0]. The subjectivity is a float within the range [0.0, 1.0] where 0.0 is very objective and 1.0 is very subjective."
   ]
  },
  {
   "cell_type": "code",
   "execution_count": 25,
   "metadata": {
    "ExecuteTime": {
     "end_time": "2021-04-01T09:12:17.956854Z",
     "start_time": "2021-04-01T09:12:17.947351Z"
    },
    "execution": {
     "iopub.execute_input": "2021-05-13T02:07:45.358318Z",
     "iopub.status.busy": "2021-05-13T02:07:45.358112Z",
     "iopub.status.idle": "2021-05-13T02:07:46.168732Z",
     "shell.execute_reply": "2021-05-13T02:07:46.168291Z",
     "shell.execute_reply.started": "2021-05-13T02:07:45.358302Z"
    },
    "scrolled": true,
    "tags": []
   },
   "outputs": [
    {
     "name": "stdout",
     "output_type": "stream",
     "text": [
      "\n",
      "The titular threat of The Blob has always struck me as the ultimate movie\n",
      "monster: an insatiably hungry, amoeba-like mass able to penetrate\n",
      "virtually any safeguard, capable of--as a doomed doctor chillingly\n",
      "describes it--\"assimilating flesh on contact. 0.06000000000000001 0.605\n",
      "\n",
      "Snide comparisons to gelatin be damned, it's a concept with the most\n",
      "devastating of potential consequences, not unlike the grey goo scenario\n",
      "proposed by technological theorists fearful of\n",
      "artificial intelligence run rampant. -0.34166666666666673 0.7666666666666666\n",
      "\n"
     ]
    }
   ],
   "source": [
    "from textblob import TextBlob\n",
    "\n",
    "# https://textblob.readthedocs.io/en/dev/\n",
    "text = '''\n",
    "The titular threat of The Blob has always struck me as the ultimate movie\n",
    "monster: an insatiably hungry, amoeba-like mass able to penetrate\n",
    "virtually any safeguard, capable of--as a doomed doctor chillingly\n",
    "describes it--\"assimilating flesh on contact.\n",
    "Snide comparisons to gelatin be damned, it's a concept with the most\n",
    "devastating of potential consequences, not unlike the grey goo scenario\n",
    "proposed by technological theorists fearful of\n",
    "artificial intelligence run rampant.\n",
    "'''\n",
    "\n",
    "blob = TextBlob(text)\n",
    "\n",
    "for sentence in blob.sentences:\n",
    "    # sentence.sentiment.polarity \n",
    "    # sentence.sentiment.subjectivity \n",
    "    print(sentence, sentence.sentiment.polarity, sentence.sentiment.subjectivity)\n",
    "    print('')"
   ]
  },
  {
   "cell_type": "code",
   "execution_count": 26,
   "metadata": {
    "ExecuteTime": {
     "end_time": "2021-03-31T23:31:20.220478Z",
     "start_time": "2021-03-31T23:31:20.149449Z"
    },
    "execution": {
     "iopub.execute_input": "2021-05-13T02:07:46.169565Z",
     "iopub.status.busy": "2021-05-13T02:07:46.169343Z",
     "iopub.status.idle": "2021-05-13T02:07:49.824879Z",
     "shell.execute_reply": "2021-05-13T02:07:49.824415Z",
     "shell.execute_reply.started": "2021-05-13T02:07:46.169549Z"
    },
    "tags": []
   },
   "outputs": [
    {
     "name": "stderr",
     "output_type": "stream",
     "text": [
      "100%|██████████| 2455/2455 [00:02<00:00, 1038.72it/s]\n"
     ]
    }
   ],
   "source": [
    "bad_comment = []\n",
    "\n",
    "from tqdm import tqdm\n",
    "for line in tqdm(df[df['star_rating'] == 1]['review_body'].iloc[:]):\n",
    "    line = line.replace('<br />', '')\n",
    "    \n",
    "    blob = TextBlob(line)\n",
    "    for sentence in blob.sentences:\n",
    "        # print(sentence, sentence.sentiment.polarity, sentence.sentiment.subjectivity)\n",
    "        if sentence.sentiment.polarity < -0.5 and re.search('|'.join(bad_words), line.lower()):\n",
    "            bad_comment.append(line)\n"
   ]
  },
  {
   "cell_type": "code",
   "execution_count": 27,
   "metadata": {
    "execution": {
     "iopub.execute_input": "2021-05-13T02:07:49.825635Z",
     "iopub.status.busy": "2021-05-13T02:07:49.825469Z",
     "iopub.status.idle": "2021-05-13T02:07:50.514216Z",
     "shell.execute_reply": "2021-05-13T02:07:50.513762Z",
     "shell.execute_reply.started": "2021-05-13T02:07:49.825620Z"
    },
    "tags": []
   },
   "outputs": [
    {
     "name": "stderr",
     "output_type": "stream",
     "text": [
      "100%|██████████| 500/500 [00:00<00:00, 1064.64it/s]\n"
     ]
    }
   ],
   "source": [
    "good_comment = []\n",
    "\n",
    "from tqdm import tqdm\n",
    "for line in tqdm(df[df['star_rating'] == 5]['review_body'].iloc[:500]):\n",
    "    line = line.replace('<br />', '')\n",
    "    \n",
    "    blob = TextBlob(line)\n",
    "    for sentence in blob.sentences:\n",
    "        # print(sentence, sentence.sentiment.polarity, sentence.sentiment.subjectivity)\n",
    "        if sentence.sentiment.polarity > 0.5 and not re.search('|'.join(bad_words), line.lower()):\n",
    "            good_comment.append(line)\n",
    "        "
   ]
  },
  {
   "cell_type": "code",
   "execution_count": 28,
   "metadata": {
    "execution": {
     "iopub.execute_input": "2021-05-13T02:07:50.516341Z",
     "iopub.status.busy": "2021-05-13T02:07:50.516170Z",
     "iopub.status.idle": "2021-05-13T02:07:50.518891Z",
     "shell.execute_reply": "2021-05-13T02:07:50.518419Z",
     "shell.execute_reply.started": "2021-05-13T02:07:50.516326Z"
    },
    "tags": []
   },
   "outputs": [],
   "source": [
    "from sklearn.feature_extraction.text import TfidfVectorizer"
   ]
  },
  {
   "cell_type": "code",
   "execution_count": 29,
   "metadata": {
    "execution": {
     "iopub.execute_input": "2021-05-13T02:07:50.520193Z",
     "iopub.status.busy": "2021-05-13T02:07:50.520034Z",
     "iopub.status.idle": "2021-05-13T02:07:50.634077Z",
     "shell.execute_reply": "2021-05-13T02:07:50.633501Z",
     "shell.execute_reply.started": "2021-05-13T02:07:50.520179Z"
    },
    "tags": []
   },
   "outputs": [],
   "source": [
    "# 0 --bad\n",
    "label = [0] * len(bad_comment) + [1] * len(good_comment)\n",
    "text = bad_comment + good_comment\n",
    "\n",
    "label = np.array(label) \n",
    "# text = np.array(text)\n",
    "\n",
    "tfidf = TfidfVectorizer().fit(text)\n",
    "text_tfidf = tfidf.transform(text)"
   ]
  },
  {
   "cell_type": "code",
   "execution_count": 30,
   "metadata": {
    "execution": {
     "iopub.execute_input": "2021-05-13T02:07:50.634838Z",
     "iopub.status.busy": "2021-05-13T02:07:50.634671Z",
     "iopub.status.idle": "2021-05-13T02:07:50.687879Z",
     "shell.execute_reply": "2021-05-13T02:07:50.686902Z",
     "shell.execute_reply.started": "2021-05-13T02:07:50.634823Z"
    },
    "tags": []
   },
   "outputs": [
    {
     "data": {
      "text/plain": [
       "<786x3471 sparse matrix of type '<class 'numpy.float64'>'\n",
       "\twith 28495 stored elements in Compressed Sparse Row format>"
      ]
     },
     "execution_count": 30,
     "metadata": {},
     "output_type": "execute_result"
    }
   ],
   "source": [
    "text_tfidf "
   ]
  },
  {
   "cell_type": "code",
   "execution_count": 31,
   "metadata": {
    "execution": {
     "iopub.execute_input": "2021-05-13T02:07:50.689761Z",
     "iopub.status.busy": "2021-05-13T02:07:50.689263Z",
     "iopub.status.idle": "2021-05-13T02:07:50.751630Z",
     "shell.execute_reply": "2021-05-13T02:07:50.750476Z",
     "shell.execute_reply.started": "2021-05-13T02:07:50.689719Z"
    },
    "tags": []
   },
   "outputs": [],
   "source": [
    "from sklearn.model_selection import train_test_split\n",
    "# 744 * 0.8\n",
    "train_text, test_text, train_label, test_label = train_test_split(text_tfidf, label, train_size=0.8,stratify=label)"
   ]
  },
  {
   "cell_type": "code",
   "execution_count": 32,
   "metadata": {
    "execution": {
     "iopub.execute_input": "2021-05-13T02:07:50.752782Z",
     "iopub.status.busy": "2021-05-13T02:07:50.752612Z",
     "iopub.status.idle": "2021-05-13T02:07:50.855677Z",
     "shell.execute_reply": "2021-05-13T02:07:50.855139Z",
     "shell.execute_reply.started": "2021-05-13T02:07:50.752767Z"
    },
    "tags": []
   },
   "outputs": [
    {
     "name": "stderr",
     "output_type": "stream",
     "text": [
      "/Users/brendaduan/anaconda3/lib/python3.7/site-packages/sklearn/linear_model/logistic.py:432: FutureWarning: Default solver will be changed to 'lbfgs' in 0.22. Specify a solver to silence this warning.\n",
      "  FutureWarning)\n"
     ]
    }
   ],
   "source": [
    "from sklearn.linear_model import LogisticRegression\n",
    "\n",
    "clf = LogisticRegression().fit(train_text, train_label)"
   ]
  },
  {
   "cell_type": "code",
   "execution_count": 33,
   "metadata": {
    "execution": {
     "iopub.execute_input": "2021-05-13T02:07:50.856481Z",
     "iopub.status.busy": "2021-05-13T02:07:50.856306Z",
     "iopub.status.idle": "2021-05-13T02:07:50.919350Z",
     "shell.execute_reply": "2021-05-13T02:07:50.918349Z",
     "shell.execute_reply.started": "2021-05-13T02:07:50.856466Z"
    },
    "tags": []
   },
   "outputs": [
    {
     "data": {
      "text/plain": [
       "0.9620253164556962"
      ]
     },
     "execution_count": 33,
     "metadata": {},
     "output_type": "execute_result"
    }
   ],
   "source": [
    "clf.score(test_text, test_label)"
   ]
  },
  {
   "cell_type": "code",
   "execution_count": 34,
   "metadata": {
    "execution": {
     "iopub.execute_input": "2021-05-13T02:07:50.921249Z",
     "iopub.status.busy": "2021-05-13T02:07:50.920756Z",
     "iopub.status.idle": "2021-05-13T02:07:50.979208Z",
     "shell.execute_reply": "2021-05-13T02:07:50.978120Z",
     "shell.execute_reply.started": "2021-05-13T02:07:50.921194Z"
    },
    "tags": []
   },
   "outputs": [],
   "source": [
    "def predict_food_comment(s, show=True):\n",
    "    s = np.array(s).reshape(1)\n",
    "    s_tfidf = tfidf.transform(s)\n",
    "    if clf.predict_proba(s_tfidf)[0, 0] > 0.4:\n",
    "        if show:\n",
    "            print(s, 'bad')\n",
    "        return 'bad'\n",
    "    else:\n",
    "        if show:\n",
    "            print(s, 'good')\n",
    "        return 'good'"
   ]
  },
  {
   "cell_type": "code",
   "execution_count": 35,
   "metadata": {
    "execution": {
     "iopub.execute_input": "2021-05-13T02:07:50.980403Z",
     "iopub.status.busy": "2021-05-13T02:07:50.980096Z",
     "iopub.status.idle": "2021-05-13T02:07:51.044732Z",
     "shell.execute_reply": "2021-05-13T02:07:51.044285Z",
     "shell.execute_reply.started": "2021-05-13T02:07:50.980378Z"
    },
    "tags": []
   },
   "outputs": [
    {
     "name": "stdout",
     "output_type": "stream",
     "text": [
      "['This is the weirdest \"soup\" I ever tasted.'] bad\n"
     ]
    },
    {
     "data": {
      "text/plain": [
       "'bad'"
      ]
     },
     "execution_count": 35,
     "metadata": {},
     "output_type": "execute_result"
    }
   ],
   "source": [
    "predict_food_comment('''This is the weirdest \"soup\" I ever tasted.''')"
   ]
  },
  {
   "cell_type": "code",
   "execution_count": 36,
   "metadata": {
    "execution": {
     "iopub.execute_input": "2021-05-13T02:07:51.045481Z",
     "iopub.status.busy": "2021-05-13T02:07:51.045292Z",
     "iopub.status.idle": "2021-05-13T02:07:51.106848Z",
     "shell.execute_reply": "2021-05-13T02:07:51.106312Z",
     "shell.execute_reply.started": "2021-05-13T02:07:51.045465Z"
    },
    "tags": []
   },
   "outputs": [
    {
     "name": "stdout",
     "output_type": "stream",
     "text": [
      "['My stomach hurts after I eat it once'] bad\n"
     ]
    },
    {
     "data": {
      "text/plain": [
       "'bad'"
      ]
     },
     "execution_count": 36,
     "metadata": {},
     "output_type": "execute_result"
    }
   ],
   "source": [
    "predict_food_comment('''My stomach hurts after I eat it once''')"
   ]
  },
  {
   "cell_type": "code",
   "execution_count": 37,
   "metadata": {
    "execution": {
     "iopub.execute_input": "2021-05-13T02:07:51.107588Z",
     "iopub.status.busy": "2021-05-13T02:07:51.107416Z",
     "iopub.status.idle": "2021-05-13T02:07:51.235550Z",
     "shell.execute_reply": "2021-05-13T02:07:51.235106Z",
     "shell.execute_reply.started": "2021-05-13T02:07:51.107573Z"
    },
    "tags": []
   },
   "outputs": [
    {
     "name": "stdout",
     "output_type": "stream",
     "text": [
      "['Very delicious, very good comment'] good\n"
     ]
    },
    {
     "data": {
      "text/plain": [
       "'good'"
      ]
     },
     "execution_count": 37,
     "metadata": {},
     "output_type": "execute_result"
    }
   ],
   "source": [
    "predict_food_comment('''Very delicious, very good comment''')"
   ]
  },
  {
   "cell_type": "code",
   "execution_count": 38,
   "metadata": {
    "execution": {
     "iopub.execute_input": "2021-05-13T02:07:51.236266Z",
     "iopub.status.busy": "2021-05-13T02:07:51.236076Z",
     "iopub.status.idle": "2021-05-13T02:07:51.297791Z",
     "shell.execute_reply": "2021-05-13T02:07:51.297210Z",
     "shell.execute_reply.started": "2021-05-13T02:07:51.236251Z"
    },
    "tags": []
   },
   "outputs": [
    {
     "name": "stdout",
     "output_type": "stream",
     "text": [
      "['Using these for years - love them.. As a family allergic to wheat'] good\n"
     ]
    },
    {
     "data": {
      "text/plain": [
       "'good'"
      ]
     },
     "execution_count": 38,
     "metadata": {},
     "output_type": "execute_result"
    }
   ],
   "source": [
    "predict_food_comment('''Using these for years - love them.. As a family allergic to wheat''')"
   ]
  },
  {
   "cell_type": "code",
   "execution_count": 39,
   "metadata": {
    "execution": {
     "iopub.execute_input": "2021-05-13T02:07:51.298587Z",
     "iopub.status.busy": "2021-05-13T02:07:51.298356Z",
     "iopub.status.idle": "2021-05-13T02:07:52.332069Z",
     "shell.execute_reply": "2021-05-13T02:07:52.331395Z",
     "shell.execute_reply.started": "2021-05-13T02:07:51.298572Z"
    },
    "tags": []
   },
   "outputs": [],
   "source": [
    "import codecs\n",
    "for x in df[df['star_rating'] == 1]['review_body'].iloc[:]:\n",
    "    if predict_food_comment(x, show=False) == 'bad':\n",
    "        with codecs.open('bad.csv', 'a') as up:\n",
    "            up.write(x+'\\n')"
   ]
  },
  {
   "cell_type": "markdown",
   "metadata": {},
   "source": [
    "# selected_reviews"
   ]
  },
  {
   "cell_type": "code",
   "execution_count": 40,
   "metadata": {
    "execution": {
     "iopub.execute_input": "2021-05-13T02:07:52.332809Z",
     "iopub.status.busy": "2021-05-13T02:07:52.332642Z",
     "iopub.status.idle": "2021-05-13T02:07:52.370828Z",
     "shell.execute_reply": "2021-05-13T02:07:52.369832Z",
     "shell.execute_reply.started": "2021-05-13T02:07:52.332794Z"
    },
    "tags": []
   },
   "outputs": [],
   "source": [
    "selected_df = pd.read_csv('selected_reviews.csv', header=None)"
   ]
  },
  {
   "cell_type": "code",
   "execution_count": 41,
   "metadata": {
    "execution": {
     "iopub.execute_input": "2021-05-13T02:07:52.371564Z",
     "iopub.status.busy": "2021-05-13T02:07:52.371402Z",
     "iopub.status.idle": "2021-05-13T02:07:52.448023Z",
     "shell.execute_reply": "2021-05-13T02:07:52.446866Z",
     "shell.execute_reply.started": "2021-05-13T02:07:52.371549Z"
    },
    "tags": []
   },
   "outputs": [],
   "source": [
    "selected_df_text = selected_df[0] + selected_df[1].fillna('')\n",
    "selected_df_text = list(selected_df_text.apply(lambda x: x.strip()).values)"
   ]
  },
  {
   "cell_type": "code",
   "execution_count": 42,
   "metadata": {
    "execution": {
     "iopub.execute_input": "2021-05-13T02:07:52.449992Z",
     "iopub.status.busy": "2021-05-13T02:07:52.449516Z",
     "iopub.status.idle": "2021-05-13T02:07:54.050487Z",
     "shell.execute_reply": "2021-05-13T02:07:54.050068Z",
     "shell.execute_reply.started": "2021-05-13T02:07:52.449950Z"
    },
    "tags": []
   },
   "outputs": [
    {
     "name": "stdout",
     "output_type": "stream",
     "text": [
      "Populating the interactive namespace from numpy and matplotlib\n"
     ]
    },
    {
     "name": "stderr",
     "output_type": "stream",
     "text": [
      "/Users/brendaduan/anaconda3/lib/python3.7/site-packages/IPython/core/magics/pylab.py:160: UserWarning: pylab import has clobbered these variables: ['text', 'clf']\n",
      "`%matplotlib` prevents importing * from pylab and numpy\n",
      "  \"\\n`%matplotlib` prevents importing * from pylab and numpy\"\n"
     ]
    },
    {
     "data": {
      "image/png": "[encoded data removed]",
      "text/plain": [
       "<Figure size 720x576 with 1 Axes>"
      ]
     },
     "metadata": {
      "needs_background": "light"
     },
     "output_type": "display_data"
    }
   ],
   "source": [
    "from wordcloud import WordCloud, STOPWORDS, ImageColorGenerator\n",
    "\n",
    "wordcloud = WordCloud(max_font_size=50, max_words=200, width=800, height=400,\n",
    "                      background_color=\"white\").generate(' '.join(selected_df_text))\n",
    "%pylab inline\n",
    "\n",
    "plt.figure(figsize=(10, 8))\n",
    "plt.imshow(wordcloud, interpolation=\"bilinear\")\n",
    "plt.axis(\"off\")\n",
    "plt.show()"
   ]
  },
  {
   "cell_type": "code",
   "execution_count": 43,
   "metadata": {
    "execution": {
     "iopub.execute_input": "2021-05-13T02:07:54.051238Z",
     "iopub.status.busy": "2021-05-13T02:07:54.051062Z",
     "iopub.status.idle": "2021-05-13T02:07:54.241405Z",
     "shell.execute_reply": "2021-05-13T02:07:54.240892Z",
     "shell.execute_reply.started": "2021-05-13T02:07:54.051222Z"
    },
    "tags": []
   },
   "outputs": [],
   "source": [
    "label = [0] * len(selected_df_text) + [0]*len(bad_comment) + [1] * len(good_comment)\n",
    "text = list(selected_df_text) + bad_comment+ good_comment\n",
    "\n",
    "label = np.array(label) \n",
    "# text = np.array(text)\n",
    "\n",
    "tfidf = TfidfVectorizer().fit(text)\n",
    "text_tfidf = tfidf.transform(text)"
   ]
  },
  {
   "cell_type": "code",
   "execution_count": 44,
   "metadata": {
    "execution": {
     "iopub.execute_input": "2021-05-13T02:07:54.242220Z",
     "iopub.status.busy": "2021-05-13T02:07:54.242004Z",
     "iopub.status.idle": "2021-05-13T02:07:54.246329Z",
     "shell.execute_reply": "2021-05-13T02:07:54.245893Z",
     "shell.execute_reply.started": "2021-05-13T02:07:54.242205Z"
    },
    "tags": []
   },
   "outputs": [],
   "source": [
    "from sklearn.model_selection import train_test_split\n",
    "# 744 * 0.8\n",
    "train_text, test_text, train_label, test_label = train_test_split(text_tfidf, label, \n",
    "                                                train_size=0.8,stratify=label)"
   ]
  },
  {
   "cell_type": "code",
   "execution_count": 45,
   "metadata": {
    "execution": {
     "iopub.execute_input": "2021-05-13T02:07:54.247079Z",
     "iopub.status.busy": "2021-05-13T02:07:54.246876Z",
     "iopub.status.idle": "2021-05-13T02:07:54.327338Z",
     "shell.execute_reply": "2021-05-13T02:07:54.326546Z",
     "shell.execute_reply.started": "2021-05-13T02:07:54.247064Z"
    },
    "tags": []
   },
   "outputs": [
    {
     "name": "stderr",
     "output_type": "stream",
     "text": [
      "/Users/brendaduan/anaconda3/lib/python3.7/site-packages/sklearn/linear_model/logistic.py:432: FutureWarning: Default solver will be changed to 'lbfgs' in 0.22. Specify a solver to silence this warning.\n",
      "  FutureWarning)\n"
     ]
    }
   ],
   "source": [
    "from sklearn.linear_model import LogisticRegression\n",
    "clf = LogisticRegression().fit(train_text, train_label)"
   ]
  },
  {
   "cell_type": "code",
   "execution_count": 46,
   "metadata": {
    "execution": {
     "iopub.execute_input": "2021-05-13T02:07:54.328561Z",
     "iopub.status.busy": "2021-05-13T02:07:54.328264Z",
     "iopub.status.idle": "2021-05-13T02:07:54.397007Z",
     "shell.execute_reply": "2021-05-13T02:07:54.396078Z",
     "shell.execute_reply.started": "2021-05-13T02:07:54.328536Z"
    },
    "tags": []
   },
   "outputs": [
    {
     "data": {
      "text/plain": [
       "0.9587628865979382"
      ]
     },
     "execution_count": 46,
     "metadata": {},
     "output_type": "execute_result"
    }
   ],
   "source": [
    "clf.score(test_text, test_label)"
   ]
  },
  {
   "cell_type": "code",
   "execution_count": 47,
   "metadata": {
    "execution": {
     "iopub.execute_input": "2021-05-13T02:07:54.398871Z",
     "iopub.status.busy": "2021-05-13T02:07:54.398400Z",
     "iopub.status.idle": "2021-05-13T02:07:54.466458Z",
     "shell.execute_reply": "2021-05-13T02:07:54.465230Z",
     "shell.execute_reply.started": "2021-05-13T02:07:54.398829Z"
    },
    "tags": []
   },
   "outputs": [],
   "source": [
    "def predict_food_comment(s, show=True):\n",
    "    s = np.array(s).reshape(1)\n",
    "    s_tfidf = tfidf.transform(s)\n",
    "\n",
    "    if clf.predict_proba(s_tfidf)[0, 0] > 0.4:\n",
    "        if show:\n",
    "            print(s, 'bad')\n",
    "        return 'bad'\n",
    "    else:\n",
    "        if show:\n",
    "            print(s, 'good')\n",
    "        return 'good'"
   ]
  },
  {
   "cell_type": "code",
   "execution_count": 48,
   "metadata": {
    "execution": {
     "iopub.execute_input": "2021-05-13T02:07:54.468345Z",
     "iopub.status.busy": "2021-05-13T02:07:54.467851Z",
     "iopub.status.idle": "2021-05-13T02:07:54.541003Z",
     "shell.execute_reply": "2021-05-13T02:07:54.539965Z",
     "shell.execute_reply.started": "2021-05-13T02:07:54.468303Z"
    },
    "tags": []
   },
   "outputs": [
    {
     "name": "stdout",
     "output_type": "stream",
     "text": [
      "['This is the weirdest \"soup\" I ever tasted.'] bad\n"
     ]
    },
    {
     "data": {
      "text/plain": [
       "'bad'"
      ]
     },
     "execution_count": 48,
     "metadata": {},
     "output_type": "execute_result"
    }
   ],
   "source": [
    "predict_food_comment('''This is the weirdest \"soup\" I ever tasted.''')"
   ]
  },
  {
   "cell_type": "code",
   "execution_count": 49,
   "metadata": {
    "execution": {
     "iopub.execute_input": "2021-05-13T02:07:54.542685Z",
     "iopub.status.busy": "2021-05-13T02:07:54.542435Z",
     "iopub.status.idle": "2021-05-13T02:07:54.611889Z",
     "shell.execute_reply": "2021-05-13T02:07:54.610880Z",
     "shell.execute_reply.started": "2021-05-13T02:07:54.542669Z"
    },
    "tags": []
   },
   "outputs": [
    {
     "name": "stdout",
     "output_type": "stream",
     "text": [
      "['Very delicious, very good comment'] good\n"
     ]
    },
    {
     "data": {
      "text/plain": [
       "'good'"
      ]
     },
     "execution_count": 49,
     "metadata": {},
     "output_type": "execute_result"
    }
   ],
   "source": [
    "predict_food_comment('''Very delicious, very good comment''')"
   ]
  },
  {
   "cell_type": "code",
   "execution_count": 50,
   "metadata": {
    "execution": {
     "iopub.execute_input": "2021-05-13T02:07:54.613486Z",
     "iopub.status.busy": "2021-05-13T02:07:54.613249Z",
     "iopub.status.idle": "2021-05-13T02:07:55.554742Z",
     "shell.execute_reply": "2021-05-13T02:07:55.554277Z",
     "shell.execute_reply.started": "2021-05-13T02:07:54.613470Z"
    },
    "tags": []
   },
   "outputs": [
    {
     "name": "stderr",
     "output_type": "stream",
     "text": [
      "/Users/brendaduan/anaconda3/lib/python3.7/site-packages/sklearn/linear_model/logistic.py:432: FutureWarning: Default solver will be changed to 'lbfgs' in 0.22. Specify a solver to silence this warning.\n",
      "  FutureWarning)\n"
     ]
    },
    {
     "data": {
      "text/plain": [
       "Pipeline(memory=None,\n",
       "         steps=[('tfidfvectorizer',\n",
       "                 TfidfVectorizer(analyzer='word', binary=False,\n",
       "                                 decode_error='strict',\n",
       "                                 dtype=<class 'numpy.float64'>,\n",
       "                                 encoding='utf-8', input='content',\n",
       "                                 lowercase=True, max_df=1.0, max_features=None,\n",
       "                                 min_df=1, ngram_range=(1, 1), norm='l2',\n",
       "                                 preprocessor=None, smooth_idf=True,\n",
       "                                 stop_words=None, strip_accents=None,\n",
       "                                 sublinear_tf=False,\n",
       "                                 token_pattern='(?u)\\\\b\\\\w\\\\w+\\\\b',\n",
       "                                 tokenizer=None, use_idf=True,\n",
       "                                 vocabulary=None)),\n",
       "                ('logisticregression',\n",
       "                 LogisticRegression(C=1.0, class_weight=None, dual=False,\n",
       "                                    fit_intercept=True, intercept_scaling=1,\n",
       "                                    l1_ratio=None, max_iter=100,\n",
       "                                    multi_class='warn', n_jobs=None,\n",
       "                                    penalty='l2', random_state=None,\n",
       "                                    solver='warn', tol=0.0001, verbose=0,\n",
       "                                    warm_start=False))],\n",
       "         verbose=False)"
      ]
     },
     "execution_count": 50,
     "metadata": {},
     "output_type": "execute_result"
    }
   ],
   "source": [
    "import eli5\n",
    "from eli5.lime import TextExplainer\n",
    "from sklearn.pipeline import make_pipeline\n",
    "\n",
    "\n",
    "vec = TfidfVectorizer()\n",
    "clf = LogisticRegression()\n",
    "pipe = make_pipeline(vec, clf)\n",
    "pipe.fit(text, label)"
   ]
  },
  {
   "cell_type": "code",
   "execution_count": 51,
   "metadata": {
    "execution": {
     "iopub.execute_input": "2021-05-13T02:07:55.555493Z",
     "iopub.status.busy": "2021-05-13T02:07:55.555331Z",
     "iopub.status.idle": "2021-05-13T02:07:55.590037Z",
     "shell.execute_reply": "2021-05-13T02:07:55.589593Z",
     "shell.execute_reply.started": "2021-05-13T02:07:55.555479Z"
    },
    "tags": []
   },
   "outputs": [
    {
     "data": {
      "text/html": [
       "\n",
       "    <style>\n",
       "    table.eli5-weights tr:hover {\n",
       "        filter: brightness(85%);\n",
       "    }\n",
       "</style>\n",
       "\n",
       "\n",
       "\n",
       "    \n",
       "\n",
       "    \n",
       "\n",
       "    \n",
       "\n",
       "    \n",
       "\n",
       "    \n",
       "\n",
       "    \n",
       "\n",
       "\n",
       "    \n",
       "\n",
       "    \n",
       "\n",
       "    \n",
       "\n",
       "    \n",
       "        \n",
       "\n",
       "    \n",
       "\n",
       "        \n",
       "            \n",
       "                \n",
       "                \n",
       "    \n",
       "        <p style=\"margin-bottom: 0.5em; margin-top: 0em\">\n",
       "            <b>\n",
       "    \n",
       "        y=1\n",
       "    \n",
       "</b>\n",
       "\n",
       "top features\n",
       "        </p>\n",
       "    \n",
       "    <table class=\"eli5-weights\"\n",
       "           style=\"border-collapse: collapse; border: none; margin-top: 0em; table-layout: auto; margin-bottom: 2em;\">\n",
       "        <thead>\n",
       "        <tr style=\"border: none;\">\n",
       "            \n",
       "                <th style=\"padding: 0 1em 0 0.5em; text-align: right; border: none;\" title=\"Feature weights. Note that weights do not account for feature value scales, so if feature values have different scales, features with highest weights might not be the most important.\">\n",
       "                    Weight<sup>?</sup>\n",
       "                </th>\n",
       "            \n",
       "            <th style=\"padding: 0 0.5em 0 0.5em; text-align: left; border: none;\">Feature</th>\n",
       "            \n",
       "        </tr>\n",
       "        </thead>\n",
       "        <tbody>\n",
       "        \n",
       "            <tr style=\"background-color: hsl(120, 100.00%, 80.00%); border: none;\">\n",
       "    <td style=\"padding: 0 1em 0 0.5em; text-align: right; border: none;\">\n",
       "        +4.983\n",
       "    </td>\n",
       "    <td style=\"padding: 0 0.5em 0 0.5em; text-align: left; border: none;\">\n",
       "        great\n",
       "    </td>\n",
       "    \n",
       "</tr>\n",
       "        \n",
       "            <tr style=\"background-color: hsl(120, 100.00%, 85.53%); border: none;\">\n",
       "    <td style=\"padding: 0 1em 0 0.5em; text-align: right; border: none;\">\n",
       "        +3.137\n",
       "    </td>\n",
       "    <td style=\"padding: 0 0.5em 0 0.5em; text-align: left; border: none;\">\n",
       "        love\n",
       "    </td>\n",
       "    \n",
       "</tr>\n",
       "        \n",
       "            <tr style=\"background-color: hsl(120, 100.00%, 86.66%); border: none;\">\n",
       "    <td style=\"padding: 0 1em 0 0.5em; text-align: right; border: none;\">\n",
       "        +2.793\n",
       "    </td>\n",
       "    <td style=\"padding: 0 0.5em 0 0.5em; text-align: left; border: none;\">\n",
       "        good\n",
       "    </td>\n",
       "    \n",
       "</tr>\n",
       "        \n",
       "            <tr style=\"background-color: hsl(120, 100.00%, 88.19%); border: none;\">\n",
       "    <td style=\"padding: 0 1em 0 0.5em; text-align: right; border: none;\">\n",
       "        +2.349\n",
       "    </td>\n",
       "    <td style=\"padding: 0 0.5em 0 0.5em; text-align: left; border: none;\">\n",
       "        best\n",
       "    </td>\n",
       "    \n",
       "</tr>\n",
       "        \n",
       "            <tr style=\"background-color: hsl(120, 100.00%, 88.60%); border: none;\">\n",
       "    <td style=\"padding: 0 1em 0 0.5em; text-align: right; border: none;\">\n",
       "        +2.233\n",
       "    </td>\n",
       "    <td style=\"padding: 0 0.5em 0 0.5em; text-align: left; border: none;\">\n",
       "        delicious\n",
       "    </td>\n",
       "    \n",
       "</tr>\n",
       "        \n",
       "            <tr style=\"background-color: hsl(120, 100.00%, 89.24%); border: none;\">\n",
       "    <td style=\"padding: 0 1em 0 0.5em; text-align: right; border: none;\">\n",
       "        +2.055\n",
       "    </td>\n",
       "    <td style=\"padding: 0 0.5em 0 0.5em; text-align: left; border: none;\">\n",
       "        five\n",
       "    </td>\n",
       "    \n",
       "</tr>\n",
       "        \n",
       "            <tr style=\"background-color: hsl(120, 100.00%, 89.66%); border: none;\">\n",
       "    <td style=\"padding: 0 1em 0 0.5em; text-align: right; border: none;\">\n",
       "        +1.942\n",
       "    </td>\n",
       "    <td style=\"padding: 0 0.5em 0 0.5em; text-align: left; border: none;\">\n",
       "        stars\n",
       "    </td>\n",
       "    \n",
       "</tr>\n",
       "        \n",
       "            <tr style=\"background-color: hsl(120, 100.00%, 90.18%); border: none;\">\n",
       "    <td style=\"padding: 0 1em 0 0.5em; text-align: right; border: none;\">\n",
       "        +1.804\n",
       "    </td>\n",
       "    <td style=\"padding: 0 0.5em 0 0.5em; text-align: left; border: none;\">\n",
       "        excellent\n",
       "    </td>\n",
       "    \n",
       "</tr>\n",
       "        \n",
       "            <tr style=\"background-color: hsl(120, 100.00%, 90.40%); border: none;\">\n",
       "    <td style=\"padding: 0 1em 0 0.5em; text-align: right; border: none;\">\n",
       "        +1.747\n",
       "    </td>\n",
       "    <td style=\"padding: 0 0.5em 0 0.5em; text-align: left; border: none;\">\n",
       "        perfect\n",
       "    </td>\n",
       "    \n",
       "</tr>\n",
       "        \n",
       "        \n",
       "            <tr style=\"background-color: hsl(120, 100.00%, 90.40%); border: none;\">\n",
       "                <td colspan=\"2\" style=\"padding: 0 0.5em 0 0.5em; text-align: center; border: none; white-space: nowrap;\">\n",
       "                    <i>&hellip; 1268 more positive &hellip;</i>\n",
       "                </td>\n",
       "            </tr>\n",
       "        \n",
       "\n",
       "        \n",
       "            <tr style=\"background-color: hsl(0, 100.00%, 91.58%); border: none;\">\n",
       "                <td colspan=\"2\" style=\"padding: 0 0.5em 0 0.5em; text-align: center; border: none; white-space: nowrap;\">\n",
       "                    <i>&hellip; 2452 more negative &hellip;</i>\n",
       "                </td>\n",
       "            </tr>\n",
       "        \n",
       "        \n",
       "            <tr style=\"background-color: hsl(0, 100.00%, 91.58%); border: none;\">\n",
       "    <td style=\"padding: 0 1em 0 0.5em; text-align: right; border: none;\">\n",
       "        -1.448\n",
       "    </td>\n",
       "    <td style=\"padding: 0 0.5em 0 0.5em; text-align: left; border: none;\">\n",
       "        one\n",
       "    </td>\n",
       "    \n",
       "</tr>\n",
       "        \n",
       "            <tr style=\"background-color: hsl(0, 100.00%, 91.28%); border: none;\">\n",
       "    <td style=\"padding: 0 1em 0 0.5em; text-align: right; border: none;\">\n",
       "        -1.522\n",
       "    </td>\n",
       "    <td style=\"padding: 0 0.5em 0 0.5em; text-align: left; border: none;\">\n",
       "        star\n",
       "    </td>\n",
       "    \n",
       "</tr>\n",
       "        \n",
       "            <tr style=\"background-color: hsl(0, 100.00%, 91.27%); border: none;\">\n",
       "    <td style=\"padding: 0 1em 0 0.5em; text-align: right; border: none;\">\n",
       "        -1.524\n",
       "    </td>\n",
       "    <td style=\"padding: 0 0.5em 0 0.5em; text-align: left; border: none;\">\n",
       "        the\n",
       "    </td>\n",
       "    \n",
       "</tr>\n",
       "        \n",
       "            <tr style=\"background-color: hsl(0, 100.00%, 90.93%); border: none;\">\n",
       "    <td style=\"padding: 0 1em 0 0.5em; text-align: right; border: none;\">\n",
       "        -1.610\n",
       "    </td>\n",
       "    <td style=\"padding: 0 0.5em 0 0.5em; text-align: left; border: none;\">\n",
       "        horrible\n",
       "    </td>\n",
       "    \n",
       "</tr>\n",
       "        \n",
       "            <tr style=\"background-color: hsl(0, 100.00%, 90.40%); border: none;\">\n",
       "    <td style=\"padding: 0 1em 0 0.5em; text-align: right; border: none;\">\n",
       "        -1.746\n",
       "    </td>\n",
       "    <td style=\"padding: 0 0.5em 0 0.5em; text-align: left; border: none;\">\n",
       "        bad\n",
       "    </td>\n",
       "    \n",
       "</tr>\n",
       "        \n",
       "            <tr style=\"background-color: hsl(0, 100.00%, 89.66%); border: none;\">\n",
       "    <td style=\"padding: 0 1em 0 0.5em; text-align: right; border: none;\">\n",
       "        -1.941\n",
       "    </td>\n",
       "    <td style=\"padding: 0 0.5em 0 0.5em; text-align: left; border: none;\">\n",
       "        disappointed\n",
       "    </td>\n",
       "    \n",
       "</tr>\n",
       "        \n",
       "            <tr style=\"background-color: hsl(0, 100.00%, 88.66%); border: none;\">\n",
       "    <td style=\"padding: 0 1em 0 0.5em; text-align: right; border: none;\">\n",
       "        -2.217\n",
       "    </td>\n",
       "    <td style=\"padding: 0 0.5em 0 0.5em; text-align: left; border: none;\">\n",
       "        will\n",
       "    </td>\n",
       "    \n",
       "</tr>\n",
       "        \n",
       "            <tr style=\"background-color: hsl(0, 100.00%, 87.95%); border: none;\">\n",
       "    <td style=\"padding: 0 1em 0 0.5em; text-align: right; border: none;\">\n",
       "        -2.415\n",
       "    </td>\n",
       "    <td style=\"padding: 0 0.5em 0 0.5em; text-align: left; border: none;\">\n",
       "        stale\n",
       "    </td>\n",
       "    \n",
       "</tr>\n",
       "        \n",
       "            <tr style=\"background-color: hsl(0, 100.00%, 87.68%); border: none;\">\n",
       "    <td style=\"padding: 0 1em 0 0.5em; text-align: right; border: none;\">\n",
       "        -2.492\n",
       "    </td>\n",
       "    <td style=\"padding: 0 0.5em 0 0.5em; text-align: left; border: none;\">\n",
       "        disgusting\n",
       "    </td>\n",
       "    \n",
       "</tr>\n",
       "        \n",
       "            <tr style=\"background-color: hsl(0, 100.00%, 87.49%); border: none;\">\n",
       "    <td style=\"padding: 0 1em 0 0.5em; text-align: right; border: none;\">\n",
       "        -2.549\n",
       "    </td>\n",
       "    <td style=\"padding: 0 0.5em 0 0.5em; text-align: left; border: none;\">\n",
       "        was\n",
       "    </td>\n",
       "    \n",
       "</tr>\n",
       "        \n",
       "            <tr style=\"background-color: hsl(0, 100.00%, 87.45%); border: none;\">\n",
       "    <td style=\"padding: 0 1em 0 0.5em; text-align: right; border: none;\">\n",
       "        -2.559\n",
       "    </td>\n",
       "    <td style=\"padding: 0 0.5em 0 0.5em; text-align: left; border: none;\">\n",
       "        not\n",
       "    </td>\n",
       "    \n",
       "</tr>\n",
       "        \n",
       "\n",
       "        </tbody>\n",
       "    </table>\n",
       "\n",
       "            \n",
       "        \n",
       "\n",
       "        \n",
       "\n",
       "\n",
       "\n",
       "    \n",
       "\n",
       "    \n",
       "\n",
       "    \n",
       "\n",
       "    \n",
       "\n",
       "\n",
       "    \n",
       "\n",
       "    \n",
       "\n",
       "    \n",
       "\n",
       "    \n",
       "\n",
       "    \n",
       "\n",
       "    \n",
       "\n",
       "\n",
       "    \n",
       "\n",
       "    \n",
       "\n",
       "    \n",
       "\n",
       "    \n",
       "\n",
       "    \n",
       "\n",
       "    \n",
       "\n",
       "\n",
       "\n"
      ],
      "text/plain": [
       "<IPython.core.display.HTML object>"
      ]
     },
     "execution_count": 51,
     "metadata": {},
     "output_type": "execute_result"
    }
   ],
   "source": [
    "import eli5\n",
    "eli5.show_weights(pipe, vec=vec, top=20)"
   ]
  },
  {
   "cell_type": "code",
   "execution_count": 52,
   "metadata": {
    "execution": {
     "iopub.execute_input": "2021-05-13T02:07:55.590782Z",
     "iopub.status.busy": "2021-05-13T02:07:55.590618Z",
     "iopub.status.idle": "2021-05-13T02:07:55.681175Z",
     "shell.execute_reply": "2021-05-13T02:07:55.680731Z",
     "shell.execute_reply.started": "2021-05-13T02:07:55.590767Z"
    },
    "tags": []
   },
   "outputs": [
    {
     "data": {
      "text/html": [
       "\n",
       "    <style>\n",
       "    table.eli5-weights tr:hover {\n",
       "        filter: brightness(85%);\n",
       "    }\n",
       "</style>\n",
       "\n",
       "\n",
       "\n",
       "    \n",
       "\n",
       "    \n",
       "\n",
       "    \n",
       "\n",
       "    \n",
       "\n",
       "    \n",
       "\n",
       "    \n",
       "\n",
       "\n",
       "    \n",
       "\n",
       "    \n",
       "\n",
       "    \n",
       "\n",
       "    \n",
       "        \n",
       "\n",
       "    \n",
       "\n",
       "        \n",
       "\n",
       "        \n",
       "    \n",
       "        \n",
       "        \n",
       "    \n",
       "        <p style=\"margin-bottom: 0.5em; margin-top: 0em\">\n",
       "            <b>\n",
       "    \n",
       "        y=0\n",
       "    \n",
       "</b>\n",
       "\n",
       "    \n",
       "    (probability <b>0.882</b>, score <b>-2.012</b>)\n",
       "\n",
       "top features\n",
       "        </p>\n",
       "    \n",
       "    <table class=\"eli5-weights\"\n",
       "           style=\"border-collapse: collapse; border: none; margin-top: 0em; table-layout: auto; margin-bottom: 2em;\">\n",
       "        <thead>\n",
       "        <tr style=\"border: none;\">\n",
       "            \n",
       "                <th style=\"padding: 0 1em 0 0.5em; text-align: right; border: none;\" title=\"Feature contribution already accounts for the feature value (for linear models, contribution = weight * feature value), and the sum of feature contributions is equal to the score or, for some classifiers, to the probability. Feature values are shown if &quot;show_feature_values&quot; is True.\">\n",
       "                    Contribution<sup>?</sup>\n",
       "                </th>\n",
       "            \n",
       "            <th style=\"padding: 0 0.5em 0 0.5em; text-align: left; border: none;\">Feature</th>\n",
       "            \n",
       "        </tr>\n",
       "        </thead>\n",
       "        <tbody>\n",
       "        \n",
       "            <tr style=\"background-color: hsl(120, 100.00%, 80.00%); border: none;\">\n",
       "    <td style=\"padding: 0 1em 0 0.5em; text-align: right; border: none;\">\n",
       "        +2.060\n",
       "    </td>\n",
       "    <td style=\"padding: 0 0.5em 0 0.5em; text-align: left; border: none;\">\n",
       "        Highlighted in text (sum)\n",
       "    </td>\n",
       "    \n",
       "</tr>\n",
       "        \n",
       "        \n",
       "\n",
       "        \n",
       "        \n",
       "            <tr style=\"background-color: hsl(0, 100.00%, 98.55%); border: none;\">\n",
       "    <td style=\"padding: 0 1em 0 0.5em; text-align: right; border: none;\">\n",
       "        -0.048\n",
       "    </td>\n",
       "    <td style=\"padding: 0 0.5em 0 0.5em; text-align: left; border: none;\">\n",
       "        &lt;BIAS&gt;\n",
       "    </td>\n",
       "    \n",
       "</tr>\n",
       "        \n",
       "\n",
       "        </tbody>\n",
       "    </table>\n",
       "\n",
       "    \n",
       "\n",
       "\n",
       "\n",
       "    <p style=\"margin-bottom: 2.5em; margin-top:-0.5em;\">\n",
       "        <span style=\"background-color: hsl(120, 100.00%, 60.00%); opacity: 1.00\" title=\"0.244\">disgusting</span><span style=\"opacity: 0.80\"> </span><span style=\"background-color: hsl(0, 100.00%, 94.55%); opacity: 0.81\" title=\"-0.014\">now</span><span style=\"opacity: 0.80\"> </span><span style=\"background-color: hsl(0, 100.00%, 97.68%); opacity: 0.80\" title=\"-0.004\">and</span><span style=\"opacity: 0.80\"> </span><span style=\"background-color: hsl(0, 100.00%, 96.90%); opacity: 0.81\" title=\"-0.006\">difficult</span><span style=\"opacity: 0.80\"> </span><span style=\"background-color: hsl(0, 100.00%, 95.19%); opacity: 0.81\" title=\"-0.012\">on</span><span style=\"opacity: 0.80\"> </span><span style=\"background-color: hsl(120, 100.00%, 91.71%); opacity: 0.82\" title=\"0.026\">digestion</span><span style=\"opacity: 0.80\">. </span><span style=\"background-color: hsl(0, 100.00%, 98.72%); opacity: 0.80\" title=\"-0.002\">used</span><span style=\"opacity: 0.80\"> </span><span style=\"background-color: hsl(120, 100.00%, 94.89%); opacity: 0.81\" title=\"0.013\">to</span><span style=\"opacity: 0.80\"> </span><span style=\"background-color: hsl(120, 100.00%, 79.19%); opacity: 0.88\" title=\"0.096\">be</span><span style=\"opacity: 0.80\"> a </span><span style=\"background-color: hsl(120, 100.00%, 91.35%); opacity: 0.82\" title=\"0.027\">decent</span><span style=\"opacity: 0.80\"> </span><span style=\"background-color: hsl(0, 100.00%, 94.12%); opacity: 0.81\" title=\"-0.016\">product</span><span style=\"opacity: 0.80\">.  </span><span style=\"background-color: hsl(120, 100.00%, 60.00%); opacity: 1.00\" title=\"0.244\">disgusting</span><span style=\"opacity: 0.80\"> </span><span style=\"background-color: hsl(0, 100.00%, 94.55%); opacity: 0.81\" title=\"-0.014\">now</span><span style=\"opacity: 0.80\"> </span><span style=\"background-color: hsl(0, 100.00%, 97.68%); opacity: 0.80\" title=\"-0.004\">and</span><span style=\"opacity: 0.80\"> </span><span style=\"background-color: hsl(0, 100.00%, 96.90%); opacity: 0.81\" title=\"-0.006\">difficult</span><span style=\"opacity: 0.80\"> </span><span style=\"background-color: hsl(0, 100.00%, 95.19%); opacity: 0.81\" title=\"-0.012\">on</span><span style=\"opacity: 0.80\"> </span><span style=\"background-color: hsl(120, 100.00%, 91.71%); opacity: 0.82\" title=\"0.026\">digestion</span><span style=\"opacity: 0.80\">.  </span><span style=\"background-color: hsl(120, 100.00%, 88.42%); opacity: 0.83\" title=\"0.042\">all</span><span style=\"opacity: 0.80\"> 3 </span><span style=\"background-color: hsl(120, 100.00%, 91.02%); opacity: 0.82\" title=\"0.029\">purchased</span><span style=\"opacity: 0.80\"> </span><span style=\"background-color: hsl(120, 100.00%, 98.80%); opacity: 0.80\" title=\"0.002\">from</span><span style=\"opacity: 0.80\"> </span><span style=\"background-color: hsl(0, 100.00%, 90.78%); opacity: 0.82\" title=\"-0.030\">costco</span><span style=\"opacity: 0.80\"> </span><span style=\"background-color: hsl(120, 100.00%, 89.99%); opacity: 0.83\" title=\"0.034\">over</span><span style=\"opacity: 0.80\"> </span><span style=\"background-color: hsl(120, 100.00%, 84.86%); opacity: 0.85\" title=\"0.061\">past</span><span style=\"opacity: 0.80\"> </span><span style=\"background-color: hsl(120, 100.00%, 92.14%); opacity: 0.82\" title=\"0.024\">couple</span><span style=\"opacity: 0.80\"> </span><span style=\"background-color: hsl(120, 100.00%, 81.91%); opacity: 0.86\" title=\"0.079\">months</span><span style=\"opacity: 0.80\"> </span><span style=\"background-color: hsl(120, 100.00%, 96.05%); opacity: 0.81\" title=\"0.009\">end</span><span style=\"opacity: 0.80\"> </span><span style=\"background-color: hsl(120, 100.00%, 96.79%); opacity: 0.81\" title=\"0.007\">in</span><span style=\"opacity: 0.80\"> </span><span style=\"background-color: hsl(120, 100.00%, 82.77%); opacity: 0.86\" title=\"0.073\">same</span><span style=\"opacity: 0.80\"> </span><span style=\"background-color: hsl(120, 100.00%, 93.67%); opacity: 0.81\" title=\"0.018\">result</span><span style=\"opacity: 0.80\"> -- </span><span style=\"background-color: hsl(120, 100.00%, 85.54%); opacity: 0.85\" title=\"0.057\">open</span><span style=\"opacity: 0.80\"> </span><span style=\"background-color: hsl(120, 100.00%, 84.12%); opacity: 0.85\" title=\"0.065\">the</span><span style=\"opacity: 0.80\"> </span><span style=\"background-color: hsl(120, 100.00%, 90.57%); opacity: 0.83\" title=\"0.031\">container</span><span style=\"opacity: 0.80\"> </span><span style=\"background-color: hsl(0, 100.00%, 97.68%); opacity: 0.80\" title=\"-0.004\">and</span><span style=\"opacity: 0.80\"> </span><span style=\"background-color: hsl(120, 100.00%, 90.02%); opacity: 0.83\" title=\"0.034\">it</span><span style=\"opacity: 0.80\"> </span><span style=\"background-color: hsl(0, 100.00%, 99.14%); opacity: 0.80\" title=\"-0.001\">smells</span><span style=\"opacity: 0.80\"> </span><span style=\"background-color: hsl(120, 100.00%, 83.84%); opacity: 0.85\" title=\"0.067\">like</span><span style=\"opacity: 0.80\"> </span><span style=\"background-color: hsl(120, 100.00%, 73.78%); opacity: 0.91\" title=\"0.134\">rancid</span><span style=\"opacity: 0.80\"> </span><span style=\"background-color: hsl(120, 100.00%, 97.73%); opacity: 0.80\" title=\"0.004\">oil</span><span style=\"opacity: 0.80\">.  </span><span style=\"background-color: hsl(120, 100.00%, 85.06%); opacity: 0.85\" title=\"0.060\">something</span><span style=\"opacity: 0.80\"> </span><span style=\"background-color: hsl(120, 100.00%, 70.74%); opacity: 0.93\" title=\"0.156\">not</span><span style=\"opacity: 0.80\"> </span><span style=\"background-color: hsl(120, 100.00%, 97.24%); opacity: 0.80\" title=\"0.005\">right</span><span style=\"opacity: 0.80\"> </span><span style=\"background-color: hsl(120, 100.00%, 95.90%); opacity: 0.81\" title=\"0.009\">about</span><span style=\"opacity: 0.80\"> </span><span style=\"background-color: hsl(120, 100.00%, 90.44%); opacity: 0.83\" title=\"0.032\">how</span><span style=\"opacity: 0.80\"> </span><span style=\"background-color: hsl(120, 100.00%, 88.94%); opacity: 0.83\" title=\"0.039\">they</span><span style=\"opacity: 0.80\"> </span><span style=\"background-color: hsl(0, 100.00%, 94.87%); opacity: 0.81\" title=\"-0.013\">are</span><span style=\"opacity: 0.80\"> </span><span style=\"background-color: hsl(0, 100.00%, 90.46%); opacity: 0.83\" title=\"-0.032\">making</span><span style=\"opacity: 0.80\">/</span><span style=\"background-color: hsl(120, 100.00%, 94.90%); opacity: 0.81\" title=\"0.013\">processing</span><span style=\"opacity: 0.80\"> </span><span style=\"background-color: hsl(120, 100.00%, 92.29%); opacity: 0.82\" title=\"0.023\">this</span><span style=\"opacity: 0.80\"> </span><span style=\"background-color: hsl(0, 100.00%, 89.08%); opacity: 0.83\" title=\"-0.038\">powder</span><span style=\"opacity: 0.80\"> </span><span style=\"background-color: hsl(0, 100.00%, 94.55%); opacity: 0.81\" title=\"-0.014\">now</span><span style=\"opacity: 0.80\">.  </span><span style=\"background-color: hsl(120, 100.00%, 66.96%); opacity: 0.95\" title=\"0.186\">will</span><span style=\"opacity: 0.80\"> </span><span style=\"background-color: hsl(120, 100.00%, 70.74%); opacity: 0.93\" title=\"0.156\">not</span><span style=\"opacity: 0.80\"> </span><span style=\"background-color: hsl(120, 100.00%, 84.03%); opacity: 0.85\" title=\"0.066\">buy</span><span style=\"opacity: 0.80\"> </span><span style=\"background-color: hsl(120, 100.00%, 79.65%); opacity: 0.88\" title=\"0.093\">again</span><span style=\"opacity: 0.80\">.</span>\n",
       "    </p>\n",
       "\n",
       "\n",
       "    \n",
       "\n",
       "    \n",
       "\n",
       "    \n",
       "\n",
       "    \n",
       "\n",
       "\n",
       "    \n",
       "\n",
       "    \n",
       "\n",
       "    \n",
       "\n",
       "    \n",
       "\n",
       "    \n",
       "\n",
       "    \n",
       "\n",
       "\n",
       "    \n",
       "\n",
       "    \n",
       "\n",
       "    \n",
       "\n",
       "    \n",
       "\n",
       "    \n",
       "\n",
       "    \n",
       "\n",
       "\n",
       "\n"
      ],
      "text/plain": [
       "<IPython.core.display.HTML object>"
      ]
     },
     "execution_count": 52,
     "metadata": {},
     "output_type": "execute_result"
    }
   ],
   "source": [
    "eli5.show_prediction(clf, text[0], vec=vec, target_names=[0, 1])"
   ]
  },
  {
   "cell_type": "code",
   "execution_count": 53,
   "metadata": {
    "execution": {
     "iopub.execute_input": "2021-05-13T02:07:55.681963Z",
     "iopub.status.busy": "2021-05-13T02:07:55.681755Z",
     "iopub.status.idle": "2021-05-13T02:07:55.764841Z",
     "shell.execute_reply": "2021-05-13T02:07:55.764286Z",
     "shell.execute_reply.started": "2021-05-13T02:07:55.681948Z"
    },
    "tags": []
   },
   "outputs": [
    {
     "data": {
      "text/html": [
       "\n",
       "    <style>\n",
       "    table.eli5-weights tr:hover {\n",
       "        filter: brightness(85%);\n",
       "    }\n",
       "</style>\n",
       "\n",
       "\n",
       "\n",
       "    \n",
       "\n",
       "    \n",
       "\n",
       "    \n",
       "\n",
       "    \n",
       "\n",
       "    \n",
       "\n",
       "    \n",
       "\n",
       "\n",
       "    \n",
       "\n",
       "    \n",
       "\n",
       "    \n",
       "\n",
       "    \n",
       "        \n",
       "\n",
       "    \n",
       "\n",
       "        \n",
       "\n",
       "        \n",
       "    \n",
       "        \n",
       "        \n",
       "    \n",
       "        <p style=\"margin-bottom: 0.5em; margin-top: 0em\">\n",
       "            <b>\n",
       "    \n",
       "        y=0\n",
       "    \n",
       "</b>\n",
       "\n",
       "    \n",
       "    (probability <b>0.944</b>, score <b>-2.819</b>)\n",
       "\n",
       "top features\n",
       "        </p>\n",
       "    \n",
       "    <table class=\"eli5-weights\"\n",
       "           style=\"border-collapse: collapse; border: none; margin-top: 0em; table-layout: auto; margin-bottom: 2em;\">\n",
       "        <thead>\n",
       "        <tr style=\"border: none;\">\n",
       "            \n",
       "                <th style=\"padding: 0 1em 0 0.5em; text-align: right; border: none;\" title=\"Feature contribution already accounts for the feature value (for linear models, contribution = weight * feature value), and the sum of feature contributions is equal to the score or, for some classifiers, to the probability. Feature values are shown if &quot;show_feature_values&quot; is True.\">\n",
       "                    Contribution<sup>?</sup>\n",
       "                </th>\n",
       "            \n",
       "            <th style=\"padding: 0 0.5em 0 0.5em; text-align: left; border: none;\">Feature</th>\n",
       "            \n",
       "        </tr>\n",
       "        </thead>\n",
       "        <tbody>\n",
       "        \n",
       "            <tr style=\"background-color: hsl(120, 100.00%, 80.00%); border: none;\">\n",
       "    <td style=\"padding: 0 1em 0 0.5em; text-align: right; border: none;\">\n",
       "        +2.868\n",
       "    </td>\n",
       "    <td style=\"padding: 0 0.5em 0 0.5em; text-align: left; border: none;\">\n",
       "        Highlighted in text (sum)\n",
       "    </td>\n",
       "    \n",
       "</tr>\n",
       "        \n",
       "        \n",
       "\n",
       "        \n",
       "        \n",
       "            <tr style=\"background-color: hsl(0, 100.00%, 98.85%); border: none;\">\n",
       "    <td style=\"padding: 0 1em 0 0.5em; text-align: right; border: none;\">\n",
       "        -0.048\n",
       "    </td>\n",
       "    <td style=\"padding: 0 0.5em 0 0.5em; text-align: left; border: none;\">\n",
       "        &lt;BIAS&gt;\n",
       "    </td>\n",
       "    \n",
       "</tr>\n",
       "        \n",
       "\n",
       "        </tbody>\n",
       "    </table>\n",
       "\n",
       "    \n",
       "\n",
       "\n",
       "\n",
       "    <p style=\"margin-bottom: 2.5em; margin-top:-0.5em;\">\n",
       "        <span style=\"background-color: hsl(120, 100.00%, 60.00%); opacity: 1.00\" title=\"0.203\">horrible</span><span style=\"opacity: 0.80\"> - </span><span style=\"background-color: hsl(120, 100.00%, 85.31%); opacity: 0.85\" title=\"0.048\">do</span><span style=\"opacity: 0.80\"> </span><span style=\"background-color: hsl(120, 100.00%, 62.36%); opacity: 0.98\" title=\"0.186\">not</span><span style=\"opacity: 0.80\"> </span><span style=\"background-color: hsl(120, 100.00%, 94.93%); opacity: 0.81\" title=\"0.011\">recommend</span><span style=\"opacity: 0.80\">. </span><span style=\"background-color: hsl(120, 100.00%, 61.59%); opacity: 0.99\" title=\"0.191\">was</span><span style=\"opacity: 0.80\"> </span><span style=\"background-color: hsl(120, 100.00%, 92.14%); opacity: 0.82\" title=\"0.020\">looking</span><span style=\"opacity: 0.80\"> </span><span style=\"background-color: hsl(0, 100.00%, 78.38%); opacity: 0.88\" title=\"-0.084\">for</span><span style=\"opacity: 0.80\"> </span><span style=\"background-color: hsl(0, 100.00%, 95.21%); opacity: 0.81\" title=\"-0.010\">an</span><span style=\"opacity: 0.80\"> </span><span style=\"background-color: hsl(120, 100.00%, 93.48%); opacity: 0.81\" title=\"0.015\">alternative</span><span style=\"opacity: 0.80\"> </span><span style=\"background-color: hsl(120, 100.00%, 93.42%); opacity: 0.82\" title=\"0.015\">to</span><span style=\"opacity: 0.80\"> </span><span style=\"background-color: hsl(120, 100.00%, 97.64%); opacity: 0.80\" title=\"0.004\">juicing</span><span style=\"opacity: 0.80\"> </span><span style=\"background-color: hsl(120, 100.00%, 83.53%); opacity: 0.86\" title=\"0.057\">when</span><span style=\"opacity: 0.80\"> i </span><span style=\"background-color: hsl(0, 100.00%, 90.84%); opacity: 0.82\" title=\"-0.025\">travel</span><span style=\"opacity: 0.80\"> - </span><span style=\"background-color: hsl(120, 100.00%, 90.08%); opacity: 0.83\" title=\"0.028\">this</span><span style=\"opacity: 0.80\"> </span><span style=\"background-color: hsl(0, 100.00%, 86.21%); opacity: 0.84\" title=\"-0.044\">is</span><span style=\"opacity: 0.80\"> </span><span style=\"background-color: hsl(120, 100.00%, 62.36%); opacity: 0.98\" title=\"0.186\">not</span><span style=\"opacity: 0.80\"> </span><span style=\"background-color: hsl(120, 100.00%, 79.57%); opacity: 0.88\" title=\"0.078\">the</span><span style=\"opacity: 0.80\"> </span><span style=\"background-color: hsl(120, 100.00%, 97.64%); opacity: 0.80\" title=\"0.004\">winner</span><span style=\"opacity: 0.80\">.  </span><span style=\"background-color: hsl(120, 100.00%, 83.16%); opacity: 0.86\" title=\"0.059\">taste</span><span style=\"opacity: 0.80\"> </span><span style=\"background-color: hsl(120, 100.00%, 61.59%); opacity: 0.99\" title=\"0.191\">was</span><span style=\"opacity: 0.80\"> </span><span style=\"background-color: hsl(120, 100.00%, 60.00%); opacity: 1.00\" title=\"0.203\">horrible</span><span style=\"opacity: 0.80\"> </span><span style=\"background-color: hsl(0, 100.00%, 97.01%); opacity: 0.80\" title=\"-0.005\">and</span><span style=\"opacity: 0.80\"> </span><span style=\"background-color: hsl(120, 100.00%, 75.40%); opacity: 0.90\" title=\"0.101\">there</span><span style=\"opacity: 0.80\"> </span><span style=\"background-color: hsl(120, 100.00%, 61.59%); opacity: 0.99\" title=\"0.191\">was</span><span style=\"opacity: 0.80\"> </span><span style=\"background-color: hsl(120, 100.00%, 97.19%); opacity: 0.80\" title=\"0.005\">some</span><span style=\"opacity: 0.80\"> </span><span style=\"background-color: hsl(120, 100.00%, 93.00%); opacity: 0.82\" title=\"0.017\">odd</span><span style=\"opacity: 0.80\"> </span><span style=\"background-color: hsl(120, 100.00%, 83.16%); opacity: 0.86\" title=\"0.059\">taste</span><span style=\"opacity: 0.80\"> </span><span style=\"background-color: hsl(120, 100.00%, 95.87%); opacity: 0.81\" title=\"0.008\">in</span><span style=\"opacity: 0.80\"> </span><span style=\"background-color: hsl(120, 100.00%, 79.57%); opacity: 0.88\" title=\"0.078\">the</span><span style=\"opacity: 0.80\"> </span><span style=\"background-color: hsl(0, 100.00%, 85.95%); opacity: 0.84\" title=\"-0.045\">powder</span><span style=\"opacity: 0.80\"> - </span><span style=\"background-color: hsl(120, 100.00%, 87.16%); opacity: 0.84\" title=\"0.040\">it</span><span style=\"opacity: 0.80\"> </span><span style=\"background-color: hsl(0, 100.00%, 97.73%); opacity: 0.80\" title=\"-0.003\">seemed</span><span style=\"opacity: 0.80\"> </span><span style=\"background-color: hsl(0, 100.00%, 82.51%); opacity: 0.86\" title=\"-0.062\">as</span><span style=\"opacity: 0.80\"> </span><span style=\"background-color: hsl(120, 100.00%, 78.65%); opacity: 0.88\" title=\"0.083\">if</span><span style=\"opacity: 0.80\"> </span><span style=\"background-color: hsl(120, 100.00%, 87.16%); opacity: 0.84\" title=\"0.040\">it</span><span style=\"opacity: 0.80\"> </span><span style=\"background-color: hsl(120, 100.00%, 61.59%); opacity: 0.99\" title=\"0.191\">was</span><span style=\"opacity: 0.80\"> </span><span style=\"background-color: hsl(120, 100.00%, 91.43%); opacity: 0.82\" title=\"0.022\">artificial</span><span style=\"opacity: 0.80\"> </span><span style=\"background-color: hsl(120, 100.00%, 79.46%); opacity: 0.88\" title=\"0.078\">maybe</span><span style=\"opacity: 0.80\"> - </span><span style=\"background-color: hsl(120, 100.00%, 87.16%); opacity: 0.84\" title=\"0.040\">it</span><span style=\"opacity: 0.80\"> </span><span style=\"background-color: hsl(120, 100.00%, 61.59%); opacity: 0.99\" title=\"0.191\">was</span><span style=\"opacity: 0.80\"> </span><span style=\"background-color: hsl(0, 100.00%, 93.63%); opacity: 0.81\" title=\"-0.015\">just</span><span style=\"opacity: 0.80\"> </span><span style=\"background-color: hsl(120, 100.00%, 62.36%); opacity: 0.98\" title=\"0.186\">not</span><span style=\"opacity: 0.80\"> </span><span style=\"background-color: hsl(120, 100.00%, 96.45%); opacity: 0.81\" title=\"0.006\">right</span><span style=\"opacity: 0.80\">.  </span><span style=\"background-color: hsl(120, 100.00%, 76.32%); opacity: 0.89\" title=\"0.096\">threw</span><span style=\"opacity: 0.80\"> </span><span style=\"background-color: hsl(120, 100.00%, 79.57%); opacity: 0.88\" title=\"0.078\">the</span><span style=\"opacity: 0.80\"> </span><span style=\"background-color: hsl(120, 100.00%, 87.87%); opacity: 0.84\" title=\"0.037\">container</span><span style=\"opacity: 0.80\"> </span><span style=\"background-color: hsl(120, 100.00%, 72.46%); opacity: 0.92\" title=\"0.119\">away</span><span style=\"opacity: 0.80\">.</span>\n",
       "    </p>\n",
       "\n",
       "\n",
       "    \n",
       "\n",
       "    \n",
       "\n",
       "    \n",
       "\n",
       "    \n",
       "\n",
       "\n",
       "    \n",
       "\n",
       "    \n",
       "\n",
       "    \n",
       "\n",
       "    \n",
       "\n",
       "    \n",
       "\n",
       "    \n",
       "\n",
       "\n",
       "    \n",
       "\n",
       "    \n",
       "\n",
       "    \n",
       "\n",
       "    \n",
       "\n",
       "    \n",
       "\n",
       "    \n",
       "\n",
       "\n",
       "\n"
      ],
      "text/plain": [
       "<IPython.core.display.HTML object>"
      ]
     },
     "execution_count": 53,
     "metadata": {},
     "output_type": "execute_result"
    }
   ],
   "source": [
    "eli5.show_prediction(clf, text[3], vec=vec, target_names=[0, 1])"
   ]
  },
  {
   "cell_type": "code",
   "execution_count": 54,
   "metadata": {
    "execution": {
     "iopub.execute_input": "2021-05-13T02:07:55.765674Z",
     "iopub.status.busy": "2021-05-13T02:07:55.765450Z",
     "iopub.status.idle": "2021-05-13T02:07:55.852639Z",
     "shell.execute_reply": "2021-05-13T02:07:55.852059Z",
     "shell.execute_reply.started": "2021-05-13T02:07:55.765657Z"
    },
    "tags": []
   },
   "outputs": [
    {
     "data": {
      "text/html": [
       "\n",
       "    <style>\n",
       "    table.eli5-weights tr:hover {\n",
       "        filter: brightness(85%);\n",
       "    }\n",
       "</style>\n",
       "\n",
       "\n",
       "\n",
       "    \n",
       "\n",
       "    \n",
       "\n",
       "    \n",
       "\n",
       "    \n",
       "\n",
       "    \n",
       "\n",
       "    \n",
       "\n",
       "\n",
       "    \n",
       "\n",
       "    \n",
       "\n",
       "    \n",
       "\n",
       "    \n",
       "        \n",
       "\n",
       "    \n",
       "\n",
       "        \n",
       "\n",
       "        \n",
       "    \n",
       "        \n",
       "        \n",
       "    \n",
       "        <p style=\"margin-bottom: 0.5em; margin-top: 0em\">\n",
       "            <b>\n",
       "    \n",
       "        y=0\n",
       "    \n",
       "</b>\n",
       "\n",
       "    \n",
       "    (probability <b>0.672</b>, score <b>-0.718</b>)\n",
       "\n",
       "top features\n",
       "        </p>\n",
       "    \n",
       "    <table class=\"eli5-weights\"\n",
       "           style=\"border-collapse: collapse; border: none; margin-top: 0em; table-layout: auto; margin-bottom: 2em;\">\n",
       "        <thead>\n",
       "        <tr style=\"border: none;\">\n",
       "            \n",
       "                <th style=\"padding: 0 1em 0 0.5em; text-align: right; border: none;\" title=\"Feature contribution already accounts for the feature value (for linear models, contribution = weight * feature value), and the sum of feature contributions is equal to the score or, for some classifiers, to the probability. Feature values are shown if &quot;show_feature_values&quot; is True.\">\n",
       "                    Contribution<sup>?</sup>\n",
       "                </th>\n",
       "            \n",
       "            <th style=\"padding: 0 0.5em 0 0.5em; text-align: left; border: none;\">Feature</th>\n",
       "            \n",
       "        </tr>\n",
       "        </thead>\n",
       "        <tbody>\n",
       "        \n",
       "            <tr style=\"background-color: hsl(120, 100.00%, 80.00%); border: none;\">\n",
       "    <td style=\"padding: 0 1em 0 0.5em; text-align: right; border: none;\">\n",
       "        +0.766\n",
       "    </td>\n",
       "    <td style=\"padding: 0 0.5em 0 0.5em; text-align: left; border: none;\">\n",
       "        Highlighted in text (sum)\n",
       "    </td>\n",
       "    \n",
       "</tr>\n",
       "        \n",
       "        \n",
       "\n",
       "        \n",
       "        \n",
       "            <tr style=\"background-color: hsl(0, 100.00%, 97.11%); border: none;\">\n",
       "    <td style=\"padding: 0 1em 0 0.5em; text-align: right; border: none;\">\n",
       "        -0.048\n",
       "    </td>\n",
       "    <td style=\"padding: 0 0.5em 0 0.5em; text-align: left; border: none;\">\n",
       "        &lt;BIAS&gt;\n",
       "    </td>\n",
       "    \n",
       "</tr>\n",
       "        \n",
       "\n",
       "        </tbody>\n",
       "    </table>\n",
       "\n",
       "    \n",
       "\n",
       "\n",
       "\n",
       "    <p style=\"margin-bottom: 2.5em; margin-top:-0.5em;\">\n",
       "        <span style=\"background-color: hsl(0, 100.00%, 85.72%); opacity: 0.85\" title=\"-0.031\">you</span><span style=\"opacity: 0.80\"> </span><span style=\"background-color: hsl(120, 100.00%, 88.57%); opacity: 0.83\" title=\"0.023\">lost</span><span style=\"opacity: 0.80\"> </span><span style=\"background-color: hsl(0, 100.00%, 96.81%); opacity: 0.81\" title=\"-0.004\">me</span><span style=\"opacity: 0.80\"> </span><span style=\"background-color: hsl(0, 100.00%, 84.47%); opacity: 0.85\" title=\"-0.035\">at</span><span style=\"opacity: 0.80\"> </span><span style=\"background-color: hsl(120, 100.00%, 81.29%); opacity: 0.87\" title=\"0.046\">canola</span><span style=\"opacity: 0.80\"> </span><span style=\"background-color: hsl(120, 100.00%, 97.50%); opacity: 0.80\" title=\"0.003\">oil</span><span style=\"opacity: 0.80\">. i </span><span style=\"background-color: hsl(120, 100.00%, 94.31%); opacity: 0.81\" title=\"0.008\">bought</span><span style=\"opacity: 0.80\"> </span><span style=\"background-color: hsl(120, 100.00%, 88.34%); opacity: 0.83\" title=\"0.023\">these</span><span style=\"opacity: 0.80\"> </span><span style=\"background-color: hsl(120, 100.00%, 93.56%); opacity: 0.81\" title=\"0.010\">granola</span><span style=\"opacity: 0.80\"> </span><span style=\"background-color: hsl(0, 100.00%, 93.29%); opacity: 0.82\" title=\"-0.011\">bars</span><span style=\"opacity: 0.80\"> </span><span style=\"background-color: hsl(120, 100.00%, 91.72%); opacity: 0.82\" title=\"0.014\">because</span><span style=\"opacity: 0.80\"> i </span><span style=\"background-color: hsl(120, 100.00%, 78.10%); opacity: 0.88\" title=\"0.058\">had</span><span style=\"opacity: 0.80\"> </span><span style=\"background-color: hsl(120, 100.00%, 87.55%); opacity: 0.84\" title=\"0.026\">heard</span><span style=\"opacity: 0.80\"> </span><span style=\"background-color: hsl(120, 100.00%, 87.85%); opacity: 0.84\" title=\"0.025\">they</span><span style=\"opacity: 0.80\"> </span><span style=\"background-color: hsl(120, 100.00%, 79.47%); opacity: 0.88\" title=\"0.052\">were</span><span style=\"opacity: 0.80\"> a </span><span style=\"background-color: hsl(0, 100.00%, 80.95%); opacity: 0.87\" title=\"-0.047\">healthy</span><span style=\"opacity: 0.80\"> </span><span style=\"background-color: hsl(120, 100.00%, 94.43%); opacity: 0.81\" title=\"0.008\">alternative</span><span style=\"opacity: 0.80\"> </span><span style=\"background-color: hsl(120, 100.00%, 94.38%); opacity: 0.81\" title=\"0.008\">to</span><span style=\"opacity: 0.80\"> </span><span style=\"background-color: hsl(120, 100.00%, 93.56%); opacity: 0.81\" title=\"0.010\">granola</span><span style=\"opacity: 0.80\"> </span><span style=\"background-color: hsl(0, 100.00%, 93.29%); opacity: 0.82\" title=\"-0.011\">bars</span><span style=\"opacity: 0.80\">, </span><span style=\"background-color: hsl(0, 100.00%, 97.45%); opacity: 0.80\" title=\"-0.003\">and</span><span style=\"opacity: 0.80\"> </span><span style=\"background-color: hsl(120, 100.00%, 92.73%); opacity: 0.82\" title=\"0.012\">basically</span><span style=\"opacity: 0.80\"> a </span><span style=\"background-color: hsl(0, 100.00%, 92.20%); opacity: 0.82\" title=\"-0.013\">tasty</span><span style=\"opacity: 0.80\"> </span><span style=\"background-color: hsl(120, 100.00%, 95.53%); opacity: 0.81\" title=\"0.006\">option</span><span style=\"opacity: 0.80\">.  </span><span style=\"background-color: hsl(120, 100.00%, 97.11%); opacity: 0.80\" title=\"0.003\">so</span><span style=\"opacity: 0.80\"> i </span><span style=\"background-color: hsl(120, 100.00%, 83.86%); opacity: 0.85\" title=\"0.037\">ordered</span><span style=\"opacity: 0.80\"> </span><span style=\"background-color: hsl(120, 100.00%, 86.29%); opacity: 0.84\" title=\"0.030\">them</span><span style=\"opacity: 0.80\">.  </span><span style=\"background-color: hsl(0, 100.00%, 93.46%); opacity: 0.82\" title=\"-0.010\">well</span><span style=\"opacity: 0.80\">, </span><span style=\"background-color: hsl(0, 100.00%, 86.58%); opacity: 0.84\" title=\"-0.029\">kind</span><span style=\"opacity: 0.80\">, </span><span style=\"background-color: hsl(0, 100.00%, 85.72%); opacity: 0.85\" title=\"-0.031\">you</span><span style=\"opacity: 0.80\"> </span><span style=\"background-color: hsl(120, 100.00%, 88.57%); opacity: 0.83\" title=\"0.023\">lost</span><span style=\"opacity: 0.80\"> </span><span style=\"background-color: hsl(0, 100.00%, 96.81%); opacity: 0.81\" title=\"-0.004\">me</span><span style=\"opacity: 0.80\"> </span><span style=\"background-color: hsl(0, 100.00%, 84.47%); opacity: 0.85\" title=\"-0.035\">at</span><span style=\"opacity: 0.80\"> </span><span style=\"background-color: hsl(120, 100.00%, 81.29%); opacity: 0.87\" title=\"0.046\">canola</span><span style=\"opacity: 0.80\"> </span><span style=\"background-color: hsl(120, 100.00%, 97.50%); opacity: 0.80\" title=\"0.003\">oil</span><span style=\"opacity: 0.80\">.  </span><span style=\"background-color: hsl(120, 100.00%, 81.29%); opacity: 0.87\" title=\"0.046\">canola</span><span style=\"opacity: 0.80\"> </span><span style=\"background-color: hsl(120, 100.00%, 97.50%); opacity: 0.80\" title=\"0.003\">oil</span><span style=\"opacity: 0.80\"> (</span><span style=\"background-color: hsl(120, 100.00%, 94.76%); opacity: 0.81\" title=\"0.007\">rapeseed</span><span style=\"opacity: 0.80\"> </span><span style=\"background-color: hsl(120, 100.00%, 97.50%); opacity: 0.80\" title=\"0.003\">oil</span><span style=\"opacity: 0.80\">) </span><span style=\"background-color: hsl(0, 100.00%, 88.22%); opacity: 0.83\" title=\"-0.024\">is</span><span style=\"opacity: 0.80\"> </span><span style=\"background-color: hsl(0, 100.00%, 95.91%); opacity: 0.81\" title=\"-0.005\">an</span><span style=\"opacity: 0.80\"> </span><span style=\"background-color: hsl(120, 100.00%, 89.09%); opacity: 0.83\" title=\"0.021\">extremely</span><span style=\"opacity: 0.80\"> </span><span style=\"background-color: hsl(120, 100.00%, 96.06%); opacity: 0.81\" title=\"0.005\">processed</span><span style=\"opacity: 0.80\"> </span><span style=\"background-color: hsl(120, 100.00%, 97.50%); opacity: 0.80\" title=\"0.003\">oil</span><span style=\"opacity: 0.80\"> </span><span style=\"background-color: hsl(120, 100.00%, 90.78%); opacity: 0.82\" title=\"0.017\">that</span><span style=\"opacity: 0.80\"> </span><span style=\"background-color: hsl(0, 100.00%, 91.59%); opacity: 0.82\" title=\"-0.015\">has</span><span style=\"opacity: 0.80\"> </span><span style=\"background-color: hsl(120, 100.00%, 94.40%); opacity: 0.81\" title=\"0.008\">proven</span><span style=\"opacity: 0.80\"> </span><span style=\"background-color: hsl(120, 100.00%, 94.38%); opacity: 0.81\" title=\"0.008\">to</span><span style=\"opacity: 0.80\"> </span><span style=\"background-color: hsl(0, 100.00%, 92.53%); opacity: 0.82\" title=\"-0.012\">damage</span><span style=\"opacity: 0.80\"> </span><span style=\"background-color: hsl(120, 100.00%, 95.53%); opacity: 0.81\" title=\"0.006\">cells</span><span style=\"opacity: 0.80\">, </span><span style=\"background-color: hsl(0, 100.00%, 97.45%); opacity: 0.80\" title=\"-0.003\">and</span><span style=\"opacity: 0.80\"> </span><span style=\"background-color: hsl(0, 100.00%, 88.22%); opacity: 0.83\" title=\"-0.024\">is</span><span style=\"opacity: 0.80\"> </span><span style=\"background-color: hsl(120, 100.00%, 67.85%); opacity: 0.95\" title=\"0.100\">not</span><span style=\"opacity: 0.80\"> </span><span style=\"background-color: hsl(120, 100.00%, 90.81%); opacity: 0.82\" title=\"0.017\">heart</span><span style=\"opacity: 0.80\"> </span><span style=\"background-color: hsl(0, 100.00%, 80.95%); opacity: 0.87\" title=\"-0.047\">healthy</span><span style=\"opacity: 0.80\"> </span><span style=\"background-color: hsl(0, 100.00%, 85.06%); opacity: 0.85\" title=\"-0.033\">as</span><span style=\"opacity: 0.80\"> </span><span style=\"background-color: hsl(120, 100.00%, 95.53%); opacity: 0.81\" title=\"0.006\">touted</span><span style=\"opacity: 0.80\">.  </span><span style=\"background-color: hsl(120, 100.00%, 86.98%); opacity: 0.84\" title=\"0.027\">once</span><span style=\"opacity: 0.80\"> i </span><span style=\"background-color: hsl(120, 100.00%, 90.93%); opacity: 0.82\" title=\"0.016\">saw</span><span style=\"opacity: 0.80\"> </span><span style=\"background-color: hsl(120, 100.00%, 91.52%); opacity: 0.82\" title=\"0.015\">this</span><span style=\"opacity: 0.80\"> </span><span style=\"background-color: hsl(120, 100.00%, 96.92%); opacity: 0.81\" title=\"0.003\">ingredient</span><span style=\"opacity: 0.80\"> i </span><span style=\"background-color: hsl(120, 100.00%, 67.19%); opacity: 0.95\" title=\"0.103\">was</span><span style=\"opacity: 0.80\"> </span><span style=\"background-color: hsl(120, 100.00%, 63.27%); opacity: 0.98\" title=\"0.121\">disappointed</span><span style=\"opacity: 0.80\">, </span><span style=\"background-color: hsl(120, 100.00%, 84.59%); opacity: 0.85\" title=\"0.035\">but</span><span style=\"opacity: 0.80\"> i </span><span style=\"background-color: hsl(120, 100.00%, 76.24%); opacity: 0.90\" title=\"0.065\">still</span><span style=\"opacity: 0.80\"> </span><span style=\"background-color: hsl(120, 100.00%, 87.37%); opacity: 0.84\" title=\"0.026\">gave</span><span style=\"opacity: 0.80\"> </span><span style=\"background-color: hsl(120, 100.00%, 86.29%); opacity: 0.84\" title=\"0.030\">them</span><span style=\"opacity: 0.80\"> a </span><span style=\"background-color: hsl(120, 100.00%, 93.04%); opacity: 0.82\" title=\"0.011\">try</span><span style=\"opacity: 0.80\">.  </span><span style=\"background-color: hsl(120, 100.00%, 95.62%); opacity: 0.81\" title=\"0.006\">way</span><span style=\"opacity: 0.80\"> </span><span style=\"background-color: hsl(0, 100.00%, 99.29%); opacity: 0.80\" title=\"-0.000\">too</span><span style=\"opacity: 0.80\"> </span><span style=\"background-color: hsl(0, 100.00%, 86.36%); opacity: 0.84\" title=\"-0.029\">sweet</span><span style=\"opacity: 0.80\">.  </span><span style=\"background-color: hsl(120, 100.00%, 82.55%); opacity: 0.86\" title=\"0.042\">the</span><span style=\"opacity: 0.80\"> </span><span style=\"background-color: hsl(0, 100.00%, 78.12%); opacity: 0.88\" title=\"-0.058\">fact</span><span style=\"opacity: 0.80\"> </span><span style=\"background-color: hsl(120, 100.00%, 90.78%); opacity: 0.82\" title=\"0.017\">that</span><span style=\"opacity: 0.80\"> </span><span style=\"background-color: hsl(120, 100.00%, 87.85%); opacity: 0.84\" title=\"0.025\">they</span><span style=\"opacity: 0.80\"> </span><span style=\"background-color: hsl(0, 100.00%, 81.54%); opacity: 0.87\" title=\"-0.045\">use</span><span style=\"opacity: 0.80\"> </span><span style=\"background-color: hsl(0, 100.00%, 60.00%); opacity: 1.00\" title=\"-0.136\">five</span><span style=\"opacity: 0.80\"> </span><span style=\"background-color: hsl(120, 100.00%, 86.94%); opacity: 0.84\" title=\"0.028\">different</span><span style=\"opacity: 0.80\"> </span><span style=\"background-color: hsl(120, 100.00%, 95.53%); opacity: 0.81\" title=\"0.006\">types</span><span style=\"opacity: 0.80\"> </span><span style=\"background-color: hsl(120, 100.00%, 91.76%); opacity: 0.82\" title=\"0.014\">of</span><span style=\"opacity: 0.80\"> </span><span style=\"background-color: hsl(120, 100.00%, 95.53%); opacity: 0.81\" title=\"0.006\">sweeteners</span><span style=\"opacity: 0.80\"> </span><span style=\"background-color: hsl(0, 100.00%, 88.22%); opacity: 0.83\" title=\"-0.024\">is</span><span style=\"opacity: 0.80\"> </span><span style=\"background-color: hsl(120, 100.00%, 95.53%); opacity: 0.81\" title=\"0.006\">unreasonable</span><span style=\"opacity: 0.80\"> </span><span style=\"background-color: hsl(0, 100.00%, 97.45%); opacity: 0.80\" title=\"-0.003\">and</span><span style=\"opacity: 0.80\">, </span><span style=\"background-color: hsl(120, 100.00%, 95.53%); opacity: 0.81\" title=\"0.006\">frankly</span><span style=\"opacity: 0.80\">, i </span><span style=\"background-color: hsl(120, 100.00%, 84.77%); opacity: 0.85\" title=\"0.034\">won</span><span style=\"opacity: 0.80\">&#x27;t </span><span style=\"background-color: hsl(120, 100.00%, 82.45%); opacity: 0.86\" title=\"0.042\">buy</span><span style=\"opacity: 0.80\"> </span><span style=\"background-color: hsl(120, 100.00%, 88.34%); opacity: 0.83\" title=\"0.023\">these</span><span style=\"opacity: 0.80\"> </span><span style=\"background-color: hsl(120, 100.00%, 77.64%); opacity: 0.89\" title=\"0.059\">again</span><span style=\"opacity: 0.80\">.</span>\n",
       "    </p>\n",
       "\n",
       "\n",
       "    \n",
       "\n",
       "    \n",
       "\n",
       "    \n",
       "\n",
       "    \n",
       "\n",
       "\n",
       "    \n",
       "\n",
       "    \n",
       "\n",
       "    \n",
       "\n",
       "    \n",
       "\n",
       "    \n",
       "\n",
       "    \n",
       "\n",
       "\n",
       "    \n",
       "\n",
       "    \n",
       "\n",
       "    \n",
       "\n",
       "    \n",
       "\n",
       "    \n",
       "\n",
       "    \n",
       "\n",
       "\n",
       "\n"
      ],
      "text/plain": [
       "<IPython.core.display.HTML object>"
      ]
     },
     "execution_count": 54,
     "metadata": {},
     "output_type": "execute_result"
    }
   ],
   "source": [
    "eli5.show_prediction(clf, text[500], vec=vec, target_names=[0, 1])"
   ]
  },
  {
   "cell_type": "markdown",
   "metadata": {},
   "source": [
    "# output"
   ]
  },
  {
   "cell_type": "code",
   "execution_count": 55,
   "metadata": {
    "execution": {
     "iopub.execute_input": "2021-05-13T02:10:25.942152Z",
     "iopub.status.busy": "2021-05-13T02:10:25.941582Z",
     "iopub.status.idle": "2021-05-13T02:10:26.545472Z",
     "shell.execute_reply": "2021-05-13T02:10:26.544770Z",
     "shell.execute_reply.started": "2021-05-13T02:10:25.942106Z"
    },
    "tags": []
   },
   "outputs": [],
   "source": [
    "predict_result = pipe.predict(df['review_body'].iloc[:])"
   ]
  },
  {
   "cell_type": "code",
   "execution_count": 56,
   "metadata": {
    "execution": {
     "iopub.execute_input": "2021-05-13T02:13:45.926844Z",
     "iopub.status.busy": "2021-05-13T02:13:45.926315Z",
     "iopub.status.idle": "2021-05-13T02:13:45.939557Z",
     "shell.execute_reply": "2021-05-13T02:13:45.938399Z",
     "shell.execute_reply.started": "2021-05-13T02:13:45.926800Z"
    },
    "tags": []
   },
   "outputs": [],
   "source": [
    "bad_product = df[predict_result == 0][df[predict_result == 0]['star_rating'] == 1]"
   ]
  },
  {
   "cell_type": "code",
   "execution_count": 57,
   "metadata": {
    "execution": {
     "iopub.execute_input": "2021-05-13T02:13:53.191882Z",
     "iopub.status.busy": "2021-05-13T02:13:53.191325Z",
     "iopub.status.idle": "2021-05-13T02:13:53.203865Z",
     "shell.execute_reply": "2021-05-13T02:13:53.203327Z",
     "shell.execute_reply.started": "2021-05-13T02:13:53.191836Z"
    }
   },
   "outputs": [
    {
     "data": {
      "text/html": [
       "<div>\n",
       "<style scoped>\n",
       "    .dataframe tbody tr th:only-of-type {\n",
       "        vertical-align: middle;\n",
       "    }\n",
       "\n",
       "    .dataframe tbody tr th {\n",
       "        vertical-align: top;\n",
       "    }\n",
       "\n",
       "    .dataframe thead th {\n",
       "        text-align: right;\n",
       "    }\n",
       "</style>\n",
       "<table border=\"1\" class=\"dataframe\">\n",
       "  <thead>\n",
       "    <tr style=\"text-align: right;\">\n",
       "      <th></th>\n",
       "      <th>customer_id</th>\n",
       "      <th>review_id</th>\n",
       "      <th>product_id</th>\n",
       "      <th>product_parent</th>\n",
       "      <th>product_title</th>\n",
       "      <th>star_rating</th>\n",
       "      <th>helpful_votes</th>\n",
       "      <th>total_votes</th>\n",
       "      <th>vine</th>\n",
       "      <th>verified_purchase</th>\n",
       "      <th>review_headline</th>\n",
       "      <th>review_body</th>\n",
       "      <th>review_date</th>\n",
       "    </tr>\n",
       "  </thead>\n",
       "  <tbody>\n",
       "    <tr>\n",
       "      <td>9</td>\n",
       "      <td>19624355</td>\n",
       "      <td>R1ODXB3C9UP3NL</td>\n",
       "      <td>B00J074W94</td>\n",
       "      <td>2499702</td>\n",
       "      <td>Orgain Organic Plant Based Protein Powder, Pac...</td>\n",
       "      <td>1</td>\n",
       "      <td>1</td>\n",
       "      <td>3</td>\n",
       "      <td>N</td>\n",
       "      <td>N</td>\n",
       "      <td>Disgusting now and difficult on digestion</td>\n",
       "      <td>Disgusting now and difficult on digestion. Use...</td>\n",
       "      <td>2015-08-31</td>\n",
       "    </tr>\n",
       "    <tr>\n",
       "      <td>17</td>\n",
       "      <td>22765168</td>\n",
       "      <td>R3T6TTD2IN0EFZ</td>\n",
       "      <td>B00XDXMLL2</td>\n",
       "      <td>971154239</td>\n",
       "      <td>Skippy Creamy Peanut Butter, with Salted Caram...</td>\n",
       "      <td>1</td>\n",
       "      <td>4</td>\n",
       "      <td>4</td>\n",
       "      <td>N</td>\n",
       "      <td>N</td>\n",
       "      <td>1 Out Of 5 Of My Co-Workers Thought It Was \"Okay\"</td>\n",
       "      <td>1 Out Of 5 Of My Co-Workers Thought It Was \"Ok...</td>\n",
       "      <td>2015-08-31</td>\n",
       "    </tr>\n",
       "    <tr>\n",
       "      <td>23</td>\n",
       "      <td>35636887</td>\n",
       "      <td>R9MISLBRG08FX</td>\n",
       "      <td>B00DBSFXUA</td>\n",
       "      <td>294404974</td>\n",
       "      <td>Keebler Town House Pita Crackers, 9.5 Ounce</td>\n",
       "      <td>1</td>\n",
       "      <td>0</td>\n",
       "      <td>0</td>\n",
       "      <td>N</td>\n",
       "      <td>Y</td>\n",
       "      <td>pita crackers</td>\n",
       "      <td>pita crackers. not craze about these. nothing ...</td>\n",
       "      <td>2015-08-31</td>\n",
       "    </tr>\n",
       "    <tr>\n",
       "      <td>40</td>\n",
       "      <td>29000177</td>\n",
       "      <td>R1DIYK2UJ1C7FC</td>\n",
       "      <td>B00A66TR8E</td>\n",
       "      <td>3209118</td>\n",
       "      <td>Amoretti Premium Syrup, Pineapple, 25.4 Ounce</td>\n",
       "      <td>1</td>\n",
       "      <td>0</td>\n",
       "      <td>2</td>\n",
       "      <td>N</td>\n",
       "      <td>Y</td>\n",
       "      <td>Does not recommend!</td>\n",
       "      <td>Does not recommend!. This product is beautiful...</td>\n",
       "      <td>2015-08-31</td>\n",
       "    </tr>\n",
       "    <tr>\n",
       "      <td>99</td>\n",
       "      <td>33828780</td>\n",
       "      <td>R2B9WKQP7ZZVPQ</td>\n",
       "      <td>B006ONNLNA</td>\n",
       "      <td>702537450</td>\n",
       "      <td>Gustaf’s Traditional Dutch Authentic Double Sa...</td>\n",
       "      <td>1</td>\n",
       "      <td>0</td>\n",
       "      <td>5</td>\n",
       "      <td>N</td>\n",
       "      <td>Y</td>\n",
       "      <td>It's actually TOO salty.</td>\n",
       "      <td>It's actually TOO salty.. Not what I expected....</td>\n",
       "      <td>2015-08-31</td>\n",
       "    </tr>\n",
       "  </tbody>\n",
       "</table>\n",
       "</div>"
      ],
      "text/plain": [
       "    customer_id       review_id  product_id  product_parent  \\\n",
       "9      19624355  R1ODXB3C9UP3NL  B00J074W94         2499702   \n",
       "17     22765168  R3T6TTD2IN0EFZ  B00XDXMLL2       971154239   \n",
       "23     35636887   R9MISLBRG08FX  B00DBSFXUA       294404974   \n",
       "40     29000177  R1DIYK2UJ1C7FC  B00A66TR8E         3209118   \n",
       "99     33828780  R2B9WKQP7ZZVPQ  B006ONNLNA       702537450   \n",
       "\n",
       "                                        product_title  star_rating  \\\n",
       "9   Orgain Organic Plant Based Protein Powder, Pac...            1   \n",
       "17  Skippy Creamy Peanut Butter, with Salted Caram...            1   \n",
       "23        Keebler Town House Pita Crackers, 9.5 Ounce            1   \n",
       "40      Amoretti Premium Syrup, Pineapple, 25.4 Ounce            1   \n",
       "99  Gustaf’s Traditional Dutch Authentic Double Sa...            1   \n",
       "\n",
       "    helpful_votes  total_votes vine verified_purchase  \\\n",
       "9               1            3    N                 N   \n",
       "17              4            4    N                 N   \n",
       "23              0            0    N                 Y   \n",
       "40              0            2    N                 Y   \n",
       "99              0            5    N                 Y   \n",
       "\n",
       "                                      review_headline  \\\n",
       "9           Disgusting now and difficult on digestion   \n",
       "17  1 Out Of 5 Of My Co-Workers Thought It Was \"Okay\"   \n",
       "23                                      pita crackers   \n",
       "40                                Does not recommend!   \n",
       "99                           It's actually TOO salty.   \n",
       "\n",
       "                                          review_body review_date  \n",
       "9   Disgusting now and difficult on digestion. Use...  2015-08-31  \n",
       "17  1 Out Of 5 Of My Co-Workers Thought It Was \"Ok...  2015-08-31  \n",
       "23  pita crackers. not craze about these. nothing ...  2015-08-31  \n",
       "40  Does not recommend!. This product is beautiful...  2015-08-31  \n",
       "99  It's actually TOO salty.. Not what I expected....  2015-08-31  "
      ]
     },
     "execution_count": 57,
     "metadata": {},
     "output_type": "execute_result"
    }
   ],
   "source": [
    "bad_product.head()"
   ]
  },
  {
   "cell_type": "code",
   "execution_count": 58,
   "metadata": {
    "execution": {
     "iopub.execute_input": "2021-05-13T02:14:29.141925Z",
     "iopub.status.busy": "2021-05-13T02:14:29.141441Z",
     "iopub.status.idle": "2021-05-13T02:14:29.147509Z",
     "shell.execute_reply": "2021-05-13T02:14:29.146870Z",
     "shell.execute_reply.started": "2021-05-13T02:14:29.141907Z"
    }
   },
   "outputs": [
    {
     "data": {
      "text/plain": [
       "9        B00J074W94\n",
       "17       B00XDXMLL2\n",
       "23       B00DBSFXUA\n",
       "40       B00A66TR8E\n",
       "99       B006ONNLNA\n",
       "            ...    \n",
       "39933    B0097GS4II\n",
       "39940    B00DY9WAZW\n",
       "39955    B00V5DE4AI\n",
       "39985    B00SS629VG\n",
       "39987    B00L4JURMM\n",
       "Name: product_id, Length: 2308, dtype: object"
      ]
     },
     "execution_count": 58,
     "metadata": {},
     "output_type": "execute_result"
    }
   ],
   "source": [
    "# all\n",
    "bad_product['product_id']"
   ]
  },
  {
   "cell_type": "code",
   "execution_count": 59,
   "metadata": {
    "execution": {
     "iopub.execute_input": "2021-05-13T06:42:32.242383Z",
     "iopub.status.busy": "2021-05-13T06:42:32.241812Z",
     "iopub.status.idle": "2021-05-13T06:42:32.256128Z",
     "shell.execute_reply": "2021-05-13T06:42:32.255498Z",
     "shell.execute_reply.started": "2021-05-13T06:42:32.242335Z"
    },
    "tags": []
   },
   "outputs": [
    {
     "data": {
      "text/html": [
       "<div>\n",
       "<style scoped>\n",
       "    .dataframe tbody tr th:only-of-type {\n",
       "        vertical-align: middle;\n",
       "    }\n",
       "\n",
       "    .dataframe tbody tr th {\n",
       "        vertical-align: top;\n",
       "    }\n",
       "\n",
       "    .dataframe thead th {\n",
       "        text-align: right;\n",
       "    }\n",
       "</style>\n",
       "<table border=\"1\" class=\"dataframe\">\n",
       "  <thead>\n",
       "    <tr style=\"text-align: right;\">\n",
       "      <th></th>\n",
       "      <th>product_id</th>\n",
       "      <th>product_title</th>\n",
       "    </tr>\n",
       "  </thead>\n",
       "  <tbody>\n",
       "    <tr>\n",
       "      <td>381</td>\n",
       "      <td>B00029KOVO</td>\n",
       "      <td>MarketSpice Teabags, box of 24 (Market Spice T...</td>\n",
       "    </tr>\n",
       "    <tr>\n",
       "      <td>1453</td>\n",
       "      <td>B00B1VPL2Y</td>\n",
       "      <td>Kellogg's Pop-Tarts Frosted Red Velvet - 8 CT</td>\n",
       "    </tr>\n",
       "    <tr>\n",
       "      <td>1578</td>\n",
       "      <td>B003V0IK6C</td>\n",
       "      <td>Atora Light Shredded Vegetable Suet 200gr (7.0...</td>\n",
       "    </tr>\n",
       "    <tr>\n",
       "      <td>2884</td>\n",
       "      <td>B00CS5T2C2</td>\n",
       "      <td>Spectrum Essentials Chia and Flax Seed Decaden...</td>\n",
       "    </tr>\n",
       "    <tr>\n",
       "      <td>3483</td>\n",
       "      <td>B00I08JK7S</td>\n",
       "      <td>Green Mountain Coffee Dark Magic Keurig Single...</td>\n",
       "    </tr>\n",
       "    <tr>\n",
       "      <td>...</td>\n",
       "      <td>...</td>\n",
       "      <td>...</td>\n",
       "    </tr>\n",
       "    <tr>\n",
       "      <td>39336</td>\n",
       "      <td>B00RDL7NTU</td>\n",
       "      <td>Paleo Protein Bars (20g Protein) (6 Net Carbs)...</td>\n",
       "    </tr>\n",
       "    <tr>\n",
       "      <td>39360</td>\n",
       "      <td>B00BJ579KO</td>\n",
       "      <td>Coco Libre Protein Coconut Water</td>\n",
       "    </tr>\n",
       "    <tr>\n",
       "      <td>39642</td>\n",
       "      <td>B00I709MY0</td>\n",
       "      <td>Natierra Nature's All Foods Freeze</td>\n",
       "    </tr>\n",
       "    <tr>\n",
       "      <td>39670</td>\n",
       "      <td>B004SK419E</td>\n",
       "      <td>Plocky's Hummus Chips, Original, .8 oz,  (Pack...</td>\n",
       "    </tr>\n",
       "    <tr>\n",
       "      <td>39724</td>\n",
       "      <td>B002OFOK50</td>\n",
       "      <td>Raw Rev 100 Calorie Fruit, Nut and Seed Superf...</td>\n",
       "    </tr>\n",
       "  </tbody>\n",
       "</table>\n",
       "<p>83 rows × 2 columns</p>\n",
       "</div>"
      ],
      "text/plain": [
       "       product_id                                      product_title\n",
       "381    B00029KOVO  MarketSpice Teabags, box of 24 (Market Spice T...\n",
       "1453   B00B1VPL2Y      Kellogg's Pop-Tarts Frosted Red Velvet - 8 CT\n",
       "1578   B003V0IK6C  Atora Light Shredded Vegetable Suet 200gr (7.0...\n",
       "2884   B00CS5T2C2  Spectrum Essentials Chia and Flax Seed Decaden...\n",
       "3483   B00I08JK7S  Green Mountain Coffee Dark Magic Keurig Single...\n",
       "...           ...                                                ...\n",
       "39336  B00RDL7NTU  Paleo Protein Bars (20g Protein) (6 Net Carbs)...\n",
       "39360  B00BJ579KO                   Coco Libre Protein Coconut Water\n",
       "39642  B00I709MY0                 Natierra Nature's All Foods Freeze\n",
       "39670  B004SK419E  Plocky's Hummus Chips, Original, .8 oz,  (Pack...\n",
       "39724  B002OFOK50  Raw Rev 100 Calorie Fruit, Nut and Seed Superf...\n",
       "\n",
       "[83 rows x 2 columns]"
      ]
     },
     "execution_count": 59,
     "metadata": {},
     "output_type": "execute_result"
    }
   ],
   "source": [
    "# reviews with <expied/expiration>\n",
    "\n",
    "bad_product[\n",
    "    bad_product['review_body'].apply(lambda x: 'expir' in x.lower())\n",
    "][['product_id', 'product_title']]"
   ]
  },
  {
   "cell_type": "code",
   "execution_count": 60,
   "metadata": {
    "execution": {
     "iopub.execute_input": "2021-05-13T06:42:54.102877Z",
     "iopub.status.busy": "2021-05-13T06:42:54.102306Z",
     "iopub.status.idle": "2021-05-13T06:42:54.117292Z",
     "shell.execute_reply": "2021-05-13T06:42:54.116338Z",
     "shell.execute_reply.started": "2021-05-13T06:42:54.102830Z"
    },
    "tags": []
   },
   "outputs": [
    {
     "data": {
      "text/html": [
       "<div>\n",
       "<style scoped>\n",
       "    .dataframe tbody tr th:only-of-type {\n",
       "        vertical-align: middle;\n",
       "    }\n",
       "\n",
       "    .dataframe tbody tr th {\n",
       "        vertical-align: top;\n",
       "    }\n",
       "\n",
       "    .dataframe thead th {\n",
       "        text-align: right;\n",
       "    }\n",
       "</style>\n",
       "<table border=\"1\" class=\"dataframe\">\n",
       "  <thead>\n",
       "    <tr style=\"text-align: right;\">\n",
       "      <th></th>\n",
       "      <th>product_parent</th>\n",
       "      <th>product_title</th>\n",
       "    </tr>\n",
       "  </thead>\n",
       "  <tbody>\n",
       "    <tr>\n",
       "      <td>9</td>\n",
       "      <td>2499702</td>\n",
       "      <td>Orgain Organic Plant Based Protein Powder, Pac...</td>\n",
       "    </tr>\n",
       "    <tr>\n",
       "      <td>17</td>\n",
       "      <td>971154239</td>\n",
       "      <td>Skippy Creamy Peanut Butter, with Salted Caram...</td>\n",
       "    </tr>\n",
       "    <tr>\n",
       "      <td>23</td>\n",
       "      <td>294404974</td>\n",
       "      <td>Keebler Town House Pita Crackers, 9.5 Ounce</td>\n",
       "    </tr>\n",
       "    <tr>\n",
       "      <td>40</td>\n",
       "      <td>3209118</td>\n",
       "      <td>Amoretti Premium Syrup, Pineapple, 25.4 Ounce</td>\n",
       "    </tr>\n",
       "    <tr>\n",
       "      <td>99</td>\n",
       "      <td>702537450</td>\n",
       "      <td>Gustaf’s Traditional Dutch Authentic Double Sa...</td>\n",
       "    </tr>\n",
       "    <tr>\n",
       "      <td>...</td>\n",
       "      <td>...</td>\n",
       "      <td>...</td>\n",
       "    </tr>\n",
       "    <tr>\n",
       "      <td>39933</td>\n",
       "      <td>636211690</td>\n",
       "      <td>Great Arrivals Sympathy Gift Basket</td>\n",
       "    </tr>\n",
       "    <tr>\n",
       "      <td>39940</td>\n",
       "      <td>878924470</td>\n",
       "      <td>DRY Soda, 12 Ounce Cans (Pack of 12)</td>\n",
       "    </tr>\n",
       "    <tr>\n",
       "      <td>39955</td>\n",
       "      <td>164215804</td>\n",
       "      <td>O.N.E. Coconut Water, Wild Orange with Tea, 16...</td>\n",
       "    </tr>\n",
       "    <tr>\n",
       "      <td>39985</td>\n",
       "      <td>103910306</td>\n",
       "      <td>Sugar Plum Chocolates - Sriracha Chocolate Gif...</td>\n",
       "    </tr>\n",
       "    <tr>\n",
       "      <td>39987</td>\n",
       "      <td>460308682</td>\n",
       "      <td>Organic Raw Tigernuts</td>\n",
       "    </tr>\n",
       "  </tbody>\n",
       "</table>\n",
       "<p>2225 rows × 2 columns</p>\n",
       "</div>"
      ],
      "text/plain": [
       "       product_parent                                      product_title\n",
       "9             2499702  Orgain Organic Plant Based Protein Powder, Pac...\n",
       "17          971154239  Skippy Creamy Peanut Butter, with Salted Caram...\n",
       "23          294404974        Keebler Town House Pita Crackers, 9.5 Ounce\n",
       "40            3209118      Amoretti Premium Syrup, Pineapple, 25.4 Ounce\n",
       "99          702537450  Gustaf’s Traditional Dutch Authentic Double Sa...\n",
       "...               ...                                                ...\n",
       "39933       636211690                Great Arrivals Sympathy Gift Basket\n",
       "39940       878924470               DRY Soda, 12 Ounce Cans (Pack of 12)\n",
       "39955       164215804  O.N.E. Coconut Water, Wild Orange with Tea, 16...\n",
       "39985       103910306  Sugar Plum Chocolates - Sriracha Chocolate Gif...\n",
       "39987       460308682                              Organic Raw Tigernuts\n",
       "\n",
       "[2225 rows x 2 columns]"
      ]
     },
     "execution_count": 60,
     "metadata": {},
     "output_type": "execute_result"
    }
   ],
   "source": [
    "bad_product[\n",
    "    ~bad_product['review_body'].apply(lambda x: 'expir' in x.lower())\n",
    "][['product_parent', 'product_title']]"
   ]
  },
  {
   "cell_type": "code",
   "execution_count": null,
   "metadata": {},
   "outputs": [],
   "source": []
  },
  {
   "cell_type": "code",
   "execution_count": null,
   "metadata": {},
   "outputs": [],
   "source": []
  }
 ],
 "metadata": {
  "kernelspec": {
   "display_name": "Python 3",
   "language": "python",
   "name": "python3"
  },
  "language_info": {
   "codemirror_mode": {
    "name": "ipython",
    "version": 3
   },
   "file_extension": ".py",
   "mimetype": "text/x-python",
   "name": "python",
   "nbconvert_exporter": "python",
   "pygments_lexer": "ipython3",
   "version": "3.7.4"
  },
  "toc": {
   "base_numbering": 1,
   "nav_menu": {},
   "number_sections": true,
   "sideBar": true,
   "skip_h1_title": false,
   "title_cell": "Table of Contents",
   "title_sidebar": "Contents",
   "toc_cell": false,
   "toc_position": {},
   "toc_section_display": true,
   "toc_window_display": false
  }
 },
 "nbformat": 4,
 "nbformat_minor": 4
}

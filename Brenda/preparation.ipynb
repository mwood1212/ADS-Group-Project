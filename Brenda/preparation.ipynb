{
 "cells": [
  {
   "cell_type": "markdown",
   "metadata": {},
   "source": [
    "https://s3.amazonaws.com/amazon-reviews-pds/readme.html\n",
    "\n",
    "```\n",
    "\n",
    "DATA COLUMNS:\n",
    "marketplace       - 2 letter country code of the marketplace where the review was written.\n",
    "customer_id       - Random identifier that can be used to aggregate reviews written by a single author.\n",
    "review_id         - The unique ID of the review.\n",
    "product_id        - The unique Product ID the review pertains to. In the multilingual dataset the reviews\n",
    "                    for the same product in different countries can be grouped by the same product_id.\n",
    "product_parent    - Random identifier that can be used to aggregate reviews for the same product.\n",
    "product_title     - Title of the product.\n",
    "product_category  - Broad product category that can be used to group reviews \n",
    "                    (also used to group the dataset into coherent parts).\n",
    "star_rating       - The 1-5 star rating of the review.\n",
    "helpful_votes     - Number of helpful votes.\n",
    "total_votes       - Number of total votes the review received.\n",
    "vine              - Review was written as part of the Vine program.\n",
    "verified_purchase - The review is on a verified purchase.\n",
    "review_headline   - The title of the review.\n",
    "review_body       - The review text.\n",
    "review_date       - The date the review was written.\n",
    "```"
   ]
  },
  {
   "cell_type": "code",
   "execution_count": 1,
   "metadata": {
    "ExecuteTime": {
     "end_time": "2021-04-01T08:55:34.639646Z",
     "start_time": "2021-04-01T08:55:33.954152Z"
    },
    "scrolled": true
   },
   "outputs": [
    {
     "name": "stderr",
     "output_type": "stream",
     "text": [
      "b'Skipping line 1925: expected 15 fields, saw 22\\nSkipping line 1977: expected 15 fields, saw 22\\n'\n"
     ]
    }
   ],
   "source": [
    "import pandas as pd\n",
    "\n",
    "df = pd.read_csv('amazon_reviews_us_Grocery_v1_00.tsv.gz', \n",
    "                 nrows=20000, sep='\\t', error_bad_lines=False)"
   ]
  },
  {
   "cell_type": "code",
   "execution_count": 2,
   "metadata": {
    "ExecuteTime": {
     "end_time": "2021-04-01T08:58:09.608155Z",
     "start_time": "2021-04-01T08:58:09.594260Z"
    },
    "scrolled": true
   },
   "outputs": [
    {
     "data": {
      "text/html": [
       "<div>\n",
       "<style scoped>\n",
       "    .dataframe tbody tr th:only-of-type {\n",
       "        vertical-align: middle;\n",
       "    }\n",
       "\n",
       "    .dataframe tbody tr th {\n",
       "        vertical-align: top;\n",
       "    }\n",
       "\n",
       "    .dataframe thead th {\n",
       "        text-align: right;\n",
       "    }\n",
       "</style>\n",
       "<table border=\"1\" class=\"dataframe\">\n",
       "  <thead>\n",
       "    <tr style=\"text-align: right;\">\n",
       "      <th></th>\n",
       "      <th>marketplace</th>\n",
       "      <th>customer_id</th>\n",
       "      <th>review_id</th>\n",
       "      <th>product_id</th>\n",
       "      <th>product_parent</th>\n",
       "      <th>product_title</th>\n",
       "      <th>product_category</th>\n",
       "      <th>star_rating</th>\n",
       "      <th>helpful_votes</th>\n",
       "      <th>total_votes</th>\n",
       "      <th>vine</th>\n",
       "      <th>verified_purchase</th>\n",
       "      <th>review_headline</th>\n",
       "      <th>review_body</th>\n",
       "      <th>review_date</th>\n",
       "    </tr>\n",
       "  </thead>\n",
       "  <tbody>\n",
       "    <tr>\n",
       "      <td>0</td>\n",
       "      <td>US</td>\n",
       "      <td>42521656</td>\n",
       "      <td>R26MV8D0KG6QI6</td>\n",
       "      <td>B000SAQCWC</td>\n",
       "      <td>159713740</td>\n",
       "      <td>The Cravings Place Chocolate Chunk Cookie Mix,...</td>\n",
       "      <td>Grocery</td>\n",
       "      <td>5</td>\n",
       "      <td>0</td>\n",
       "      <td>0</td>\n",
       "      <td>N</td>\n",
       "      <td>Y</td>\n",
       "      <td>Using these for years - love them.</td>\n",
       "      <td>As a family allergic to wheat, dairy, eggs, nu...</td>\n",
       "      <td>2015-08-31</td>\n",
       "    </tr>\n",
       "    <tr>\n",
       "      <td>1</td>\n",
       "      <td>US</td>\n",
       "      <td>12049833</td>\n",
       "      <td>R1OF8GP57AQ1A0</td>\n",
       "      <td>B00509LVIQ</td>\n",
       "      <td>138680402</td>\n",
       "      <td>Mauna Loa Macadamias, 11 Ounce Packages</td>\n",
       "      <td>Grocery</td>\n",
       "      <td>5</td>\n",
       "      <td>0</td>\n",
       "      <td>0</td>\n",
       "      <td>N</td>\n",
       "      <td>Y</td>\n",
       "      <td>Wonderful</td>\n",
       "      <td>My favorite nut.  Creamy, crunchy, salty, and ...</td>\n",
       "      <td>2015-08-31</td>\n",
       "    </tr>\n",
       "    <tr>\n",
       "      <td>2</td>\n",
       "      <td>US</td>\n",
       "      <td>107642</td>\n",
       "      <td>R3VDC1QB6MC4ZZ</td>\n",
       "      <td>B00KHXESLC</td>\n",
       "      <td>252021703</td>\n",
       "      <td>Organic Matcha Green Tea Powder - 100% Pure Ma...</td>\n",
       "      <td>Grocery</td>\n",
       "      <td>5</td>\n",
       "      <td>0</td>\n",
       "      <td>0</td>\n",
       "      <td>N</td>\n",
       "      <td>N</td>\n",
       "      <td>Five Stars</td>\n",
       "      <td>This green tea tastes so good! My girlfriend l...</td>\n",
       "      <td>2015-08-31</td>\n",
       "    </tr>\n",
       "    <tr>\n",
       "      <td>3</td>\n",
       "      <td>US</td>\n",
       "      <td>6042304</td>\n",
       "      <td>R12FA3DCF8F9ER</td>\n",
       "      <td>B000F8JIIC</td>\n",
       "      <td>752728342</td>\n",
       "      <td>15oz Raspberry Lyons Designer Dessert Syrup Sauce</td>\n",
       "      <td>Grocery</td>\n",
       "      <td>5</td>\n",
       "      <td>0</td>\n",
       "      <td>0</td>\n",
       "      <td>N</td>\n",
       "      <td>Y</td>\n",
       "      <td>Five Stars</td>\n",
       "      <td>I love Melissa's brand but this is a great sec...</td>\n",
       "      <td>2015-08-31</td>\n",
       "    </tr>\n",
       "    <tr>\n",
       "      <td>4</td>\n",
       "      <td>US</td>\n",
       "      <td>18123821</td>\n",
       "      <td>RTWHVNV6X4CNJ</td>\n",
       "      <td>B004ZWR9RQ</td>\n",
       "      <td>552138758</td>\n",
       "      <td>Stride Spark Kinetic Fruit Sugar Free Gum, 14-...</td>\n",
       "      <td>Grocery</td>\n",
       "      <td>5</td>\n",
       "      <td>0</td>\n",
       "      <td>0</td>\n",
       "      <td>N</td>\n",
       "      <td>Y</td>\n",
       "      <td>Five Stars</td>\n",
       "      <td>good</td>\n",
       "      <td>2015-08-31</td>\n",
       "    </tr>\n",
       "  </tbody>\n",
       "</table>\n",
       "</div>"
      ],
      "text/plain": [
       "  marketplace  customer_id       review_id  product_id  product_parent  \\\n",
       "0          US     42521656  R26MV8D0KG6QI6  B000SAQCWC       159713740   \n",
       "1          US     12049833  R1OF8GP57AQ1A0  B00509LVIQ       138680402   \n",
       "2          US       107642  R3VDC1QB6MC4ZZ  B00KHXESLC       252021703   \n",
       "3          US      6042304  R12FA3DCF8F9ER  B000F8JIIC       752728342   \n",
       "4          US     18123821   RTWHVNV6X4CNJ  B004ZWR9RQ       552138758   \n",
       "\n",
       "                                       product_title product_category  \\\n",
       "0  The Cravings Place Chocolate Chunk Cookie Mix,...          Grocery   \n",
       "1            Mauna Loa Macadamias, 11 Ounce Packages          Grocery   \n",
       "2  Organic Matcha Green Tea Powder - 100% Pure Ma...          Grocery   \n",
       "3  15oz Raspberry Lyons Designer Dessert Syrup Sauce          Grocery   \n",
       "4  Stride Spark Kinetic Fruit Sugar Free Gum, 14-...          Grocery   \n",
       "\n",
       "   star_rating  helpful_votes  total_votes vine verified_purchase  \\\n",
       "0            5              0            0    N                 Y   \n",
       "1            5              0            0    N                 Y   \n",
       "2            5              0            0    N                 N   \n",
       "3            5              0            0    N                 Y   \n",
       "4            5              0            0    N                 Y   \n",
       "\n",
       "                      review_headline  \\\n",
       "0  Using these for years - love them.   \n",
       "1                           Wonderful   \n",
       "2                          Five Stars   \n",
       "3                          Five Stars   \n",
       "4                          Five Stars   \n",
       "\n",
       "                                         review_body review_date  \n",
       "0  As a family allergic to wheat, dairy, eggs, nu...  2015-08-31  \n",
       "1  My favorite nut.  Creamy, crunchy, salty, and ...  2015-08-31  \n",
       "2  This green tea tastes so good! My girlfriend l...  2015-08-31  \n",
       "3  I love Melissa's brand but this is a great sec...  2015-08-31  \n",
       "4                                               good  2015-08-31  "
      ]
     },
     "execution_count": 2,
     "metadata": {},
     "output_type": "execute_result"
    }
   ],
   "source": [
    "df.head(5)"
   ]
  },
  {
   "cell_type": "code",
   "execution_count": null,
   "metadata": {},
   "outputs": [],
   "source": []
  },
  {
   "cell_type": "code",
   "execution_count": 3,
   "metadata": {
    "ExecuteTime": {
     "end_time": "2021-04-01T08:44:46.071331Z",
     "start_time": "2021-04-01T08:44:46.065177Z"
    }
   },
   "outputs": [],
   "source": [
    "df = df.drop(['marketplace', 'product_category'], axis=1)"
   ]
  },
  {
   "cell_type": "code",
   "execution_count": 82,
   "metadata": {
    "ExecuteTime": {
     "end_time": "2021-03-31T23:07:44.269253Z",
     "start_time": "2021-03-31T23:07:44.263954Z"
    }
   },
   "outputs": [],
   "source": [
    "#df = df[~df['review_body'].isnull()]"
   ]
  },
  {
   "cell_type": "code",
   "execution_count": 5,
   "metadata": {
    "ExecuteTime": {
     "end_time": "2021-04-01T09:20:55.930965Z",
     "start_time": "2021-04-01T09:20:55.900265Z"
    }
   },
   "outputs": [],
   "source": [
    "# considering people who only write headlines\n",
    "df['review_body'] = df['review_headline'] + '. ' + df['review_body']"
   ]
  },
  {
   "cell_type": "code",
   "execution_count": 6,
   "metadata": {
    "ExecuteTime": {
     "end_time": "2021-04-01T08:45:55.135976Z",
     "start_time": "2021-04-01T08:45:55.129276Z"
    }
   },
   "outputs": [
    {
     "data": {
      "text/plain": [
       "15659"
      ]
     },
     "execution_count": 6,
     "metadata": {},
     "output_type": "execute_result"
    }
   ],
   "source": [
    "df['customer_id'].nunique()"
   ]
  },
  {
   "cell_type": "code",
   "execution_count": 7,
   "metadata": {
    "ExecuteTime": {
     "end_time": "2021-04-01T08:46:22.495780Z",
     "start_time": "2021-04-01T08:46:22.490451Z"
    }
   },
   "outputs": [
    {
     "data": {
      "text/plain": [
       "20000"
      ]
     },
     "execution_count": 7,
     "metadata": {},
     "output_type": "execute_result"
    }
   ],
   "source": [
    "df['review_id'].nunique()"
   ]
  },
  {
   "cell_type": "code",
   "execution_count": 8,
   "metadata": {
    "ExecuteTime": {
     "end_time": "2021-04-01T08:49:40.240689Z",
     "start_time": "2021-04-01T08:49:40.233574Z"
    }
   },
   "outputs": [
    {
     "data": {
      "text/plain": [
       "0        42521656\n",
       "1        12049833\n",
       "2          107642\n",
       "3         6042304\n",
       "4        18123821\n",
       "           ...   \n",
       "19995    14359560\n",
       "19996    23158903\n",
       "19997    16476066\n",
       "19998    52757565\n",
       "19999    17031304\n",
       "Name: customer_id, Length: 20000, dtype: int64"
      ]
     },
     "execution_count": 8,
     "metadata": {},
     "output_type": "execute_result"
    }
   ],
   "source": [
    "df['customer_id']"
   ]
  },
  {
   "cell_type": "code",
   "execution_count": 9,
   "metadata": {
    "ExecuteTime": {
     "end_time": "2021-04-01T08:52:21.297066Z",
     "start_time": "2021-04-01T08:52:21.290446Z"
    }
   },
   "outputs": [
    {
     "data": {
      "text/plain": [
       "34247947    25\n",
       "20674418    18\n",
       "1535682     18\n",
       "13403431    17\n",
       "36290808    15\n",
       "            ..\n",
       "43931969     1\n",
       "49041728     1\n",
       "33367103     1\n",
       "52474172     1\n",
       "2686976      1\n",
       "Name: customer_id, Length: 15659, dtype: int64"
      ]
     },
     "execution_count": 9,
     "metadata": {},
     "output_type": "execute_result"
    }
   ],
   "source": [
    "df['customer_id'].value_counts()"
   ]
  },
  {
   "cell_type": "code",
   "execution_count": 11,
   "metadata": {
    "ExecuteTime": {
     "end_time": "2021-04-01T08:47:50.471864Z",
     "start_time": "2021-04-01T08:47:50.457578Z"
    }
   },
   "outputs": [
    {
     "data": {
      "text/html": [
       "<div>\n",
       "<style scoped>\n",
       "    .dataframe tbody tr th:only-of-type {\n",
       "        vertical-align: middle;\n",
       "    }\n",
       "\n",
       "    .dataframe tbody tr th {\n",
       "        vertical-align: top;\n",
       "    }\n",
       "\n",
       "    .dataframe thead th {\n",
       "        text-align: right;\n",
       "    }\n",
       "</style>\n",
       "<table border=\"1\" class=\"dataframe\">\n",
       "  <thead>\n",
       "    <tr style=\"text-align: right;\">\n",
       "      <th></th>\n",
       "      <th>customer_id</th>\n",
       "      <th>review_id</th>\n",
       "      <th>product_id</th>\n",
       "      <th>product_parent</th>\n",
       "      <th>product_title</th>\n",
       "      <th>star_rating</th>\n",
       "      <th>helpful_votes</th>\n",
       "      <th>total_votes</th>\n",
       "      <th>vine</th>\n",
       "      <th>verified_purchase</th>\n",
       "      <th>review_headline</th>\n",
       "      <th>review_body</th>\n",
       "      <th>review_date</th>\n",
       "    </tr>\n",
       "  </thead>\n",
       "  <tbody>\n",
       "    <tr>\n",
       "      <td>60</td>\n",
       "      <td>52646512</td>\n",
       "      <td>R3T1JWKO1X6EDL</td>\n",
       "      <td>B000F4GPC8</td>\n",
       "      <td>89439274</td>\n",
       "      <td>Miso-Cup Soup with Seaweed, 2-Serving Envelope...</td>\n",
       "      <td>5</td>\n",
       "      <td>0</td>\n",
       "      <td>0</td>\n",
       "      <td>N</td>\n",
       "      <td>Y</td>\n",
       "      <td>Old stand by that is delicious</td>\n",
       "      <td>Old stand by that is delicious. Old stand by t...</td>\n",
       "      <td>2015-08-31</td>\n",
       "    </tr>\n",
       "    <tr>\n",
       "      <td>142</td>\n",
       "      <td>52646512</td>\n",
       "      <td>R1HC2YQHOSLX3Z</td>\n",
       "      <td>B000ILILLQ</td>\n",
       "      <td>539104877</td>\n",
       "      <td>Pamela's Simplebites Mini Cookies</td>\n",
       "      <td>5</td>\n",
       "      <td>0</td>\n",
       "      <td>0</td>\n",
       "      <td>N</td>\n",
       "      <td>Y</td>\n",
       "      <td>Too Good if you know what i mean.</td>\n",
       "      <td>Too Good if you know what i mean.. Too Good if...</td>\n",
       "      <td>2015-08-31</td>\n",
       "    </tr>\n",
       "    <tr>\n",
       "      <td>171</td>\n",
       "      <td>52646512</td>\n",
       "      <td>R12FY3F7R3LT3</td>\n",
       "      <td>B008X60YEA</td>\n",
       "      <td>718531235</td>\n",
       "      <td>Twinings Earl Grey Tea, Keurig K-Cups, 24 Count</td>\n",
       "      <td>5</td>\n",
       "      <td>0</td>\n",
       "      <td>0</td>\n",
       "      <td>N</td>\n",
       "      <td>Y</td>\n",
       "      <td>The best of all the non milky chai's</td>\n",
       "      <td>The best of all the non milky chai's. The best...</td>\n",
       "      <td>2015-08-31</td>\n",
       "    </tr>\n",
       "    <tr>\n",
       "      <td>1403</td>\n",
       "      <td>52646512</td>\n",
       "      <td>R4NBEEFMHKPQ9</td>\n",
       "      <td>B00503DQIA</td>\n",
       "      <td>814285931</td>\n",
       "      <td>Silk Almond Milk</td>\n",
       "      <td>5</td>\n",
       "      <td>0</td>\n",
       "      <td>0</td>\n",
       "      <td>N</td>\n",
       "      <td>Y</td>\n",
       "      <td>Dark chocolate without any guilt.</td>\n",
       "      <td>Dark chocolate without any guilt.. Dark chocol...</td>\n",
       "      <td>2015-08-31</td>\n",
       "    </tr>\n",
       "    <tr>\n",
       "      <td>1637</td>\n",
       "      <td>52646512</td>\n",
       "      <td>R1TGM0S9T9GN3G</td>\n",
       "      <td>B00509LVIQ</td>\n",
       "      <td>138680402</td>\n",
       "      <td>Mauna Loa Macadamias, 11 Ounce Packages</td>\n",
       "      <td>5</td>\n",
       "      <td>0</td>\n",
       "      <td>0</td>\n",
       "      <td>N</td>\n",
       "      <td>Y</td>\n",
       "      <td>In small amounts these are great, too many and...</td>\n",
       "      <td>In small amounts these are great, too many and...</td>\n",
       "      <td>2015-08-31</td>\n",
       "    </tr>\n",
       "    <tr>\n",
       "      <td>1724</td>\n",
       "      <td>52646512</td>\n",
       "      <td>R1WU295CBZ8DC2</td>\n",
       "      <td>B008YDVYGO</td>\n",
       "      <td>267956568</td>\n",
       "      <td>San Francisco Bay One Cup</td>\n",
       "      <td>5</td>\n",
       "      <td>0</td>\n",
       "      <td>0</td>\n",
       "      <td>N</td>\n",
       "      <td>Y</td>\n",
       "      <td>One of if not the best expresso pods for the K...</td>\n",
       "      <td>One of if not the best expresso pods for the K...</td>\n",
       "      <td>2015-08-31</td>\n",
       "    </tr>\n",
       "    <tr>\n",
       "      <td>2738</td>\n",
       "      <td>52646512</td>\n",
       "      <td>RLM2HHPTV92P</td>\n",
       "      <td>B00IZJ8FWI</td>\n",
       "      <td>902799879</td>\n",
       "      <td>Grove Square Pumpkin Spice Cappuccino K-Cups (...</td>\n",
       "      <td>4</td>\n",
       "      <td>0</td>\n",
       "      <td>1</td>\n",
       "      <td>N</td>\n",
       "      <td>Y</td>\n",
       "      <td>5 stars if these were healthy.</td>\n",
       "      <td>5 stars if these were healthy.. 5 stars if the...</td>\n",
       "      <td>2015-08-31</td>\n",
       "    </tr>\n",
       "  </tbody>\n",
       "</table>\n",
       "</div>"
      ],
      "text/plain": [
       "      customer_id       review_id  product_id  product_parent  \\\n",
       "60       52646512  R3T1JWKO1X6EDL  B000F4GPC8        89439274   \n",
       "142      52646512  R1HC2YQHOSLX3Z  B000ILILLQ       539104877   \n",
       "171      52646512   R12FY3F7R3LT3  B008X60YEA       718531235   \n",
       "1403     52646512   R4NBEEFMHKPQ9  B00503DQIA       814285931   \n",
       "1637     52646512  R1TGM0S9T9GN3G  B00509LVIQ       138680402   \n",
       "1724     52646512  R1WU295CBZ8DC2  B008YDVYGO       267956568   \n",
       "2738     52646512    RLM2HHPTV92P  B00IZJ8FWI       902799879   \n",
       "\n",
       "                                          product_title  star_rating  \\\n",
       "60    Miso-Cup Soup with Seaweed, 2-Serving Envelope...            5   \n",
       "142                   Pamela's Simplebites Mini Cookies            5   \n",
       "171     Twinings Earl Grey Tea, Keurig K-Cups, 24 Count            5   \n",
       "1403                                   Silk Almond Milk            5   \n",
       "1637            Mauna Loa Macadamias, 11 Ounce Packages            5   \n",
       "1724                          San Francisco Bay One Cup            5   \n",
       "2738  Grove Square Pumpkin Spice Cappuccino K-Cups (...            4   \n",
       "\n",
       "      helpful_votes  total_votes vine verified_purchase  \\\n",
       "60                0            0    N                 Y   \n",
       "142               0            0    N                 Y   \n",
       "171               0            0    N                 Y   \n",
       "1403              0            0    N                 Y   \n",
       "1637              0            0    N                 Y   \n",
       "1724              0            0    N                 Y   \n",
       "2738              0            1    N                 Y   \n",
       "\n",
       "                                        review_headline  \\\n",
       "60                       Old stand by that is delicious   \n",
       "142                   Too Good if you know what i mean.   \n",
       "171                The best of all the non milky chai's   \n",
       "1403                  Dark chocolate without any guilt.   \n",
       "1637  In small amounts these are great, too many and...   \n",
       "1724  One of if not the best expresso pods for the K...   \n",
       "2738                     5 stars if these were healthy.   \n",
       "\n",
       "                                            review_body review_date  \n",
       "60    Old stand by that is delicious. Old stand by t...  2015-08-31  \n",
       "142   Too Good if you know what i mean.. Too Good if...  2015-08-31  \n",
       "171   The best of all the non milky chai's. The best...  2015-08-31  \n",
       "1403  Dark chocolate without any guilt.. Dark chocol...  2015-08-31  \n",
       "1637  In small amounts these are great, too many and...  2015-08-31  \n",
       "1724  One of if not the best expresso pods for the K...  2015-08-31  \n",
       "2738  5 stars if these were healthy.. 5 stars if the...  2015-08-31  "
      ]
     },
     "execution_count": 11,
     "metadata": {},
     "output_type": "execute_result"
    }
   ],
   "source": [
    "df[df['customer_id'] == 52646512]"
   ]
  },
  {
   "cell_type": "code",
   "execution_count": 12,
   "metadata": {
    "ExecuteTime": {
     "end_time": "2021-04-01T08:55:43.688972Z",
     "start_time": "2021-04-01T08:55:43.651848Z"
    }
   },
   "outputs": [],
   "source": [
    "df['customer_product'] = df['customer_id'].astype(str) + '_' + df['product_id'].astype(str)"
   ]
  },
  {
   "cell_type": "code",
   "execution_count": 13,
   "metadata": {
    "ExecuteTime": {
     "end_time": "2021-04-01T08:55:44.775683Z",
     "start_time": "2021-04-01T08:55:44.747457Z"
    },
    "scrolled": true
   },
   "outputs": [
    {
     "data": {
      "text/plain": [
       "18890917_B00FMF4YVO    1\n",
       "15773076_B000H69AI0    1\n",
       "12027472_B00679PULM    1\n",
       "42141740_B00787FUEE    1\n",
       "22755633_B006F6I9OM    1\n",
       "                      ..\n",
       "43339811_B00PV0KIBK    1\n",
       "43840247_B00CXXK6Z6    1\n",
       "38552705_B00TZFVK2I    1\n",
       "28064875_B000LQNK6E    1\n",
       "8031503_B004W8LT10     1\n",
       "Name: customer_product, Length: 20000, dtype: int64"
      ]
     },
     "execution_count": 13,
     "metadata": {},
     "output_type": "execute_result"
    }
   ],
   "source": [
    "df['customer_product'].value_counts()"
   ]
  },
  {
   "cell_type": "code",
   "execution_count": 133,
   "metadata": {
    "ExecuteTime": {
     "end_time": "2021-04-01T08:56:10.210003Z",
     "start_time": "2021-04-01T08:56:10.179301Z"
    }
   },
   "outputs": [
    {
     "data": {
      "text/html": [
       "<div>\n",
       "<style scoped>\n",
       "    .dataframe tbody tr th:only-of-type {\n",
       "        vertical-align: middle;\n",
       "    }\n",
       "\n",
       "    .dataframe tbody tr th {\n",
       "        vertical-align: top;\n",
       "    }\n",
       "\n",
       "    .dataframe thead th {\n",
       "        text-align: right;\n",
       "    }\n",
       "</style>\n",
       "<table border=\"1\" class=\"dataframe\">\n",
       "  <thead>\n",
       "    <tr style=\"text-align: right;\">\n",
       "      <th></th>\n",
       "      <th>marketplace</th>\n",
       "      <th>customer_id</th>\n",
       "      <th>review_id</th>\n",
       "      <th>product_id</th>\n",
       "      <th>product_parent</th>\n",
       "      <th>product_title</th>\n",
       "      <th>product_category</th>\n",
       "      <th>star_rating</th>\n",
       "      <th>helpful_votes</th>\n",
       "      <th>total_votes</th>\n",
       "      <th>vine</th>\n",
       "      <th>verified_purchase</th>\n",
       "      <th>review_headline</th>\n",
       "      <th>review_body</th>\n",
       "      <th>review_date</th>\n",
       "      <th>customer_product</th>\n",
       "    </tr>\n",
       "  </thead>\n",
       "  <tbody>\n",
       "    <tr>\n",
       "      <th>26497</th>\n",
       "      <td>US</td>\n",
       "      <td>13879735</td>\n",
       "      <td>R37A5SE85MPPDQ</td>\n",
       "      <td>B003WO0I6C</td>\n",
       "      <td>74657246</td>\n",
       "      <td>SweetLeaf Sweetener (70-Count Packets), 2.5-Ou...</td>\n",
       "      <td>Grocery</td>\n",
       "      <td>5</td>\n",
       "      <td>3</td>\n",
       "      <td>3</td>\n",
       "      <td>N</td>\n",
       "      <td>N</td>\n",
       "      <td>Great pack of three, all natural stevia product</td>\n",
       "      <td>I bought this because I wanted TRULY ALL NATUR...</td>\n",
       "      <td>2015-08-22</td>\n",
       "      <td>13879735_B003WO0I6C</td>\n",
       "    </tr>\n",
       "    <tr>\n",
       "      <th>27990</th>\n",
       "      <td>US</td>\n",
       "      <td>13879735</td>\n",
       "      <td>R1LUOS1KTVQ7P8</td>\n",
       "      <td>B003WO0I6C</td>\n",
       "      <td>74657246</td>\n",
       "      <td>SweetLeaf Sweetener (70-Count Packets), 2.5-Ou...</td>\n",
       "      <td>Grocery</td>\n",
       "      <td>5</td>\n",
       "      <td>0</td>\n",
       "      <td>0</td>\n",
       "      <td>N</td>\n",
       "      <td>N</td>\n",
       "      <td>Good value for three pack</td>\n",
       "      <td>I bought this because I wanted TRULY ALL NATUR...</td>\n",
       "      <td>2015-08-22</td>\n",
       "      <td>13879735_B003WO0I6C</td>\n",
       "    </tr>\n",
       "  </tbody>\n",
       "</table>\n",
       "</div>"
      ],
      "text/plain": [
       "      marketplace  customer_id       review_id  product_id  product_parent  \\\n",
       "26497          US     13879735  R37A5SE85MPPDQ  B003WO0I6C        74657246   \n",
       "27990          US     13879735  R1LUOS1KTVQ7P8  B003WO0I6C        74657246   \n",
       "\n",
       "                                           product_title product_category  \\\n",
       "26497  SweetLeaf Sweetener (70-Count Packets), 2.5-Ou...          Grocery   \n",
       "27990  SweetLeaf Sweetener (70-Count Packets), 2.5-Ou...          Grocery   \n",
       "\n",
       "       star_rating  helpful_votes  total_votes vine verified_purchase  \\\n",
       "26497            5              3            3    N                 N   \n",
       "27990            5              0            0    N                 N   \n",
       "\n",
       "                                       review_headline  \\\n",
       "26497  Great pack of three, all natural stevia product   \n",
       "27990                        Good value for three pack   \n",
       "\n",
       "                                             review_body review_date  \\\n",
       "26497  I bought this because I wanted TRULY ALL NATUR...  2015-08-22   \n",
       "27990  I bought this because I wanted TRULY ALL NATUR...  2015-08-22   \n",
       "\n",
       "          customer_product  \n",
       "26497  13879735_B003WO0I6C  \n",
       "27990  13879735_B003WO0I6C  "
      ]
     },
     "execution_count": 133,
     "metadata": {},
     "output_type": "execute_result"
    }
   ],
   "source": [
    "df[df['customer_product'] == '13879735_B003WO0I6C']"
   ]
  },
  {
   "cell_type": "code",
   "execution_count": 15,
   "metadata": {
    "ExecuteTime": {
     "end_time": "2021-04-01T09:03:04.752205Z",
     "start_time": "2021-04-01T09:03:04.738104Z"
    }
   },
   "outputs": [],
   "source": [
    "customer_rate_mean = df.groupby(['customer_id'])['star_rating'].mean()\n",
    "customer_rate_count = df['customer_id'].value_counts()"
   ]
  },
  {
   "cell_type": "code",
   "execution_count": null,
   "metadata": {},
   "outputs": [],
   "source": []
  },
  {
   "cell_type": "code",
   "execution_count": 16,
   "metadata": {
    "ExecuteTime": {
     "end_time": "2021-04-01T09:03:05.146231Z",
     "start_time": "2021-04-01T09:03:05.137926Z"
    }
   },
   "outputs": [],
   "source": [
    "# star rating average of each customer\n",
    "customer_rate_mean = customer_rate_mean.reset_index()\n",
    "customer_rate_mean.columns = ['customer_id', 'rating']\n",
    "\n",
    "# how many reviews does each customer write\n",
    "customer_rate_count = customer_rate_count.reset_index()\n",
    "customer_rate_count.columns = ['customer_id', 'count']"
   ]
  },
  {
   "cell_type": "code",
   "execution_count": 17,
   "metadata": {
    "ExecuteTime": {
     "end_time": "2021-04-01T09:03:07.337529Z",
     "start_time": "2021-04-01T09:03:07.332351Z"
    }
   },
   "outputs": [
    {
     "data": {
      "text/plain": [
       "(Index(['customer_id', 'rating'], dtype='object'),\n",
       " Index(['customer_id', 'count'], dtype='object'))"
      ]
     },
     "execution_count": 17,
     "metadata": {},
     "output_type": "execute_result"
    }
   ],
   "source": [
    "customer_rate_mean.columns, customer_rate_count.columns"
   ]
  },
  {
   "cell_type": "code",
   "execution_count": 18,
   "metadata": {
    "ExecuteTime": {
     "end_time": "2021-04-01T09:04:34.331105Z",
     "start_time": "2021-04-01T09:04:34.316493Z"
    }
   },
   "outputs": [],
   "source": [
    "customer_df = pd.merge(customer_rate_mean, customer_rate_count, on='customer_id')"
   ]
  },
  {
   "cell_type": "code",
   "execution_count": 26,
   "metadata": {
    "ExecuteTime": {
     "end_time": "2021-04-01T09:05:15.223530Z",
     "start_time": "2021-04-01T09:05:15.210280Z"
    }
   },
   "outputs": [
    {
     "data": {
      "text/html": [
       "<div>\n",
       "<style scoped>\n",
       "    .dataframe tbody tr th:only-of-type {\n",
       "        vertical-align: middle;\n",
       "    }\n",
       "\n",
       "    .dataframe tbody tr th {\n",
       "        vertical-align: top;\n",
       "    }\n",
       "\n",
       "    .dataframe thead th {\n",
       "        text-align: right;\n",
       "    }\n",
       "</style>\n",
       "<table border=\"1\" class=\"dataframe\">\n",
       "  <thead>\n",
       "    <tr style=\"text-align: right;\">\n",
       "      <th></th>\n",
       "      <th>customer_id</th>\n",
       "      <th>rating</th>\n",
       "      <th>count</th>\n",
       "    </tr>\n",
       "  </thead>\n",
       "  <tbody>\n",
       "    <tr>\n",
       "      <td>9777</td>\n",
       "      <td>34247947</td>\n",
       "      <td>4.960000</td>\n",
       "      <td>25</td>\n",
       "    </tr>\n",
       "    <tr>\n",
       "      <td>6374</td>\n",
       "      <td>20674418</td>\n",
       "      <td>5.000000</td>\n",
       "      <td>18</td>\n",
       "    </tr>\n",
       "    <tr>\n",
       "      <td>747</td>\n",
       "      <td>1535682</td>\n",
       "      <td>4.888889</td>\n",
       "      <td>18</td>\n",
       "    </tr>\n",
       "    <tr>\n",
       "      <td>3691</td>\n",
       "      <td>13403431</td>\n",
       "      <td>4.882353</td>\n",
       "      <td>17</td>\n",
       "    </tr>\n",
       "    <tr>\n",
       "      <td>9648</td>\n",
       "      <td>33718153</td>\n",
       "      <td>5.000000</td>\n",
       "      <td>15</td>\n",
       "    </tr>\n",
       "    <tr>\n",
       "      <td>...</td>\n",
       "      <td>...</td>\n",
       "      <td>...</td>\n",
       "      <td>...</td>\n",
       "    </tr>\n",
       "    <tr>\n",
       "      <td>5651</td>\n",
       "      <td>18135902</td>\n",
       "      <td>4.000000</td>\n",
       "      <td>1</td>\n",
       "    </tr>\n",
       "    <tr>\n",
       "      <td>5652</td>\n",
       "      <td>18144169</td>\n",
       "      <td>5.000000</td>\n",
       "      <td>1</td>\n",
       "    </tr>\n",
       "    <tr>\n",
       "      <td>5653</td>\n",
       "      <td>18147763</td>\n",
       "      <td>5.000000</td>\n",
       "      <td>1</td>\n",
       "    </tr>\n",
       "    <tr>\n",
       "      <td>5654</td>\n",
       "      <td>18147977</td>\n",
       "      <td>5.000000</td>\n",
       "      <td>1</td>\n",
       "    </tr>\n",
       "    <tr>\n",
       "      <td>15658</td>\n",
       "      <td>53094990</td>\n",
       "      <td>4.000000</td>\n",
       "      <td>1</td>\n",
       "    </tr>\n",
       "  </tbody>\n",
       "</table>\n",
       "<p>15659 rows × 3 columns</p>\n",
       "</div>"
      ],
      "text/plain": [
       "       customer_id    rating  count\n",
       "9777      34247947  4.960000     25\n",
       "6374      20674418  5.000000     18\n",
       "747        1535682  4.888889     18\n",
       "3691      13403431  4.882353     17\n",
       "9648      33718153  5.000000     15\n",
       "...            ...       ...    ...\n",
       "5651      18135902  4.000000      1\n",
       "5652      18144169  5.000000      1\n",
       "5653      18147763  5.000000      1\n",
       "5654      18147977  5.000000      1\n",
       "15658     53094990  4.000000      1\n",
       "\n",
       "[15659 rows x 3 columns]"
      ]
     },
     "execution_count": 26,
     "metadata": {},
     "output_type": "execute_result"
    }
   ],
   "source": [
    "customer_df.sort_values(by='count', ascending=False)"
   ]
  },
  {
   "cell_type": "code",
   "execution_count": 21,
   "metadata": {
    "ExecuteTime": {
     "end_time": "2021-04-01T09:05:56.391904Z",
     "start_time": "2021-04-01T09:05:56.379838Z"
    }
   },
   "outputs": [
    {
     "data": {
      "text/html": [
       "<div>\n",
       "<style scoped>\n",
       "    .dataframe tbody tr th:only-of-type {\n",
       "        vertical-align: middle;\n",
       "    }\n",
       "\n",
       "    .dataframe tbody tr th {\n",
       "        vertical-align: top;\n",
       "    }\n",
       "\n",
       "    .dataframe thead th {\n",
       "        text-align: right;\n",
       "    }\n",
       "</style>\n",
       "<table border=\"1\" class=\"dataframe\">\n",
       "  <thead>\n",
       "    <tr style=\"text-align: right;\">\n",
       "      <th></th>\n",
       "      <th>customer_id</th>\n",
       "      <th>rating</th>\n",
       "      <th>count</th>\n",
       "    </tr>\n",
       "  </thead>\n",
       "  <tbody>\n",
       "    <tr>\n",
       "      <td>15614</td>\n",
       "      <td>53037408</td>\n",
       "      <td>5.0</td>\n",
       "      <td>6</td>\n",
       "    </tr>\n",
       "    <tr>\n",
       "      <td>7098</td>\n",
       "      <td>23208852</td>\n",
       "      <td>5.0</td>\n",
       "      <td>8</td>\n",
       "    </tr>\n",
       "    <tr>\n",
       "      <td>9610</td>\n",
       "      <td>33589781</td>\n",
       "      <td>5.0</td>\n",
       "      <td>5</td>\n",
       "    </tr>\n",
       "    <tr>\n",
       "      <td>9601</td>\n",
       "      <td>33524015</td>\n",
       "      <td>5.0</td>\n",
       "      <td>6</td>\n",
       "    </tr>\n",
       "    <tr>\n",
       "      <td>14747</td>\n",
       "      <td>51256870</td>\n",
       "      <td>5.0</td>\n",
       "      <td>5</td>\n",
       "    </tr>\n",
       "    <tr>\n",
       "      <td>...</td>\n",
       "      <td>...</td>\n",
       "      <td>...</td>\n",
       "      <td>...</td>\n",
       "    </tr>\n",
       "    <tr>\n",
       "      <td>1723</td>\n",
       "      <td>6579386</td>\n",
       "      <td>3.0</td>\n",
       "      <td>6</td>\n",
       "    </tr>\n",
       "    <tr>\n",
       "      <td>11253</td>\n",
       "      <td>40165579</td>\n",
       "      <td>3.0</td>\n",
       "      <td>5</td>\n",
       "    </tr>\n",
       "    <tr>\n",
       "      <td>14479</td>\n",
       "      <td>50616505</td>\n",
       "      <td>3.0</td>\n",
       "      <td>8</td>\n",
       "    </tr>\n",
       "    <tr>\n",
       "      <td>3574</td>\n",
       "      <td>13181631</td>\n",
       "      <td>2.6</td>\n",
       "      <td>5</td>\n",
       "    </tr>\n",
       "    <tr>\n",
       "      <td>4264</td>\n",
       "      <td>14606512</td>\n",
       "      <td>1.0</td>\n",
       "      <td>6</td>\n",
       "    </tr>\n",
       "  </tbody>\n",
       "</table>\n",
       "<p>225 rows × 3 columns</p>\n",
       "</div>"
      ],
      "text/plain": [
       "       customer_id  rating  count\n",
       "15614     53037408     5.0      6\n",
       "7098      23208852     5.0      8\n",
       "9610      33589781     5.0      5\n",
       "9601      33524015     5.0      6\n",
       "14747     51256870     5.0      5\n",
       "...            ...     ...    ...\n",
       "1723       6579386     3.0      6\n",
       "11253     40165579     3.0      5\n",
       "14479     50616505     3.0      8\n",
       "3574      13181631     2.6      5\n",
       "4264      14606512     1.0      6\n",
       "\n",
       "[225 rows x 3 columns]"
      ]
     },
     "execution_count": 21,
     "metadata": {},
     "output_type": "execute_result"
    }
   ],
   "source": [
    "customer_df[customer_df['count'] >= 5].sort_values(by='rating', ascending=False)"
   ]
  },
  {
   "cell_type": "code",
   "execution_count": 22,
   "metadata": {
    "ExecuteTime": {
     "end_time": "2021-03-31T22:54:05.192586Z",
     "start_time": "2021-03-31T22:54:05.185816Z"
    }
   },
   "outputs": [
    {
     "data": {
      "text/plain": [
       "9        Disgusting now and difficult on digestion. Dis...\n",
       "17       1 Out Of 5 Of My Co-Workers Thought It Was \"Ok...\n",
       "23       pita crackers. pita crackers. not craze about ...\n",
       "40       Does not recommend!. Does not recommend!. This...\n",
       "99       It's actually TOO salty.. It's actually TOO sa...\n",
       "                               ...                        \n",
       "19923    Made the Pinot Grigio and I would say don't wa...\n",
       "19924    Changed product to something unacceptably infe...\n",
       "19954               One Star. One Star. Way too expensive.\n",
       "19971           One Star. One Star. I order 6 i received 4\n",
       "19978    yuck!. yuck!. I did not like at all. I know it...\n",
       "Name: review_body, Length: 1451, dtype: object"
      ]
     },
     "execution_count": 22,
     "metadata": {},
     "output_type": "execute_result"
    }
   ],
   "source": [
    "df[df['star_rating'] == 1]['review_body']"
   ]
  },
  {
   "cell_type": "code",
   "execution_count": 23,
   "metadata": {
    "ExecuteTime": {
     "end_time": "2021-03-31T22:57:01.327112Z",
     "start_time": "2021-03-31T22:56:56.226069Z"
    }
   },
   "outputs": [],
   "source": [
    "import nltk"
   ]
  },
  {
   "cell_type": "markdown",
   "metadata": {},
   "source": [
    "```\n",
    "CC coordinating conjunction\n",
    "CD cardinal digit\n",
    "DT determiner\n",
    "EX existential there (like: “there is” … think of it like “there exists”)\n",
    "FW foreign word\n",
    "IN preposition/subordinating conjunction\n",
    "JJ adjective ‘big’\n",
    "JJR adjective, comparative ‘bigger’\n",
    "JJS adjective, superlative ‘biggest’\n",
    "LS list marker 1)\n",
    "MD modal could, will\n",
    "NN noun, singular ‘desk’\n",
    "NNS noun plural ‘desks’\n",
    "NNP proper noun, singular ‘Harrison’\n",
    "NNPS proper noun, plural ‘Americans’\n",
    "PDT predeterminer ‘all the kids’\n",
    "POS possessive ending parent’s\n",
    "PRP personal pronoun I, he, she\n",
    "PRP$ possessive pronoun my, his, hers\n",
    "RB adverb very, silently,\n",
    "RBR adverb, comparative better\n",
    "RBS adverb, superlative best\n",
    "RP particle give up\n",
    "TO, to go ‘to’ the store.\n",
    "UH interjection, errrrrrrrm\n",
    "VB verb, base form take\n",
    "VBD verb, past tense, took\n",
    "VBG verb, gerund/present participle taking\n",
    "VBN verb, past participle is taken\n",
    "VBP verb, sing. present, known-3d take\n",
    "VBZ verb, 3rd person sing. present takes\n",
    "WDT wh-determiner which\n",
    "WP wh-pronoun who, what\n",
    "WP$ possessive wh-pronoun whose\n",
    "WRB wh-adverb where, when\n",
    "\n",
    "```"
   ]
  },
  {
   "cell_type": "code",
   "execution_count": 157,
   "metadata": {
    "ExecuteTime": {
     "end_time": "2021-04-01T09:08:43.875504Z",
     "start_time": "2021-04-01T09:08:43.866570Z"
    }
   },
   "outputs": [
    {
     "data": {
      "text/plain": [
       "[('Mushrooms', 'NNS'), ('are', 'VBP'), ('moldy', 'JJ'), ('!', '.')]"
      ]
     },
     "execution_count": 157,
     "metadata": {},
     "output_type": "execute_result"
    }
   ],
   "source": [
    "# https://www.nltk.org/book/ch05.html\n",
    "# part of speech\n",
    "tokens = nltk.word_tokenize('Mushrooms are moldy!')\n",
    "nltk.pos_tag(tokens)"
   ]
  },
  {
   "cell_type": "code",
   "execution_count": 158,
   "metadata": {
    "ExecuteTime": {
     "end_time": "2021-04-01T09:09:47.863012Z",
     "start_time": "2021-04-01T09:09:47.858260Z"
    }
   },
   "outputs": [
    {
     "data": {
      "text/plain": [
       "['Mushrooms', 'are', 'moldy', '!']"
      ]
     },
     "execution_count": 158,
     "metadata": {},
     "output_type": "execute_result"
    }
   ],
   "source": [
    "tokens"
   ]
  },
  {
   "cell_type": "code",
   "execution_count": 85,
   "metadata": {
    "ExecuteTime": {
     "end_time": "2021-03-31T23:07:49.042893Z",
     "start_time": "2021-03-31T23:07:48.981084Z"
    }
   },
   "outputs": [
    {
     "name": "stdout",
     "output_type": "stream",
     "text": [
      "Used to be a decent product.  Disgusting now and difficult on digestion.  All 3 purchased from Costco over past couple months end in same result -- open the container and it smells like rancid oil.  Something not right about how they are making/processing this powder now.  Will not buy again.\n",
      "['decent', 'Disgusting', 'difficult', 'past', 'couple', 'same', 'Something', 'making/processing']\n",
      "\n",
      "I bought this from a local super market on a whim and decided to let people know how it tastes. I'm a huge fan of peanut butter and salted caramel.For instance, I had a Salted Caramel and Almond Kind Bar today and it was amazing. It tasted like you would expect it to taste.However, this particular product tastes like a chemical spill. It starts off with a peanut butter taste, but then the (caramel I'm guessing) tastes kind of burnt and chemical-like, and then it finishes with a very salty burnt taste.I had some on a spoon and disliked it, then I put some on pretzel bread and it was slightly palatable, but overall I would avoid this product as it doesn't really taste like salted caramel peanut butter.Just for fun, I let my co-workers taste it and only 1 out of 5 of them thought that this product tasted &#34;okay&#34;. The rest of them shared my sentiment.\n",
      "['local', 'huge', 'amazing', 'particular', 'guessing', 'salty', 'palatable', 'overall']\n",
      "\n",
      "not craze about these. nothing really wrong with them just no into them. These crackers are small so not much room for cheese.\n",
      "['wrong', 'small', 'much']\n",
      "\n",
      "This product is beautifully labelled. That's about all there is to it. The actual taste is not consistent with the flavor the label claims to represent. Just a very pretty bottle. The good news is that the failure of this product to meet my expectation served as the impetus for me to make my own syrups. Real fruit juice + Sugar\n",
      "['actual', 'consistent', 'pretty', 'good', 'own', 'Real']\n",
      "\n",
      "Not what I expected.  Did not like it at all.\n",
      "[]\n",
      "\n",
      "These use to be the best tasting bars on the market; I had one for breakfast for a good part of 5 years. But Powerbar changed the formula or something and now they are just awful. Additionally they were 2.29-Ounce but the new packaging has them at 1.58-Ounce Bars. I switched to Cliff bars.\n",
      "['best', 'good', 'awful', '2.29-Ounce', 'new', '1.58-Ounce']\n",
      "\n",
      "These dates were very old upon arrival, and for the most part dry and tasteless. No where on the packaging dos it state they are organic. Don't be fooled by the great price!\n",
      "['old', 'most', 'organic', 'great']\n",
      "\n",
      "I noticed the words 1g Sugar and bought this on the spot at a health food store, believing it was just low sugar but after reading the ingredients at home, I had to drive a long way to return it because it had sucralose in it. With sucralose, this is not a health bar. It is on the same level as nutrasweet and causes severe reactions in some people including myself. There is nothing healthy about sucralose. Stevia is a very healthy and great tasting alternative and natural sweetener but extremely hard to find in current products and if the so-called health food companies would just use it, then it could be called healthy. Also, Saccharin is a very good sweetener that has been given a bad rap for years by the FDA for supposedly causing cancer but has never been proven. I have used &#34;Sweet & Low&#34; daily for over 35 years in my coffee, tea, cereal, etc. and have had virtually no reactions ever and am cancer free! Other countries don't want America's health foods because of the awful, unhealthy ingredients. The FDA should demand that products containing splenda and nutrasweet have bold lettering on the package warning consumers. Shame on atkins. Thanks\n",
      "['believing', 'low', 'reading', 'long', 'sucralose', 'same', 'severe', 'including', 'healthy', 'sucralose', 'healthy', 'great', 'tasting', 'alternative', 'natural', 'hard', 'current', 'so-called', 'healthy', 'good', 'bad', 'causing', 'free', 'Other', 'awful', 'unhealthy', 'containing', 'warning']\n",
      "\n",
      "Es puro azucar, no tiene sabor a cas.\n",
      "[]\n",
      "\n",
      "thru it out  stale\n",
      "['stale']\n",
      "\n",
      "This item was a total joke!! 5G??? It only covered 4 cookies!!! Also it tasted terrible....AND it was NOT navy, it was royal blue!!! Stay clear of this&#34;tiny dab&#34; of glitter!!!!!\n",
      "['total', 'terrible', 'royal', 'blue', 'clear', 'tiny']\n",
      "\n",
      "I bought this product at a grocery.  Its no different than amazon would send.  I use a Cuisinart k-cup brewer with Keurig core.  Seattle's Best House Blend K-cups in my unit yield 4 oz's when the unit is set to brew 8.  And sometimes it won't brew at all.  I've had nothing like this problem with any other k-cup (Green Mountain, Starbucks, Marley, Lavazza, various Kona's).  I disassembled one k-cup and it looks like the problem may be the fineness of the grind.  Once its wet it forms an impenetrable block.  I can't comment on what this coffee tastes like because I haven't able to brew a fair cup to sample.\n",
      "['different', 'other', 'Green', 'various', 'impenetrable', 'able', 'fair']\n",
      "\n",
      "Expensive\n",
      "['Expensive']\n",
      "\n",
      "there are absolutely no instructions or recipes on pkg\n",
      "[]\n",
      "\n",
      "I loved the old formula. I sang Zevia's praises to whomever would listen. I ordered by the multiple cases. And then, they decided to go non-GMO. That's usually a good thing. Unfortunately, the new formulas are just awful. And, somehow, they managed to wreck the fizz. THE FIZZ! The new formulas go flat very quickly, especially with ice. Please, Zevia, bring back the old formulas! Now I'm off to buy Blue Sky, which had been the inferior brand but is now the only option left.\n",
      "['old', 'multiple', 'non-GMO', 'good', 'new', 'awful', 'new', 'flat', 'bring', 'old', 'inferior', 'only']\n",
      "\n",
      "I have ordered these coffee pods many times. when my husband tasted the latest batch, he said that it really lacked in flavor.When our houseguests said the same thing, I decided to post this warning. I am sending back the remaining boxes.\n",
      "['many', 'latest', 'flavor.When', 'same', 'sending', 'remaining']\n",
      "\n",
      "I got excited when I saw this toddler meal as it sounds just what my baby would love to eat (we are going on a 18 hour flight so I'm looking for snacks and meals for him.) I ordered some of these, only to realize it has PARTIALLY HYDROGENATED SOYBEAN OIL. Really?! Do you need carcinogens in a toddler meal?! And the soybean oil is probably GMO too, as I noticed (too late) it didn't say it wasn't.Thanks but no thanks. My baby is not eating this.\n",
      "['excited', 'going', 'looking', 'soybean', 'eating']\n",
      "\n",
      "The chocolate was white and tasted old. I could not eat them and threw them away.\n",
      "['white', 'tasted', 'old']\n",
      "\n",
      "I had to throw away one 8 pack of this juice because it was moldy and I didn't want to unwrap the pack and be exposed to the mold. Not sure why this happened. I had purchased this product before and been very happy.\n",
      "['moldy', 'sure', 'happy']\n",
      "\n",
      "The marshmallow bags were difficult to open.  The marshmallows were melted and stuck not only to themselves but the bags.  These were meant to be added to a snack mix for a child's birthday party.  I was unable to use them because they were one/a few big globs of marshmallow and because of that they did not resemble ice cream cones nor did they work for the snack mix.  Very disappointed.\n",
      "['difficult', 'birthday', 'unable', 'few', 'big', 'resemble', 'disappointed']\n",
      "\n",
      "why does the reese's company lie to us? it is not the peanut butter in the reese's peanut butter cup.\n",
      "[]\n",
      "\n",
      "It was 3 days before its expiration date and yep, tasted stale.\n",
      "[]\n",
      "\n",
      "My goal was to try and match a Starbucks Vanilla Latte, and unfortunately this tasted nothing like it.  Would not buy again.\n",
      "[]\n",
      "\n",
      "Poor quality and quantity, think small then think smaller.  Looking for kids lunches and this was not the right fit at all.\n",
      "['small', 'smaller', 'Looking', 'right']\n",
      "\n",
      "Very Disappointed with this product. Packagaing stated 48 bars, 8 of each type. We received 42 bars, NO strawberry and 10 grape. Would NOT buy this again or recommend it to others!\n",
      "['Disappointed', 'Packagaing']\n",
      "\n",
      "Product was not as described:  The description is for dark chocolate with almonds, but I received only a mixture of various kinds of bars (caramel, crunch, etc.) -- but NONE with almonds.\n",
      "['dark', 'various']\n",
      "\n"
     ]
    }
   ],
   "source": [
    "# take the adjs from the comments with 1 star\n",
    "for line in df[df['star_rating'] == 1]['review_body']:\n",
    "    line = line.replace('<br />', '')\n",
    "    \n",
    "    tokens = nltk.word_tokenize(line)\n",
    "    tags = nltk.pos_tag(tokens)\n",
    "    rags_select = []\n",
    "    for tag in tags:\n",
    "        if tag[1] in ['JJ', 'JJR', 'JJS', 'VBG']:\n",
    "            rags_select.append(tag[0])\n",
    "    \n",
    "    print(line)\n",
    "    print(rags_select)\n",
    "    \n",
    "    print('')"
   ]
  },
  {
   "cell_type": "code",
   "execution_count": 159,
   "metadata": {
    "ExecuteTime": {
     "end_time": "2021-04-01T09:12:17.956854Z",
     "start_time": "2021-04-01T09:12:17.947351Z"
    },
    "scrolled": true
   },
   "outputs": [
    {
     "name": "stdout",
     "output_type": "stream",
     "text": [
      "\n",
      "The titular threat of The Blob has always struck me as the ultimate movie\n",
      "monster: an insatiably hungry, amoeba-like mass able to penetrate\n",
      "virtually any safeguard, capable of--as a doomed doctor chillingly\n",
      "describes it--\"assimilating flesh on contact. 0.06000000000000001 0.605\n",
      "\n",
      "Snide comparisons to gelatin be damned, it's a concept with the most\n",
      "devastating of potential consequences, not unlike the grey goo scenario\n",
      "proposed by technological theorists fearful of\n",
      "artificial intelligence run rampant. -0.34166666666666673 0.7666666666666666\n",
      "\n"
     ]
    }
   ],
   "source": [
    "from textblob import TextBlob\n",
    "\n",
    "# https://textblob.readthedocs.io/en/dev/\n",
    "text = '''\n",
    "The titular threat of The Blob has always struck me as the ultimate movie\n",
    "monster: an insatiably hungry, amoeba-like mass able to penetrate\n",
    "virtually any safeguard, capable of--as a doomed doctor chillingly\n",
    "describes it--\"assimilating flesh on contact.\n",
    "Snide comparisons to gelatin be damned, it's a concept with the most\n",
    "devastating of potential consequences, not unlike the grey goo scenario\n",
    "proposed by technological theorists fearful of\n",
    "artificial intelligence run rampant.\n",
    "'''\n",
    "\n",
    "blob = TextBlob(text)\n",
    "\n",
    "for sentence in blob.sentences:\n",
    "    # sentence.sentiment.polarity\n",
    "    # sentence.sentiment.subjectivity \n",
    "    print(sentence, sentence.sentiment.polarity, sentence.sentiment.subjectivity)\n",
    "    print('')"
   ]
  },
  {
   "cell_type": "code",
   "execution_count": 108,
   "metadata": {
    "ExecuteTime": {
     "end_time": "2021-03-31T23:31:20.220478Z",
     "start_time": "2021-03-31T23:31:20.149449Z"
    }
   },
   "outputs": [
    {
     "name": "stdout",
     "output_type": "stream",
     "text": [
      "Used to be a decent product. 0.16666666666666666 0.6666666666666666\n",
      "\n",
      "Disgusting now and difficult on digestion. -0.75 1.0\n",
      "\n",
      "All 3 purchased from Costco over past couple months end in same result -- open the container and it smells like rancid oil. -0.08333333333333333 0.2916666666666667\n",
      "\n",
      "Something not right about how they are making/processing this powder now. -0.14285714285714285 0.5357142857142857\n",
      "\n",
      "Will not buy again. 0.0 0.0\n",
      "\n",
      "\n",
      "I bought this from a local super market on a whim and decided to let people know how it tastes. 0.16666666666666666 0.3333333333333333\n",
      "\n",
      "I'm a huge fan of peanut butter and salted caramel.For instance, I had a Salted Caramel and Almond Kind Bar today and it was amazing. 0.5333333333333333 0.9\n",
      "\n",
      "It tasted like you would expect it to taste.However, this particular product tastes like a chemical spill. 0.16666666666666666 0.3333333333333333\n",
      "\n",
      "It starts off with a peanut butter taste, but then the (caramel I'm guessing) tastes kind of burnt and chemical-like, and then it finishes with a very salty burnt taste.I had some on a spoon and disliked it, then I put some on pretzel bread and it was slightly palatable, but overall I would avoid this product as it doesn't really taste like salted caramel peanut butter.Just for fun, I let my co-workers taste it and only 1 out of 5 of them thought that this product tasted &#34;okay&#34;. 0.1166666666666667 0.42083333333333334\n",
      "\n",
      "The rest of them shared my sentiment. 0.0 0.0\n",
      "\n",
      "\n",
      "not craze about these. 0.0 0.0\n",
      "\n",
      "nothing really wrong with them just no into them. -0.5 0.9\n",
      "\n",
      "These crackers are small so not much room for cheese. -0.175 0.30000000000000004\n",
      "\n",
      "\n",
      "This product is beautifully labelled. 0.85 1.0\n",
      "\n",
      "That's about all there is to it. 0.0 0.0\n",
      "\n",
      "The actual taste is not consistent with the flavor the label claims to represent. -0.0625 0.175\n",
      "\n",
      "Just a very pretty bottle. 0.325 1.0\n",
      "\n",
      "The good news is that the failure of this product to meet my expectation served as the impetus for me to make my own syrups. 0.3277777777777777 0.6333333333333334\n",
      "\n",
      "Real fruit juice + Sugar 0.2 0.30000000000000004\n",
      "\n",
      "\n",
      "Not what I expected. -0.1 0.4\n",
      "\n",
      "Did not like it at all. 0.0 0.0\n",
      "\n",
      "\n",
      "These use to be the best tasting bars on the market; I had one for breakfast for a good part of 5 years. 0.85 0.45000000000000007\n",
      "\n",
      "But Powerbar changed the formula or something and now they are just awful. -1.0 1.0\n",
      "\n",
      "Additionally they were 2.29-Ounce but the new packaging has them at 1.58-Ounce Bars. 0.13636363636363635 0.45454545454545453\n",
      "\n",
      "I switched to Cliff bars. 0.0 0.0\n",
      "\n",
      "\n",
      "These dates were very old upon arrival, and for the most part dry and tasteless. -0.009166666666666656 0.565\n",
      "\n",
      "No where on the packaging dos it state they are organic. 0.0 0.0\n",
      "\n",
      "Don't be fooled by the great price! 1.0 0.75\n",
      "\n",
      "\n",
      "I noticed the words 1g Sugar and bought this on the spot at a health food store, believing it was just low sugar but after reading the ingredients at home, I had to drive a long way to return it because it had sucralose in it. -0.025 0.35\n",
      "\n",
      "With sucralose, this is not a health bar. 0.0 0.0\n",
      "\n",
      "It is on the same level as nutrasweet and causes severe reactions in some people including myself. 0.0 0.125\n",
      "\n",
      "There is nothing healthy about sucralose. 0.5 0.5\n",
      "\n",
      "Stevia is a very healthy and great tasting alternative and natural sweetener but extremely hard to find in current products and if the so-called health food companies would just use it, then it could be called healthy. 0.29305555555555557 0.5402777777777777\n",
      "\n",
      "Also, Saccharin is a very good sweetener that has been given a bad rap for years by the FDA for supposedly causing cancer but has never been proven. 0.10500000000000004 0.7233333333333334\n",
      "\n",
      "I have used &#34;Sweet & Low&#34; daily for over 35 years in my coffee, tea, cereal, etc. 0.0 0.0\n",
      "\n",
      "and have had virtually no reactions ever and am cancer free! 0.5 0.8\n",
      "\n",
      "Other countries don't want America's health foods because of the awful, unhealthy ingredients. -0.5083333333333333 0.6916666666666668\n",
      "\n",
      "The FDA should demand that products containing splenda and nutrasweet have bold lettering on the package warning consumers. 0.3333333333333333 0.6666666666666666\n",
      "\n",
      "Shame on atkins. 0.0 0.0\n",
      "\n",
      "Thanks 0.2 0.2\n",
      "\n",
      "\n",
      "Es puro azucar, no tiene sabor a cas. 0.0 0.0\n",
      "\n",
      "\n",
      "thru it out  stale -0.5 0.5\n",
      "\n",
      "\n",
      "This item was a total joke!! 0.0 0.75\n",
      "\n",
      "5G??? 0.0 0.0\n",
      "\n",
      "It only covered 4 cookies!!! 0.0 1.0\n",
      "\n",
      "Also it tasted terrible....AND it was NOT navy, it was royal blue!!! 0.0 0.1\n",
      "\n",
      "Stay clear of this&#34;tiny dab&#34; of glitter!!!! 0.24414062500000003 0.3833333333333333\n",
      "\n",
      "! 0.0 0.0\n",
      "\n",
      "\n",
      "I bought this product at a grocery. 0.0 0.0\n",
      "\n",
      "Its no different than amazon would send. 0.0 0.6\n",
      "\n",
      "I use a Cuisinart k-cup brewer with Keurig core. 0.0 0.0\n",
      "\n",
      "Seattle's Best House Blend K-cups in my unit yield 4 oz's when the unit is set to brew 8. 1.0 0.3\n",
      "\n",
      "And sometimes it won't brew at all. 0.0 0.0\n",
      "\n",
      "I've had nothing like this problem with any other k-cup (Green Mountain, Starbucks, Marley, Lavazza, various Kona's). -0.10833333333333334 0.39166666666666666\n",
      "\n",
      "I disassembled one k-cup and it looks like the problem may be the fineness of the grind. 0.0 0.0\n",
      "\n",
      "Once its wet it forms an impenetrable block. -0.1 0.4\n",
      "\n",
      "I can't comment on what this coffee tastes like because I haven't able to brew a fair cup to sample. 0.6 0.7625\n",
      "\n",
      "\n",
      "Expensive -0.5 0.7\n",
      "\n",
      "\n",
      "there are absolutely no instructions or recipes on pkg -0.1 0.9\n",
      "\n",
      "\n",
      "I loved the old formula. 0.39999999999999997 0.5\n",
      "\n",
      "I sang Zevia's praises to whomever would listen. 0.0 0.0\n",
      "\n",
      "I ordered by the multiple cases. 0.0 0.0\n",
      "\n",
      "And then, they decided to go non-GMO. 0.0 0.0\n",
      "\n",
      "That's usually a good thing. 0.7 0.6000000000000001\n",
      "\n",
      "Unfortunately, the new formulas are just awful. -0.4545454545454546 0.8181818181818182\n",
      "\n",
      "And, somehow, they managed to wreck the fizz. 0.0 0.0\n",
      "\n",
      "THE FIZZ! 0.0 0.0\n",
      "\n",
      "The new formulas go flat very quickly, especially with ice. 0.03712121212121212 0.5265151515151515\n",
      "\n",
      "Please, Zevia, bring back the old formulas! 0.0625 0.1\n",
      "\n",
      "Now I'm off to buy Blue Sky, which had been the inferior brand but is now the only option left. 0.0 0.3666666666666667\n",
      "\n",
      "\n",
      "I have ordered these coffee pods many times. 0.5 0.5\n",
      "\n",
      "when my husband tasted the latest batch, he said that it really lacked in flavor.When our houseguests said the same thing, I decided to post this warning. 0.2333333333333333 0.4083333333333334\n",
      "\n",
      "I am sending back the remaining boxes. 0.0 0.0\n",
      "\n",
      "\n",
      "I got excited when I saw this toddler meal as it sounds just what my baby would love to eat (we are going on a 18 hour flight so I'm looking for snacks and meals for him.) 0.4375 0.675\n",
      "\n",
      "I ordered some of these, only to realize it has PARTIALLY HYDROGENATED SOYBEAN OIL. -0.05 0.65\n",
      "\n",
      "Really?! 0.25 0.2\n",
      "\n",
      "Do you need carcinogens in a toddler meal?! 0.0 0.0\n",
      "\n",
      "And the soybean oil is probably GMO too, as I noticed (too late) it didn't say it wasn't.Thanks but no thanks. -0.2 0.4\n",
      "\n",
      "My baby is not eating this. 0.0 0.0\n",
      "\n",
      "\n",
      "The chocolate was white and tasted old. 0.05 0.1\n",
      "\n",
      "I could not eat them and threw them away. 0.0 0.0\n",
      "\n",
      "\n",
      "I had to throw away one 8 pack of this juice because it was moldy and I didn't want to unwrap the pack and be exposed to the mold. 0.0 0.0\n",
      "\n",
      "Not sure why this happened. -0.25 0.8888888888888888\n",
      "\n",
      "I had purchased this product before and been very happy. 1.0 1.0\n",
      "\n",
      "\n",
      "The marshmallow bags were difficult to open. -0.25 0.75\n",
      "\n",
      "The marshmallows were melted and stuck not only to themselves but the bags. 0.0 1.0\n",
      "\n",
      "These were meant to be added to a snack mix for a child's birthday party. 0.0 0.0\n",
      "\n",
      "I was unable to use them because they were one/a few big globs of marshmallow and because of that they did not resemble ice cream cones nor did they work for the snack mix. -0.2333333333333333 0.2333333333333333\n",
      "\n",
      "Very disappointed. -0.9750000000000001 0.9750000000000001\n",
      "\n",
      "\n",
      "why does the reese's company lie to us? 0.0 0.0\n",
      "\n",
      "it is not the peanut butter in the reese's peanut butter cup. 0.0 0.0\n",
      "\n",
      "\n",
      "It was 3 days before its expiration date and yep, tasted stale. -0.5 0.5\n",
      "\n",
      "\n",
      "My goal was to try and match a Starbucks Vanilla Latte, and unfortunately this tasted nothing like it. -0.5 1.0\n",
      "\n",
      "Would not buy again. 0.0 0.0\n",
      "\n",
      "\n",
      "Poor quality and quantity, think small then think smaller. -0.21666666666666667 0.5\n",
      "\n",
      "Looking for kids lunches and this was not the right fit at all. 0.34285714285714286 0.46785714285714286\n",
      "\n",
      "\n",
      "Very Disappointed with this product. -0.9750000000000001 0.9750000000000001\n",
      "\n",
      "Packagaing stated 48 bars, 8 of each type. 0.0 0.0\n",
      "\n",
      "We received 42 bars, NO strawberry and 10 grape. 0.0 0.0\n",
      "\n",
      "Would NOT buy this again or recommend it to others! 0.0 0.0\n",
      "\n",
      "\n",
      "Product was not as described:  The description is for dark chocolate with almonds, but I received only a mixture of various kinds of bars (caramel, crunch, etc.) -0.049999999999999996 0.6333333333333333\n",
      "\n",
      "-- but NONE with almonds. 0.0 0.0\n",
      "\n",
      "\n"
     ]
    }
   ],
   "source": [
    "for line in df[df['star_rating'] == 1]['review_body']:\n",
    "    line = line.replace('<br />', '')\n",
    "    \n",
    "    blob = TextBlob(line)\n",
    "    for sentence in blob.sentences:\n",
    "        print(sentence, sentence.sentiment.polarity, sentence.sentiment.subjectivity)\n",
    "        print('')\n",
    "    \n",
    "    print('')"
   ]
  },
  {
   "cell_type": "code",
   "execution_count": 109,
   "metadata": {
    "ExecuteTime": {
     "end_time": "2021-03-31T23:35:04.140765Z",
     "start_time": "2021-03-31T23:35:04.085357Z"
    },
    "scrolled": true
   },
   "outputs": [
    {
     "name": "stdout",
     "output_type": "stream",
     "text": [
      "Disgusting now and difficult on digestion. -0.75 1.0\n",
      "\n",
      "All 3 purchased from Costco over past couple months end in same result -- open the container and it smells like rancid oil. -0.08333333333333333 0.2916666666666667\n",
      "\n",
      "Something not right about how they are making/processing this powder now. -0.14285714285714285 0.5357142857142857\n",
      "\n",
      "\n",
      "\n",
      "nothing really wrong with them just no into them. -0.5 0.9\n",
      "\n",
      "These crackers are small so not much room for cheese. -0.175 0.30000000000000004\n",
      "\n",
      "\n",
      "The actual taste is not consistent with the flavor the label claims to represent. -0.0625 0.175\n",
      "\n",
      "\n",
      "Not what I expected. -0.1 0.4\n",
      "\n",
      "\n",
      "But Powerbar changed the formula or something and now they are just awful. -1.0 1.0\n",
      "\n",
      "\n",
      "These dates were very old upon arrival, and for the most part dry and tasteless. -0.009166666666666656 0.565\n",
      "\n",
      "\n",
      "I noticed the words 1g Sugar and bought this on the spot at a health food store, believing it was just low sugar but after reading the ingredients at home, I had to drive a long way to return it because it had sucralose in it. -0.025 0.35\n",
      "\n",
      "Other countries don't want America's health foods because of the awful, unhealthy ingredients. -0.5083333333333333 0.6916666666666668\n",
      "\n",
      "\n",
      "\n",
      "thru it out  stale -0.5 0.5\n",
      "\n",
      "\n",
      "\n",
      "I've had nothing like this problem with any other k-cup (Green Mountain, Starbucks, Marley, Lavazza, various Kona's). -0.10833333333333334 0.39166666666666666\n",
      "\n",
      "Once its wet it forms an impenetrable block. -0.1 0.4\n",
      "\n",
      "\n",
      "Expensive -0.5 0.7\n",
      "\n",
      "\n",
      "there are absolutely no instructions or recipes on pkg -0.1 0.9\n",
      "\n",
      "\n",
      "Unfortunately, the new formulas are just awful. -0.4545454545454546 0.8181818181818182\n",
      "\n",
      "\n",
      "\n",
      "I ordered some of these, only to realize it has PARTIALLY HYDROGENATED SOYBEAN OIL. -0.05 0.65\n",
      "\n",
      "And the soybean oil is probably GMO too, as I noticed (too late) it didn't say it wasn't.Thanks but no thanks. -0.2 0.4\n",
      "\n",
      "\n",
      "\n",
      "Not sure why this happened. -0.25 0.8888888888888888\n",
      "\n",
      "\n",
      "The marshmallow bags were difficult to open. -0.25 0.75\n",
      "\n",
      "I was unable to use them because they were one/a few big globs of marshmallow and because of that they did not resemble ice cream cones nor did they work for the snack mix. -0.2333333333333333 0.2333333333333333\n",
      "\n",
      "Very disappointed. -0.9750000000000001 0.9750000000000001\n",
      "\n",
      "\n",
      "\n",
      "It was 3 days before its expiration date and yep, tasted stale. -0.5 0.5\n",
      "\n",
      "\n",
      "My goal was to try and match a Starbucks Vanilla Latte, and unfortunately this tasted nothing like it. -0.5 1.0\n",
      "\n",
      "\n",
      "Poor quality and quantity, think small then think smaller. -0.21666666666666667 0.5\n",
      "\n",
      "\n",
      "Very Disappointed with this product. -0.9750000000000001 0.9750000000000001\n",
      "\n",
      "\n",
      "Product was not as described:  The description is for dark chocolate with almonds, but I received only a mixture of various kinds of bars (caramel, crunch, etc.) -0.049999999999999996 0.6333333333333333\n",
      "\n",
      "\n"
     ]
    }
   ],
   "source": [
    "for line in df[df['star_rating'] == 1]['review_body']:\n",
    "    line = line.replace('<br />', '')\n",
    "    \n",
    "    blob = TextBlob(line)\n",
    "    for sentence in blob.sentences:\n",
    "        if sentence.sentiment.polarity >= 0:\n",
    "            continue\n",
    "            \n",
    "        print(sentence, sentence.sentiment.polarity, sentence.sentiment.subjectivity)\n",
    "        print('')\n",
    "    \n",
    "    print('')"
   ]
  },
  {
   "cell_type": "code",
   "execution_count": null,
   "metadata": {},
   "outputs": [],
   "source": []
  }
 ],
 "metadata": {
  "kernelspec": {
   "display_name": "Python 3",
   "language": "python",
   "name": "python3"
  },
  "language_info": {
   "codemirror_mode": {
    "name": "ipython",
    "version": 3
   },
   "file_extension": ".py",
   "mimetype": "text/x-python",
   "name": "python",
   "nbconvert_exporter": "python",
   "pygments_lexer": "ipython3",
   "version": "3.7.4"
  },
  "toc": {
   "base_numbering": 1,
   "nav_menu": {},
   "number_sections": true,
   "sideBar": true,
   "skip_h1_title": false,
   "title_cell": "Table of Contents",
   "title_sidebar": "Contents",
   "toc_cell": false,
   "toc_position": {},
   "toc_section_display": true,
   "toc_window_display": false
  }
 },
 "nbformat": 4,
 "nbformat_minor": 2
}
